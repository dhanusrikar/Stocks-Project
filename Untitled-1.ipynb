{
    "cells": [
        {
            "cell_type": "code",
            "execution_count": 2,
            "source": [
                "print('hello')"
            ],
            "outputs": [
                {
                    "output_type": "stream",
                    "name": "stdout",
                    "text": [
                        "hello\n"
                    ]
                }
            ],
            "metadata": {}
        },
        {
            "cell_type": "code",
            "execution_count": 3,
            "source": [
                "import requests\r\n",
                "from bs4 import BeautifulSoup"
            ],
            "outputs": [],
            "metadata": {}
        },
        {
            "cell_type": "code",
            "execution_count": 4,
            "source": [
                "import numpy as np\r\n",
                "import pandas as pd\r\n",
                "import json\r\n",
                "import csv\r\n",
                "from google.oauth2 import service_account\r\n",
                "import pygsheets"
            ],
            "outputs": [],
            "metadata": {}
        },
        {
            "cell_type": "code",
            "execution_count": 6,
            "source": [
                "import gspread\r\n",
                "from oauth2client.service_account import ServiceAccountCredentials\r\n",
                "scope = [\"https://www.googleapis.com/auth/drive\", \"https://spreadsheets.google.com/feeds\"]\r\n",
                "credentials = ServiceAccountCredentials.from_json_keyfile_name('D:\\studies\\stocks project\\Stocks-Project\\service.json', scope)\r\n",
                "gc = gspread.authorize(credentials)"
            ],
            "outputs": [],
            "metadata": {}
        },
        {
            "cell_type": "code",
            "execution_count": 7,
            "source": [
                "wb = gc.open('StocksProject')\r\n",
                "worksheet = wb.worksheet('2000')"
            ],
            "outputs": [],
            "metadata": {}
        },
        {
            "cell_type": "markdown",
            "source": [
                "Web Scraping"
            ],
            "metadata": {}
        },
        {
            "cell_type": "code",
            "execution_count": 93,
            "source": [
                "def find_symbol(name):\r\n",
                "    s = \"\"\r\n",
                "    for x in name:\r\n",
                "        if(x == \" \" or x==\".\"):\r\n",
                "            s += \"+\"\r\n",
                "        elif(x == '&'):\r\n",
                "            s += \"%26\"\r\n",
                "        else:\r\n",
                "            s += x\r\n",
                "    if(s[-1] == '+'):\r\n",
                "        s = s + \"nse\"\r\n",
                "    else:\r\n",
                "        s = s + \"+nse\"\r\n",
                "    found = 0\r\n",
                "    symbol = \"NA\"\r\n",
                "    url = \"https://www.google.com/search?q=\" + s\r\n",
                "    print(s)\r\n",
                "    result  = requests.get(url)\r\n",
                "    src = result.content\r\n",
                "    soup = BeautifulSoup(src, \"html.parser\")\r\n",
                "    spans = soup.find_all('span')\r\n",
                "    lines = [span.get_text() for span in spans]\r\n",
                "    for i in lines:\r\n",
                "        if '(NSE)' in i:\r\n",
                "            symbol = i\r\n",
                "            found = 1\r\n",
                "            break\r\n",
                "    if(found == 1):\r\n",
                "        return symbol[:len(symbol)-5].upper()\r\n",
                "        \r\n",
                "    if(found == 0):\r\n",
                "        x = soup.find_all('a')\r\n",
                "        mc_number = 111111\r\n",
                "        nse_number = 111111\r\n",
                "        mc_symbol = \"not found\"\r\n",
                "        nse_symbol = \"not found\"\r\n",
                "        for i in x:\r\n",
                "            if('www1.nseindia.com/live_market/dynaContent' in i.attrs['href']):\r\n",
                "                nse_number = x.index(i)\r\n",
                "                li = str(i.attrs['href'])\r\n",
                "                nse_symbol = li[102:li.find('&')]\r\n",
                "                found = 1\r\n",
                "                break\r\n",
                "        \r\n",
                "        for i in x:\r\n",
                "            if('www.moneycontrol.com' in i.attrs['href']):\r\n",
                "                mc_number = x.index(i)\r\n",
                "                link = str(i.attrs['href'])\r\n",
                "                n = link.find('/', 58) + 1\r\n",
                "                cut_link = link[(n):]\r\n",
                "                x = cut_link.find('/') + 1\r\n",
                "                y = cut_link.find('&')\r\n",
                "                mc_symbol = cut_link[x:y]\r\n",
                "                found = 1\r\n",
                "                break\r\n",
                "        \r\n",
                "        if found == 1:\r\n",
                "            if(nse_number < mc_number):\r\n",
                "                symbol = nse_symbol\r\n",
                "            else:\r\n",
                "                symbol = mc_symbol\r\n",
                "    if(found == 1):\r\n",
                "        return symbol.upper()\r\n",
                "    else:\r\n",
                "        return \"not found\"\r\n",
                "\r\n"
            ],
            "outputs": [],
            "metadata": {}
        },
        {
            "cell_type": "markdown",
            "source": [
                "testing function"
            ],
            "metadata": {}
        },
        {
            "cell_type": "code",
            "execution_count": 95,
            "source": [
                "com = 'icici bank'\r\n",
                "# print(com[:len(com)-5])\r\n",
                "print(find_symbol(com))"
            ],
            "outputs": [
                {
                    "output_type": "stream",
                    "name": "stdout",
                    "text": [
                        "icici+bank+nse\n",
                        "ICICIBANK\n"
                    ]
                }
            ],
            "metadata": {}
        },
        {
            "cell_type": "code",
            "execution_count": 105,
            "source": [
                "src_excel_file = 'company_original.xlsx'\r\n",
                "nifty_1995 = pd.read_excel(src_excel_file, sheet_name = '1995', engine = 'openpyxl')\r\n",
                "nifty_changes = pd.read_excel(src_excel_file, sheet_name = 'Changes', engine = 'openpyxl')\r\n",
                "# print(nifty_1995.shape)"
            ],
            "outputs": [],
            "metadata": {}
        },
        {
            "cell_type": "markdown",
            "source": [
                "SYMBOLS OF NIFTY 50 - 1995"
            ],
            "metadata": {}
        },
        {
            "cell_type": "code",
            "execution_count": null,
            "source": [
                "# for i in range(0, len(nifty_1995['Company Name'])):\r\n",
                "#     nifty_1995.iloc[i, 1] = find_symbol(nifty_1995.iloc[i,0])\r\n",
                "#     print(nifty_1995['Company Name'][i], \"\\t\\t\\t\", nifty_1995.iloc[i, 1])\r\n",
                "# print(nifty_1995.iloc[1,0])"
            ],
            "outputs": [],
            "metadata": {}
        },
        {
            "cell_type": "markdown",
            "source": [
                "SYMBOLS OF INCLUDED INDECIES"
            ],
            "metadata": {}
        },
        {
            "cell_type": "code",
            "execution_count": null,
            "source": [
                "# for i in range(0, len(nifty_changes['Included in Index'])):\r\n",
                "#     if(pd.isnull(nifty_changes.iloc[i,1])):\r\n",
                "#         continue\r\n",
                "#     nifty_changes.iloc[i, 2] = find_symbol(nifty_changes.iloc[i,1])\r\n",
                "#     print(nifty_changes['Included in Index'][i], \"\\t\\t\\t\", nifty_changes.iloc[i, 2])"
            ],
            "outputs": [],
            "metadata": {}
        },
        {
            "cell_type": "markdown",
            "source": [
                "SYMBOLS OF EXCLUDED INDECIES"
            ],
            "metadata": {}
        },
        {
            "cell_type": "code",
            "execution_count": null,
            "source": [
                "# for i in range(0, len(nifty_changes['Excluded from Index'])):\r\n",
                "#     if(pd.isnull(nifty_changes.iloc[i,3])):\r\n",
                "#         continue\r\n",
                "#     nifty_changes.iloc[i, 4] = find_symbol(nifty_changes.iloc[i,3])\r\n",
                "#     print(nifty_changes['Excluded from Index'][i], \"\\t\\t\\t\", nifty_changes.iloc[i, 4])"
            ],
            "outputs": [],
            "metadata": {}
        },
        {
            "cell_type": "markdown",
            "source": [
                "SHEET NAMES WITH DATA FRAMES"
            ],
            "metadata": {}
        },
        {
            "cell_type": "code",
            "execution_count": 113,
            "source": [
                "dfs = {'changes' : nifty_changes, '1995': nifty_1995}"
            ],
            "outputs": [
                {
                    "output_type": "stream",
                    "name": "stdout",
                    "text": [
                        "changes\n",
                        "1995\n"
                    ]
                }
            ],
            "metadata": {}
        },
        {
            "cell_type": "markdown",
            "source": [
                "STORING DATAFRAMES"
            ],
            "metadata": {}
        },
        {
            "cell_type": "code",
            "execution_count": 114,
            "source": [
                "writer = pd.ExcelWriter('test.xlsx', engine='openpyxl')\r\n",
                "# print(nifty_1995)\r\n",
                "for i in dfs.keys():\r\n",
                "    dfs[i].to_excel(writer, sheet_name = i, index = False)\r\n",
                "writer.save()\r\n",
                "# nifty_1995.to_excel(writer, sheet_name = '1995')"
            ],
            "outputs": [],
            "metadata": {}
        },
        {
            "cell_type": "code",
            "execution_count": 128,
            "source": [
                "year_list = []\r\n",
                "for i in range(0, len(nifty_changes.Year)):\r\n",
                "    if(not pd.isnull(nifty_changes.Year[i])):\r\n",
                "        x = int(nifty_changes.Year[i])\r\n",
                "        year_list.append(str(x))\r\n",
                "print(year_list)"
            ],
            "outputs": [
                {
                    "output_type": "stream",
                    "name": "stdout",
                    "text": [
                        "['1996', '1997', '1998', '1999', '2000', '2002', '2003', '2004', '2005', '2006', '2007', '2008', '2009', '2010', '2011', '2012', '2013', '2014', '2015', '2016', '2017', '2018', '2019', '2020']\n"
                    ]
                }
            ],
            "metadata": {}
        },
        {
            "cell_type": "code",
            "execution_count": 144,
            "source": [
                "# dfs['changes'].head()\r\n",
                "for i in dfs.keys():\r\n",
                "    print(i)"
            ],
            "outputs": [
                {
                    "output_type": "stream",
                    "name": "stdout",
                    "text": [
                        "changes\n",
                        "1995\n",
                        "1996\n",
                        "1997\n",
                        "1998\n",
                        "1999\n",
                        "2000\n",
                        "2002\n",
                        "2003\n",
                        "2004\n",
                        "2005\n",
                        "2006\n",
                        "2007\n",
                        "2008\n",
                        "2009\n",
                        "2010\n",
                        "2011\n",
                        "2012\n",
                        "2013\n",
                        "2014\n",
                        "2015\n",
                        "2016\n",
                        "2017\n",
                        "2018\n",
                        "2019\n"
                    ]
                }
            ],
            "metadata": {}
        },
        {
            "cell_type": "code",
            "execution_count": 182,
            "source": [
                "# nifty_changes.head()\r\n",
                "f = dfs['1999'].copy()\r\n",
                "f"
            ],
            "outputs": [
                {
                    "output_type": "execute_result",
                    "data": {
                        "text/plain": [
                            "{'Company Name': ['I T C Ltd.',\n",
                            "  'HDFC Bank Ltd.',\n",
                            "  'State Bank of India',\n",
                            "  'HDFC Ltd.',\n",
                            "  'Tata Motors Ltd.',\n",
                            "  'Hindalco Industries Ltd.',\n",
                            "  'Tata Steel Ltd.',\n",
                            "  'Hindustan Unilever Ltd.',\n",
                            "  'INDIAN PETROCHEMICALS CORP.LTD',\n",
                            "  'Reliance Industries Ltd.',\n",
                            "  'Glaxo (India) Ltd',\n",
                            "  'Nestle India Limited',\n",
                            "  'Cipla Ltd',\n",
                            "  'Hero Honda Motors Limited',\n",
                            "  'Zee Telefilms Ltd',\n",
                            "  'Bharat Petroleum Corporation Ltd',\n",
                            "  'HCL Technologies Ltd',\n",
                            "  'Shipping Corporation of India Ltd',\n",
                            "  'Sun Pharmaceutical Industries Ltd',\n",
                            "  'Wipro Ltd',\n",
                            "  'Steel Authority of India Ltd',\n",
                            "  'Bharti Tele-Ventures Ltd',\n",
                            "  'Larsen & Toubro Ltd',\n",
                            "  'Maruti Udyog Limited',\n",
                            "  'Jet Airways (India) Ltd',\n",
                            "  'DLF Ltd',\n",
                            "  'Reliance Power Ltd',\n",
                            "  'Axis Bank Ltd',\n",
                            "  'Reliance Capital Ltd',\n",
                            "  'Bajaj Auto Ltd',\n",
                            "  \"Dr. Reddy's Laboratories Ltd\",\n",
                            "  'Kotak Mahindra Bank Ltd',\n",
                            "  'Sesa Goa Limited',\n",
                            "  'Coal India Ltd',\n",
                            "  'Asian Paints Ltd',\n",
                            "  'Lupin Ltd',\n",
                            "  'UltraTech Cement Ltd',\n",
                            "  'NMDC Ltd',\n",
                            "  'Wipro Ltd',\n",
                            "  'United Spirits Ltd',\n",
                            "  'Zee Entertainment Enterprises Ltd',\n",
                            "  'Idea Cellular Ltd',\n",
                            "  'Aurobindo Pharma Ltd',\n",
                            "  'Bharti Infratel Ltd',\n",
                            "  'Tata Motors Ltd DVR',\n",
                            "  'Indiabulls Housing Finance Ltd',\n",
                            "  'Indian Oil Corporation Ltd',\n",
                            "  'UPL Ltd',\n",
                            "  'Vedanta Ltd',\n",
                            "  nan,\n",
                            "  'Bajaj Finserv Ltd',\n",
                            "  'Grasim Industries Ltd',\n",
                            "  'JSW Steel Ltd',\n",
                            "  'Titan Company Ltd',\n",
                            "  'Britannia Industries Ltd',\n",
                            "  'Nestle India Ltd',\n",
                            "  'Shree Cement Ltd'],\n",
                            " 'symbol': ['ITC',\n",
                            "  'HDFCBANK',\n",
                            "  'SBIN',\n",
                            "  'HDFC',\n",
                            "  'TATAMOTORS',\n",
                            "  'HINDALCO',\n",
                            "  'TATASTEEL',\n",
                            "  'HINDUNILVR',\n",
                            "  'IPC',\n",
                            "  'RELIANCE',\n",
                            "  'EIH',\n",
                            "  'M&M',\n",
                            "  'CIPLA',\n",
                            "  'HEROMOTOCO',\n",
                            "  'INFY',\n",
                            "  'BPCL',\n",
                            "  'HCLTECH',\n",
                            "  'ICICIBANK',\n",
                            "  'SUNPHARMA',\n",
                            "  'TC17',\n",
                            "  'GAIL',\n",
                            "  'BA08',\n",
                            "  'LT',\n",
                            "  'MARUTI',\n",
                            "  'ONGC',\n",
                            "  'TCS',\n",
                            "  'NTPC',\n",
                            "  'POWERGRID',\n",
                            "  'AXISBANK',\n",
                            "  'IDF',\n",
                            "  'BAJAJ-AUTO',\n",
                            "  'DRREDDY',\n",
                            "  'KOTAKBANK',\n",
                            "  'VEDL',\n",
                            "  'COALINDIA',\n",
                            "  'ASIANPAINT',\n",
                            "  'ULTRACEMCO',\n",
                            "  'INDUSINDBK',\n",
                            "  'WIPRO',\n",
                            "  'TECHM',\n",
                            "  'ZEEL',\n",
                            "  'ADANIPORTS',\n",
                            "  'BI14',\n",
                            "  'EICHERMOT',\n",
                            "  'BAJFINANCE',\n",
                            "  'IOC',\n",
                            "  'UPL',\n",
                            "  'VEDL',\n",
                            "  nan,\n",
                            "  'BAJAJFINSV',\n",
                            "  'GRASIM',\n",
                            "  'JSWSTEEL',\n",
                            "  'TITAN',\n",
                            "  'BRITANNIA',\n",
                            "  'NESTLEIND',\n",
                            "  'SHREECEM']}"
                        ]
                    },
                    "metadata": {},
                    "execution_count": 182
                }
            ],
            "metadata": {}
        },
        {
            "cell_type": "code",
            "execution_count": 186,
            "source": [
                "company_list_name = [str(x) for x in data['Company Name']]\r\n",
                "company_list_symbol = [str(x) for x in data.symbol]\r\n",
                "# print(company_list_name[1])\r\n",
                "print(len(company_list_name), len(company_list_symbol))"
            ],
            "outputs": [
                {
                    "output_type": "stream",
                    "name": "stdout",
                    "text": [
                        "46 46\n"
                    ]
                }
            ],
            "metadata": {}
        },
        {
            "cell_type": "code",
            "execution_count": 190,
            "source": [
                "count = 0\r\n",
                "dfs = {'changes' : nifty_changes, '1995': nifty_1995}\r\n",
                "data = dfs['1995'].copy()\r\n",
                "company_list_name = [str(x) for x in data['Company Name']]\r\n",
                "company_list_symbol = [str(x) for x in data.symbol]\r\n",
                "company_list_name.append([str(x) for x in data['Company Name']])\r\n",
                "for i in range(0, len(nifty_changes.Year)):\r\n",
                "    if (i == 0):\r\n",
                "        print('skipped')\r\n",
                "        continue\r\n",
                "    in_sy = nifty_changes['Symbol_In'][i]\r\n",
                "    ex_sy = nifty_changes['Symbol_Ex'][i]\r\n",
                "    if(pd.isnull(in_sy) and pd.isnull(ex_sy)):\r\n",
                "        # print(i)\r\n",
                "        print(len(company_list_name), len(company_list_symbol))\r\n",
                "        \r\n",
                "        dfs[year_list[count]] = pd.DataFrame({\r\n",
                "            'Company Name' : company_list_name,\r\n",
                "            'symbol' : company_list_symbol\r\n",
                "        })\r\n",
                "        # print(dfs[year_list[count]])\r\n",
                "        # data = dfs[year_list[count]].copy()\r\n",
                "        count = count + 1\r\n",
                "    else:\r\n",
                "        # print(ex_sy, in_sy)\r\n",
                "        if(ex_sy in company_list_symbol):\r\n",
                "            id = company_list_symbol.index(ex_sy)\r\n",
                "            print(id, company_list_symbol[id], ex_sy, company_list_name[id])\r\n",
                "            company_list_symbol.remove(company_list_symbol[id])\r\n",
                "            company_list_name.remove(company_list_name[id])\r\n",
                "        print(in_sy, nifty_changes['Included in Index'][i])\r\n",
                "        company_list_symbol.append(in_sy)\r\n",
                "        company_list_name.append(nifty_changes['Included in Index'][i])\r\n",
                "        print(len(company_list_name), len(company_list_symbol))\r\n",
                "        # if(ex_sy in data['symbol']):\r\n",
                "        #     data.drop(data.loc[data['symbol'] == ex_sy].index, inplace = True)\r\n",
                "        #     print(ex_sy)\r\n",
                "        # data.append({\"Company Name\" : nifty_changes['Included in Index'][i], \"symbol\" : in_sy}, ignore_index = True)\r\n",
                "        # add company\r\n",
                "        # if in excluded remove it\r\n"
            ],
            "outputs": [
                {
                    "output_type": "stream",
                    "name": "stdout",
                    "text": [
                        "skipped\n",
                        "5 APOLLOTYRE APOLLOTYRE Apollo Tyres Ltd.\n",
                        "ABB ABB India Ltd\n",
                        "47 46\n",
                        "28 CHAMBLFERT CHAMBLFERT Chambal Fertilizers & Chemicals Ltd.\n",
                        "ASIANPAINT Asian Paints Ltd\n",
                        "47 46\n",
                        "23 HEROMOTOCO HEROMOTOCO Hero Honda Motors Limited\n",
                        "EIH East India Hotels Ltd\n",
                        "47 46\n",
                        "GLAXO Glaxo (India) Ltd\n",
                        "48 47\n",
                        "13 CPC02 CPC02 Madras Refineries Ltd.\n",
                        "M&M Mahindra & Mahindra Ltd\n",
                        "48 47\n",
                        "34 NAGAFERT NAGAFERT Nagarjuna Fertilizers & Chemicals Ltd.\n",
                        "NESTLEIND Nestle India Limited\n",
                        "48 47\n",
                        "48 47\n"
                    ]
                },
                {
                    "output_type": "error",
                    "ename": "ValueError",
                    "evalue": "arrays must all be same length",
                    "traceback": [
                        "\u001b[1;31m---------------------------------------------------------------------------\u001b[0m",
                        "\u001b[1;31mValueError\u001b[0m                                Traceback (most recent call last)",
                        "\u001b[1;32m<ipython-input-190-263b469789a5>\u001b[0m in \u001b[0;36m<module>\u001b[1;34m\u001b[0m\n\u001b[0;32m     17\u001b[0m         dfs[year_list[count]] = pd.DataFrame({\n\u001b[0;32m     18\u001b[0m             \u001b[1;34m'Company Name'\u001b[0m \u001b[1;33m:\u001b[0m \u001b[0mcompany_list_name\u001b[0m\u001b[1;33m,\u001b[0m\u001b[1;33m\u001b[0m\u001b[1;33m\u001b[0m\u001b[0m\n\u001b[1;32m---> 19\u001b[1;33m             \u001b[1;34m'symbol'\u001b[0m \u001b[1;33m:\u001b[0m \u001b[0mcompany_list_symbol\u001b[0m\u001b[1;33m\u001b[0m\u001b[1;33m\u001b[0m\u001b[0m\n\u001b[0m\u001b[0;32m     20\u001b[0m         })\n\u001b[0;32m     21\u001b[0m         \u001b[1;31m# print(dfs[year_list[count]])\u001b[0m\u001b[1;33m\u001b[0m\u001b[1;33m\u001b[0m\u001b[1;33m\u001b[0m\u001b[0m\n",
                        "\u001b[1;32mD:\\anaconda\\lib\\site-packages\\pandas\\core\\frame.py\u001b[0m in \u001b[0;36m__init__\u001b[1;34m(self, data, index, columns, dtype, copy)\u001b[0m\n\u001b[0;32m    466\u001b[0m \u001b[1;33m\u001b[0m\u001b[0m\n\u001b[0;32m    467\u001b[0m         \u001b[1;32melif\u001b[0m \u001b[0misinstance\u001b[0m\u001b[1;33m(\u001b[0m\u001b[0mdata\u001b[0m\u001b[1;33m,\u001b[0m \u001b[0mdict\u001b[0m\u001b[1;33m)\u001b[0m\u001b[1;33m:\u001b[0m\u001b[1;33m\u001b[0m\u001b[1;33m\u001b[0m\u001b[0m\n\u001b[1;32m--> 468\u001b[1;33m             \u001b[0mmgr\u001b[0m \u001b[1;33m=\u001b[0m \u001b[0minit_dict\u001b[0m\u001b[1;33m(\u001b[0m\u001b[0mdata\u001b[0m\u001b[1;33m,\u001b[0m \u001b[0mindex\u001b[0m\u001b[1;33m,\u001b[0m \u001b[0mcolumns\u001b[0m\u001b[1;33m,\u001b[0m \u001b[0mdtype\u001b[0m\u001b[1;33m=\u001b[0m\u001b[0mdtype\u001b[0m\u001b[1;33m)\u001b[0m\u001b[1;33m\u001b[0m\u001b[1;33m\u001b[0m\u001b[0m\n\u001b[0m\u001b[0;32m    469\u001b[0m         \u001b[1;32melif\u001b[0m \u001b[0misinstance\u001b[0m\u001b[1;33m(\u001b[0m\u001b[0mdata\u001b[0m\u001b[1;33m,\u001b[0m \u001b[0mma\u001b[0m\u001b[1;33m.\u001b[0m\u001b[0mMaskedArray\u001b[0m\u001b[1;33m)\u001b[0m\u001b[1;33m:\u001b[0m\u001b[1;33m\u001b[0m\u001b[1;33m\u001b[0m\u001b[0m\n\u001b[0;32m    470\u001b[0m             \u001b[1;32mimport\u001b[0m \u001b[0mnumpy\u001b[0m\u001b[1;33m.\u001b[0m\u001b[0mma\u001b[0m\u001b[1;33m.\u001b[0m\u001b[0mmrecords\u001b[0m \u001b[1;32mas\u001b[0m \u001b[0mmrecords\u001b[0m\u001b[1;33m\u001b[0m\u001b[1;33m\u001b[0m\u001b[0m\n",
                        "\u001b[1;32mD:\\anaconda\\lib\\site-packages\\pandas\\core\\internals\\construction.py\u001b[0m in \u001b[0;36minit_dict\u001b[1;34m(data, index, columns, dtype)\u001b[0m\n\u001b[0;32m    281\u001b[0m             \u001b[0marr\u001b[0m \u001b[1;32mif\u001b[0m \u001b[1;32mnot\u001b[0m \u001b[0mis_datetime64tz_dtype\u001b[0m\u001b[1;33m(\u001b[0m\u001b[0marr\u001b[0m\u001b[1;33m)\u001b[0m \u001b[1;32melse\u001b[0m \u001b[0marr\u001b[0m\u001b[1;33m.\u001b[0m\u001b[0mcopy\u001b[0m\u001b[1;33m(\u001b[0m\u001b[1;33m)\u001b[0m \u001b[1;32mfor\u001b[0m \u001b[0marr\u001b[0m \u001b[1;32min\u001b[0m \u001b[0marrays\u001b[0m\u001b[1;33m\u001b[0m\u001b[1;33m\u001b[0m\u001b[0m\n\u001b[0;32m    282\u001b[0m         ]\n\u001b[1;32m--> 283\u001b[1;33m     \u001b[1;32mreturn\u001b[0m \u001b[0marrays_to_mgr\u001b[0m\u001b[1;33m(\u001b[0m\u001b[0marrays\u001b[0m\u001b[1;33m,\u001b[0m \u001b[0mdata_names\u001b[0m\u001b[1;33m,\u001b[0m \u001b[0mindex\u001b[0m\u001b[1;33m,\u001b[0m \u001b[0mcolumns\u001b[0m\u001b[1;33m,\u001b[0m \u001b[0mdtype\u001b[0m\u001b[1;33m=\u001b[0m\u001b[0mdtype\u001b[0m\u001b[1;33m)\u001b[0m\u001b[1;33m\u001b[0m\u001b[1;33m\u001b[0m\u001b[0m\n\u001b[0m\u001b[0;32m    284\u001b[0m \u001b[1;33m\u001b[0m\u001b[0m\n\u001b[0;32m    285\u001b[0m \u001b[1;33m\u001b[0m\u001b[0m\n",
                        "\u001b[1;32mD:\\anaconda\\lib\\site-packages\\pandas\\core\\internals\\construction.py\u001b[0m in \u001b[0;36marrays_to_mgr\u001b[1;34m(arrays, arr_names, index, columns, dtype, verify_integrity)\u001b[0m\n\u001b[0;32m     76\u001b[0m         \u001b[1;31m# figure out the index, if necessary\u001b[0m\u001b[1;33m\u001b[0m\u001b[1;33m\u001b[0m\u001b[1;33m\u001b[0m\u001b[0m\n\u001b[0;32m     77\u001b[0m         \u001b[1;32mif\u001b[0m \u001b[0mindex\u001b[0m \u001b[1;32mis\u001b[0m \u001b[1;32mNone\u001b[0m\u001b[1;33m:\u001b[0m\u001b[1;33m\u001b[0m\u001b[1;33m\u001b[0m\u001b[0m\n\u001b[1;32m---> 78\u001b[1;33m             \u001b[0mindex\u001b[0m \u001b[1;33m=\u001b[0m \u001b[0mextract_index\u001b[0m\u001b[1;33m(\u001b[0m\u001b[0marrays\u001b[0m\u001b[1;33m)\u001b[0m\u001b[1;33m\u001b[0m\u001b[1;33m\u001b[0m\u001b[0m\n\u001b[0m\u001b[0;32m     79\u001b[0m         \u001b[1;32melse\u001b[0m\u001b[1;33m:\u001b[0m\u001b[1;33m\u001b[0m\u001b[1;33m\u001b[0m\u001b[0m\n\u001b[0;32m     80\u001b[0m             \u001b[0mindex\u001b[0m \u001b[1;33m=\u001b[0m \u001b[0mensure_index\u001b[0m\u001b[1;33m(\u001b[0m\u001b[0mindex\u001b[0m\u001b[1;33m)\u001b[0m\u001b[1;33m\u001b[0m\u001b[1;33m\u001b[0m\u001b[0m\n",
                        "\u001b[1;32mD:\\anaconda\\lib\\site-packages\\pandas\\core\\internals\\construction.py\u001b[0m in \u001b[0;36mextract_index\u001b[1;34m(data)\u001b[0m\n\u001b[0;32m    395\u001b[0m             \u001b[0mlengths\u001b[0m \u001b[1;33m=\u001b[0m \u001b[0mlist\u001b[0m\u001b[1;33m(\u001b[0m\u001b[0mset\u001b[0m\u001b[1;33m(\u001b[0m\u001b[0mraw_lengths\u001b[0m\u001b[1;33m)\u001b[0m\u001b[1;33m)\u001b[0m\u001b[1;33m\u001b[0m\u001b[1;33m\u001b[0m\u001b[0m\n\u001b[0;32m    396\u001b[0m             \u001b[1;32mif\u001b[0m \u001b[0mlen\u001b[0m\u001b[1;33m(\u001b[0m\u001b[0mlengths\u001b[0m\u001b[1;33m)\u001b[0m \u001b[1;33m>\u001b[0m \u001b[1;36m1\u001b[0m\u001b[1;33m:\u001b[0m\u001b[1;33m\u001b[0m\u001b[1;33m\u001b[0m\u001b[0m\n\u001b[1;32m--> 397\u001b[1;33m                 \u001b[1;32mraise\u001b[0m \u001b[0mValueError\u001b[0m\u001b[1;33m(\u001b[0m\u001b[1;34m\"arrays must all be same length\"\u001b[0m\u001b[1;33m)\u001b[0m\u001b[1;33m\u001b[0m\u001b[1;33m\u001b[0m\u001b[0m\n\u001b[0m\u001b[0;32m    398\u001b[0m \u001b[1;33m\u001b[0m\u001b[0m\n\u001b[0;32m    399\u001b[0m             \u001b[1;32mif\u001b[0m \u001b[0mhave_dicts\u001b[0m\u001b[1;33m:\u001b[0m\u001b[1;33m\u001b[0m\u001b[1;33m\u001b[0m\u001b[0m\n",
                        "\u001b[1;31mValueError\u001b[0m: arrays must all be same length"
                    ]
                }
            ],
            "metadata": {}
        },
        {
            "cell_type": "code",
            "execution_count": null,
            "source": [],
            "outputs": [],
            "metadata": {}
        },
        {
            "cell_type": "code",
            "execution_count": null,
            "source": [
                "count = -1\r\n",
                "# print(year_list[count])\r\n",
                "dfs = []\r\n",
                "data = [x for x in nifty_1995['Company Name.1']]\r\n",
                "# dfs.append(data)\r\n",
                "for i in range(0, len(nifty_changes['Included in Index'])):\r\n",
                "    included_company = nifty_changes['Included in Index'][i]\r\n",
                "    excluded_company = nifty_changes['Excluded from Index'][i]\r\n",
                "    if(pd.isnull(included_company) and pd.isnull(excluded_company)):\r\n",
                "        count += 1\r\n",
                "        dfs.append(data)\r\n",
                "        print(dfs[count])\r\n",
                "        print(len(dfs[count]))\r\n",
                "        print(count)\r\n",
                "        # data = []\r\n",
                "        data = dfs[count]\r\n",
                "    else:\r\n",
                "        # print(year_list[count], \"\\t\",nifty_changes['Included in Index'][i])\r\n",
                "        # nifty_changes.Year[i] = year_list[count]\r\n",
                "        data.append(included_company)\r\n",
                "        if excluded_company in data:\r\n",
                "            # print(excluded_company)\r\n",
                "            data.remove(excluded_company)\r\n",
                "        "
            ],
            "outputs": [],
            "metadata": {}
        }
    ],
    "metadata": {
        "orig_nbformat": 4,
        "language_info": {
            "name": "python",
            "version": "3.7.3",
            "mimetype": "text/x-python",
            "codemirror_mode": {
                "name": "ipython",
                "version": 3
            },
            "pygments_lexer": "ipython3",
            "nbconvert_exporter": "python",
            "file_extension": ".py"
        },
        "kernelspec": {
            "name": "python3",
            "display_name": "Python 3.7.3 64-bit ('base': conda)"
        },
        "interpreter": {
            "hash": "cc5f70855ac006f3de45a3cc3b9e7d8d53845e50458809cb162b0174266dec97"
        }
    },
    "nbformat": 4,
    "nbformat_minor": 2
}