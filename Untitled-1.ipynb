{
    "cells": [
        {
            "cell_type": "code",
            "execution_count": 1,
            "source": [
                "print('hello')"
            ],
            "outputs": [
                {
                    "output_type": "stream",
                    "name": "stdout",
                    "text": [
                        "hello\n"
                    ]
                }
            ],
            "metadata": {}
        },
        {
            "cell_type": "code",
            "execution_count": 2,
            "source": [
                "import requests\r\n",
                "from bs4 import BeautifulSoup"
            ],
            "outputs": [],
            "metadata": {}
        },
        {
            "cell_type": "code",
            "execution_count": 1,
            "source": [
                "import numpy as np\r\n",
                "import pandas as pd\r\n",
                "import json\r\n",
                "import csv\r\n",
                "from google.oauth2 import service_account\r\n",
                "import pygsheets\r\n",
                "import openpyxl"
            ],
            "outputs": [],
            "metadata": {}
        },
        {
            "cell_type": "markdown",
            "source": [
                "To access google sheets, do the following:\r\n",
                "1. Run the code below \r\n",
                "2. From your service.json file copy the client email and share the sheet with it\r\n",
                "3. workbook = gc.open('file name')\r\n"
            ],
            "metadata": {}
        },
        {
            "cell_type": "code",
            "execution_count": 16,
            "source": [
                "import gspread\r\n",
                "from oauth2client.service_account import ServiceAccountCredentials\r\n",
                "scope = [\"https://www.googleapis.com/auth/drive\", \"https://spreadsheets.google.com/feeds\"]\r\n",
                "credentials = ServiceAccountCredentials.from_json_keyfile_name('D:\\studies\\stocks project\\service.json', scope)\r\n",
                "gc = gspread.authorize(credentials)"
            ],
            "outputs": [],
            "metadata": {}
        },
        {
            "cell_type": "markdown",
            "source": [
                "Web Scraping"
            ],
            "metadata": {}
        },
        {
            "cell_type": "code",
            "execution_count": 4,
            "source": [
                "def hasNumbers(inputString):\r\n",
                "    return any(char.isdigit() for char in inputString)"
            ],
            "outputs": [],
            "metadata": {}
        },
        {
            "cell_type": "code",
            "execution_count": 5,
            "source": [
                "def find_symbol(name):\r\n",
                "    s = \"\"\r\n",
                "    for x in name:\r\n",
                "        if(x == \" \" or x==\".\"):\r\n",
                "            s += \"+\"\r\n",
                "        elif(x == '&'):\r\n",
                "            s += \"%26\"\r\n",
                "        else:\r\n",
                "            s += x\r\n",
                "    if(s[-1] == '+'):\r\n",
                "        s = s + \"nse\"\r\n",
                "    else:\r\n",
                "        s = s + \"+nse\"\r\n",
                "    found = 0\r\n",
                "    symbol = \"NA\"\r\n",
                "    url = \"https://www.google.com/search?q=\" + s\r\n",
                "    # print(s)\r\n",
                "    result  = requests.get(url)\r\n",
                "    src = result.content\r\n",
                "    soup = BeautifulSoup(src, \"html.parser\")\r\n",
                "    spans = soup.find_all('span')\r\n",
                "    lines = [span.get_text() for span in spans]\r\n",
                "    for i in lines:\r\n",
                "        if '(NSE)' in i:\r\n",
                "            symbol = i\r\n",
                "            found = 1\r\n",
                "            break\r\n",
                "    if(found == 1):\r\n",
                "        return symbol[:len(symbol)-5].upper()\r\n",
                "        \r\n",
                "    if(found == 0):\r\n",
                "        x = soup.find_all('a')\r\n",
                "        mc_number = 111111\r\n",
                "        nse_number = 111111\r\n",
                "        mc_symbol = \"not found\"\r\n",
                "        nse_symbol = \"not found\"\r\n",
                "        for i in x:\r\n",
                "            if('www1.nseindia.com/live_market/dynaContent' in i.attrs['href']):\r\n",
                "                nse_number = x.index(i)\r\n",
                "                li = str(i.attrs['href'])\r\n",
                "                nse_symbol = li[102:li.find('&')]\r\n",
                "                found = 1\r\n",
                "                break\r\n",
                "        \r\n",
                "        for i in x:\r\n",
                "            if('www.moneycontrol.com' in i.attrs['href']):\r\n",
                "                mc_number = x.index(i)\r\n",
                "                link = str(i.attrs['href'])\r\n",
                "                n = link.find('/', 58) + 1\r\n",
                "                cut_link = link[(n):]\r\n",
                "                x = cut_link.find('/') + 1\r\n",
                "                y = cut_link.find('&')\r\n",
                "                mc_symbol = cut_link[x:y]\r\n",
                "                if(hasNumbers(mc_symbol)):\r\n",
                "                    ur = link[:link.find('&')]\r\n",
                "                    # print(ur)\r\n",
                "                    ur = ur[:len(ur)-len(mc_symbol)-1] [::-1]\r\n",
                "                    # print(ur)\r\n",
                "                    sym = ur.find('/')\r\n",
                "                    mc_symbol = ur[:sym] [::-1]\r\n",
                "                    # print (mc_symbol)\r\n",
                "                found = 1\r\n",
                "                break\r\n",
                "        \r\n",
                "        if found == 1:\r\n",
                "            if(nse_number < mc_number):\r\n",
                "                symbol = nse_symbol\r\n",
                "            else:\r\n",
                "                symbol = mc_symbol\r\n",
                "    if(found == 1):\r\n",
                "        return symbol.upper()\r\n",
                "    else:\r\n",
                "        return \"not found\"\r\n",
                "\r\n"
            ],
            "outputs": [],
            "metadata": {}
        },
        {
            "cell_type": "markdown",
            "source": [
                "testing function"
            ],
            "metadata": {}
        },
        {
            "cell_type": "code",
            "execution_count": null,
            "source": [
                "com = 'Bharti Tele-Ventures Ltd'\r\n",
                "# print(com[:len(com)-5])\r\n",
                "print(find_symbol(com))"
            ],
            "outputs": [],
            "metadata": {}
        },
        {
            "cell_type": "code",
            "execution_count": 18,
            "source": [
                "src_excel_file = 'company_original.xlsx'\r\n",
                "nifty_1995 = pd.read_excel(src_excel_file, sheet_name = '1995', engine = 'openpyxl')\r\n",
                "nifty_changes = pd.read_excel(src_excel_file, sheet_name = 'Changes', engine = 'openpyxl')\r\n",
                "# print(nifty_1995.shape)"
            ],
            "outputs": [],
            "metadata": {}
        },
        {
            "cell_type": "markdown",
            "source": [
                "SYMBOLS OF NIFTY 50 - 1995"
            ],
            "metadata": {}
        },
        {
            "cell_type": "code",
            "execution_count": 7,
            "source": [
                "for i in range(0, len(nifty_1995['Company Name'])):\r\n",
                "    nifty_1995.iloc[i, 1] = find_symbol(nifty_1995.iloc[i,0])\r\n",
                "    # print(nifty_1995['Company Name'][i], \"\\t\\t\\t\", nifty_1995.iloc[i, 1])\r\n",
                "# print(nifty_1995.iloc[1,0])"
            ],
            "outputs": [],
            "metadata": {}
        },
        {
            "cell_type": "markdown",
            "source": [
                "SYMBOLS OF INCLUDED INDECIES"
            ],
            "metadata": {}
        },
        {
            "cell_type": "code",
            "execution_count": 8,
            "source": [
                "for i in range(0, len(nifty_changes['Included in Index'])):\r\n",
                "    if(pd.isnull(nifty_changes.iloc[i,1])):\r\n",
                "        continue\r\n",
                "    nifty_changes.iloc[i, 2] = find_symbol(nifty_changes.iloc[i,1])\r\n",
                "#     print(nifty_changes['Included in Index'][i], \"\\t\\t\\t\", nifty_changes.iloc[i, 2])"
            ],
            "outputs": [],
            "metadata": {}
        },
        {
            "cell_type": "markdown",
            "source": [
                "SYMBOLS OF EXCLUDED INDECIES"
            ],
            "metadata": {}
        },
        {
            "cell_type": "code",
            "execution_count": 9,
            "source": [
                "for i in range(0, len(nifty_changes['Excluded from Index'])):\r\n",
                "    if(pd.isnull(nifty_changes.iloc[i,3])):\r\n",
                "        continue\r\n",
                "    nifty_changes.iloc[i, 4] = find_symbol(nifty_changes.iloc[i,3])\r\n",
                "#     print(nifty_changes['Excluded from Index'][i], \"\\t\\t\\t\", nifty_changes.iloc[i, 4])"
            ],
            "outputs": [],
            "metadata": {}
        },
        {
            "cell_type": "markdown",
            "source": [
                "SHEET NAMES WITH DATA FRAMES"
            ],
            "metadata": {}
        },
        {
            "cell_type": "code",
            "execution_count": 10,
            "source": [
                "dfs = {'changes' : nifty_changes, '1995': nifty_1995}"
            ],
            "outputs": [],
            "metadata": {}
        },
        {
            "cell_type": "markdown",
            "source": [
                "STORING DATAFRAMES"
            ],
            "metadata": {}
        },
        {
            "cell_type": "code",
            "execution_count": 18,
            "source": [
                "writer = pd.ExcelWriter('test2.xlsx', engine='openpyxl')\r\n",
                "# print(nifty_1995)\r\n",
                "for i in dfs.keys():\r\n",
                "    dfs[i].to_excel(writer, sheet_name = i, index = False)\r\n",
                "writer.save()\r\n",
                "# nifty_1995.to_excel(writer, sheet_name = '1995')"
            ],
            "outputs": [],
            "metadata": {}
        },
        {
            "cell_type": "markdown",
            "source": [
                "List of all years"
            ],
            "metadata": {}
        },
        {
            "cell_type": "code",
            "execution_count": null,
            "source": [
                "year_list = []\r\n",
                "for i in range(0, len(nifty_changes.Year)):\r\n",
                "    if(not pd.isnull(nifty_changes.Year[i])):\r\n",
                "        x = int(nifty_changes.Year[i])\r\n",
                "        year_list.append(str(x))\r\n",
                "print(year_list)"
            ],
            "outputs": [],
            "metadata": {}
        },
        {
            "cell_type": "markdown",
            "source": [
                "Testing"
            ],
            "metadata": {}
        },
        {
            "cell_type": "code",
            "execution_count": null,
            "source": [
                "# dfs['changes'].head()\r\n",
                "for i in dfs.keys():\r\n",
                "    print(i)"
            ],
            "outputs": [],
            "metadata": {}
        },
        {
            "cell_type": "code",
            "execution_count": null,
            "source": [
                "# nifty_changes.head()\r\n",
                "f = dfs['2019'].copy()\r\n",
                "f"
            ],
            "outputs": [],
            "metadata": {}
        },
        {
            "cell_type": "code",
            "execution_count": 186,
            "source": [
                "company_list_name = [str(x) for x in data['Company Name']]\r\n",
                "company_list_symbol = [str(x) for x in data.symbol]\r\n",
                "# print(company_list_name[1])\r\n",
                "print(len(company_list_name), len(company_list_symbol))"
            ],
            "outputs": [
                {
                    "output_type": "stream",
                    "name": "stdout",
                    "text": [
                        "46 46\n"
                    ]
                }
            ],
            "metadata": {}
        },
        {
            "cell_type": "markdown",
            "source": [
                "Creating dataframes"
            ],
            "metadata": {}
        },
        {
            "cell_type": "code",
            "execution_count": null,
            "source": [
                "count = 0\r\n",
                "dfs = {'changes' : nifty_changes, '1995': nifty_1995}\r\n",
                "data = dfs['1995'].copy()\r\n",
                "company_list_name = [str(x) for x in data['Company Name']]\r\n",
                "company_list_symbol = [str(x) for x in data.symbol]\r\n",
                "print(len(company_list_name), len(company_list_symbol))\r\n",
                "for i in range(0, len(nifty_changes.Year)):\r\n",
                "    if (i == 0):\r\n",
                "        print('skipped')\r\n",
                "        continue\r\n",
                "    in_sy = nifty_changes['Symbol_In'][i]\r\n",
                "    ex_sy = nifty_changes['Symbol_Ex'][i]\r\n",
                "    if(pd.isnull(in_sy) and pd.isnull(ex_sy)):\r\n",
                "        print(len(company_list_name), len(company_list_symbol))\r\n",
                "        \r\n",
                "        dfs[year_list[count]] = pd.DataFrame({\r\n",
                "            'Company Name' : company_list_name,\r\n",
                "            'symbol' : company_list_symbol\r\n",
                "        })\r\n",
                "        count = count + 1\r\n",
                "    else:\r\n",
                "        # print(ex_sy, in_sy)\r\n",
                "        if(ex_sy in company_list_symbol):\r\n",
                "            id = company_list_symbol.index(ex_sy)\r\n",
                "            print(id, company_list_symbol[id], company_list_name[id])\r\n",
                "            company_list_symbol.remove(ex_sy)\r\n",
                "            company_list_name.remove(company_list_name[id])\r\n",
                "        company_list_symbol.append(in_sy)\r\n",
                "        company_list_name.append(nifty_changes['Included in Index'][i])\r\n",
                "        # add company\r\n",
                "        # if in excluded remove it\r\n",
                "dfs[year_list[count]] = pd.DataFrame({\r\n",
                "            'Company Name' : company_list_name,\r\n",
                "            'symbol' : company_list_symbol\r\n",
                "        })"
            ],
            "outputs": [],
            "metadata": {}
        },
        {
            "cell_type": "markdown",
            "source": [
                "Excel Formulas using python"
            ],
            "metadata": {}
        },
        {
            "cell_type": "code",
            "execution_count": 19,
            "source": [
                "import openpyxl\r\n",
                "wb = openpyxl.load_workbook(\"D:\\studies\\stocks project\\Stocks-Project\\\\test2.xlsx\")"
            ],
            "outputs": [],
            "metadata": {}
        },
        {
            "cell_type": "code",
            "execution_count": null,
            "source": [
                "print(wb.sheetnames)\r\n"
            ],
            "outputs": [],
            "metadata": {}
        },
        {
            "cell_type": "markdown",
            "source": [
                "ADDING FORMULAS "
            ],
            "metadata": {}
        },
        {
            "cell_type": "code",
            "execution_count": null,
            "source": [
                "for i in year_list:\r\n",
                "    sheet = wb[i]\r\n",
                "    count = 0\r\n",
                "    for x in sheet.rows:\r\n",
                "        count += 1\r\n",
                "        if(count == 1):\r\n",
                "            continue\r\n",
                "        # LTP\r\n",
                "        ltp = \"=GOOGLEFINANCE(\"+'\"NSE:\"&B'+str(count)+',\"price\")'\r\n",
                "        # price that day\r\n",
                "        date_price = \"=max(index(GOOGLEFINANCE(\" + '\"NSE:\"&B' + str(count) + ',\"open\", D' + str(count) + \"),,2))\"\r\n",
                "        # print(date_price)\r\n",
                "        sheet['C'+str(count)] = ltp\r\n",
                "        sheet['D'+str(count)] = \"=DATE(\" + i + \",1,1)\"\r\n",
                "        sheet['E'+str(count)] = date_price"
            ],
            "outputs": [],
            "metadata": {}
        },
        {
            "cell_type": "markdown",
            "source": [
                "Adding headings to columns"
            ],
            "metadata": {}
        },
        {
            "cell_type": "code",
            "execution_count": 20,
            "source": [
                "import openpyxl\r\n",
                "wb = openpyxl.load_workbook(\"D:\\studies\\stocks project\\Stocks-Project\\\\testing_wtih_formula_2_pqoeitqw.xlsx\")\r\n",
                "for i in year_list:\r\n",
                "    sheet = wb[i]\r\n",
                "    count = 0\r\n",
                "    sheet['C1'] = 'LTP'\r\n",
                "    sheet['D1'] = 'That date'\r\n",
                "    sheet['E1'] = 'Price'\r\n",
                "\r\n",
                "wb.save(\"aise_hi_check.xlsx\")"
            ],
            "outputs": [],
            "metadata": {}
        },
        {
            "cell_type": "markdown",
            "source": [
                "saving the file"
            ],
            "metadata": {}
        },
        {
            "cell_type": "code",
            "execution_count": 22,
            "source": [
                "wb.save(\"testing_wtih_formula_2_pqoeitqw.xlsx\")"
            ],
            "outputs": [],
            "metadata": {}
        },
        {
            "cell_type": "markdown",
            "source": [
                "testing the formula"
            ],
            "metadata": {}
        },
        {
            "cell_type": "code",
            "execution_count": null,
            "source": [
                "count = 5\r\n",
                "ltp = \"=GOOGLEFINANCE(\"+'\"NSE:\"&B'+str(count)+',\"price\")'\r\n",
                "print(ltp)\r\n",
                "date_price = \"=max(index(GOOGLEFINANCE(\" + '\"NSE\"&B'+str(count)+ ',\"open\",D' + str(count) + \"),,2))\"\r\n",
                "date_price1 = \"=max(index(GOOGLEFINANCE(\" + '\"NSE\":&B' + str(count) + ',\"open\", D' + str(count) + \"),,2))\"\r\n",
                "print(date_price)\r\n",
                "print(date_price1)\r\n"
            ],
            "outputs": [],
            "metadata": {}
        },
        {
            "cell_type": "markdown",
            "source": [
                "Getting the records from google sheets and saving them in pandas DF"
            ],
            "metadata": {}
        },
        {
            "cell_type": "code",
            "execution_count": 21,
            "source": [
                "wb = gc.open('aise_hi_check')\r\n",
                "# worksheet = wb.worksheet('2000')\r\n",
                "new_dfs = {}\r\n",
                "for i in wb.worksheets():\r\n",
                "    worksheet = wb.worksheet(str(i.title))\r\n",
                "    new_dfs[str(i.title)] = pd.DataFrame(worksheet.get_all_records())"
            ],
            "outputs": [],
            "metadata": {}
        },
        {
            "cell_type": "markdown",
            "source": [
                "Removing rows(companies) with price as \"n/a\""
            ],
            "metadata": {}
        },
        {
            "cell_type": "code",
            "execution_count": 45,
            "source": [
                "for i in year_list:\r\n",
                "    f = new_dfs[str(i)]\r\n",
                "    x = f[f['Price'] != \"#N/A\"]\r\n",
                "    new_dfs[str(i)] = x"
            ],
            "outputs": [],
            "metadata": {}
        },
        {
            "cell_type": "markdown",
            "source": [
                "REMOVED EMPTY DATAFRAMES"
            ],
            "metadata": {}
        },
        {
            "cell_type": "code",
            "execution_count": 53,
            "source": [
                "list_l = []\r\n",
                "for i in new_dfs.keys():\r\n",
                "    if new_dfs[i].shape[0] == 0:\r\n",
                "        list_l.append(i)        \r\n",
                "\r\n",
                "for i in list_l:\r\n",
                "    del new_dfs[i]"
            ],
            "outputs": [],
            "metadata": {}
        },
        {
            "cell_type": "markdown",
            "source": [
                "Save the new excel file with #N/A removed"
            ],
            "metadata": {}
        },
        {
            "cell_type": "code",
            "execution_count": 56,
            "source": [
                "writer = pd.ExcelWriter('dropped_NA.xlsx', engine='openpyxl')\r\n",
                "# print(nifty_1995)\r\n",
                "for i in new_dfs.keys():\r\n",
                "    new_dfs[i].to_excel(writer, sheet_name = i, index = False)\r\n",
                "writer.save()"
            ],
            "outputs": [],
            "metadata": {}
        },
        {
            "cell_type": "markdown",
            "source": [
                "Open the new file from google sheets"
            ],
            "metadata": {}
        },
        {
            "cell_type": "code",
            "execution_count": 7,
            "source": [
                "wb = gc.open('dropped_NA')\r\n",
                "# worksheet = wb.worksheet('2000')\r\n",
                "dfs = {}\r\n",
                "for i in wb.worksheets():\r\n",
                "    worksheet = wb.worksheet(str(i.title))\r\n",
                "    dfs[str(i.title)] = pd.DataFrame(worksheet.get_all_records())"
            ],
            "outputs": [],
            "metadata": {}
        },
        {
            "cell_type": "code",
            "execution_count": 77,
            "source": [
                "print(dfs['2009'].head(5))"
            ],
            "outputs": [
                {
                    "output_type": "stream",
                    "name": "stdout",
                    "text": [
                        "          Company Name     symbol      LTP   That date   Price\n",
                        "0  Tata Power Co. Ltd.  TATAPOWER   122.95  01/01/2009   76.12\n",
                        "1           I T C Ltd.        ITC   213.70  01/01/2009   57.50\n",
                        "2       HDFC Bank Ltd.   HDFCBANK  1438.10  01/01/2009  102.00\n",
                        "3  State Bank of India       SBIN   425.40  01/01/2009  131.50\n",
                        "4            HDFC Ltd.       HDFC  2471.60  01/01/2009  305.00\n"
                    ]
                }
            ],
            "metadata": {}
        },
        {
            "cell_type": "markdown",
            "source": [
                "Creating a new excel sheet for company with following things:\r\n",
                "1. company name\r\n",
                "2. company symbol\r\n",
                "3. 52-week high\r\n",
                "4. 10-week low\r\n",
                "5. price"
            ],
            "metadata": {}
        },
        {
            "cell_type": "code",
            "execution_count": 173,
            "source": [
                "companies_dic = {}\r\n",
                "for i in dfs.keys():\r\n",
                "    if i == \"changes\" or i == \"1995\" or i == \"1999\" or i == \"2000\":\r\n",
                "        continue\r\n",
                "    else:\r\n",
                "        for x in dfs[i].symbol:\r\n",
                "            # print(dfs[i]['symbol'].index[dfs[i]['symbol'] == x][0])\r\n",
                "            if x in companies_dic.keys():\r\n",
                "                companies_dic[x]['year'].append(str(i))\r\n",
                "            else:\r\n",
                "                # list_l = []\r\n",
                "                # print(dfs[i]['Company Name'])\r\n",
                "                ind = dfs[i]['symbol'].index[dfs[i]['symbol'] == x][0]\r\n",
                "                companies_dic[x] = {\r\n",
                "                    'name' : dfs[i]['Company Name'][ind],\r\n",
                "                    'symbol' : dfs[i]['symbol'][ind],\r\n",
                "                    'year' : [str(i)],\r\n",
                "                    '52-week-high' : [],\r\n",
                "                    '10-week-low' : [],\r\n",
                "                    'price' : []\r\n",
                "                }"
            ],
            "outputs": [],
            "metadata": {}
        },
        {
            "cell_type": "markdown",
            "source": [
                "get INDEX of df for a specific value in a specific dictionary's column"
            ],
            "metadata": {}
        },
        {
            "cell_type": "code",
            "execution_count": null,
            "source": [
                "ind = dfs[i]['symbol'].index[dfs[i]['symbol'] == x][0]"
            ],
            "outputs": [],
            "metadata": {}
        },
        {
            "cell_type": "markdown",
            "source": [
                "checking all the years the company was listed in nifty 50 and adding them to a list"
            ],
            "metadata": {}
        },
        {
            "cell_type": "markdown",
            "source": [
                "Converting from dictionary to a pandas DF to save it in EXCEL "
            ],
            "metadata": {}
        },
        {
            "cell_type": "code",
            "execution_count": 9,
            "source": [
                "pandas_company_df = {}\r\n",
                "for i in companies_dic.keys():\r\n",
                "    pandas_company_df[i] = pd.DataFrame.from_dict(companies_dic[i])"
            ],
            "outputs": [],
            "metadata": {}
        },
        {
            "cell_type": "markdown",
            "source": [
                "Saving the pandas DF into EXCEL"
            ],
            "metadata": {}
        },
        {
            "cell_type": "code",
            "execution_count": 10,
            "source": [
                "writer = pd.ExcelWriter('company_list.xlsx', engine='openpyxl')\r\n",
                "for i in pandas_company_df.keys():\r\n",
                "    pandas_company_df[i].to_excel(writer, sheet_name= i, index = False)\r\n",
                "writer.save()\r\n",
                "    # print(pandas_company_df[i].head())"
            ],
            "outputs": [],
            "metadata": {}
        },
        {
            "cell_type": "markdown",
            "source": [
                "Reading the previously saved excel (DF) to put formulas into specific cells"
            ],
            "metadata": {}
        },
        {
            "cell_type": "code",
            "execution_count": 76,
            "source": [],
            "outputs": [],
            "metadata": {}
        },
        {
            "cell_type": "code",
            "execution_count": null,
            "source": [
                "file_name = 'downloaded_weekly_company_list_with_formula.xlsx'\r\n",
                "comapany_data_with_prices = {}\r\n",
                "wb = openpyxl.load_workbook(file_name)\r\n",
                "comapany_data_with_prices = {}\r\n",
                "for i in wb.sheetnames:\r\n",
                "    ws = wb[i]\r\n",
                "    df = pd.read_excel(file_name, sheet_name = i, engine = 'openpyxl')\r\n",
                "    ws['A30'] = 100\r\n",
                "    ws['A31'] = 365\r\n",
                "    ws['D1'] = \"52-week-high\"\r\n",
                "    ws['E1'] = \"10-week-low\"\r\n",
                "    # print(df.head(5))\r\n",
                "    # print(df.Date[1])\r\n",
                "    # print(type(comapany_data_with_prices[str(i)]))\r\n",
                "    # break\r\n",
                "    print(df.shape)\r\n",
                "    print(ws.max_row, ws.max_column)\r\n",
                "    count = 0\r\n",
                "    for num in range(2, ws.max_row+1):\r\n",
                "        row = str(num)\r\n",
                "        date = str(df.Date[count])\r\n",
                "        if(not ws['B'+row].value):\r\n",
                "            continue\r\n",
                "        count += 1\r\n",
                "        if(\"Date\" in date):\r\n",
                "            continue\r\n",
                "        year = date[0:4]\r\n",
                "        month = date[5:7]\r\n",
                "        day = date[8:10]\r\n",
                "        nor_date = \"DATE(\" + year + \",\" + month + \",\" + day + \")\"\r\n",
                "        low_date = \"DATE(\" + year + \",\" + month + \",\" + day + \"-A30)\"\r\n",
                "        low = '\"low\",'\r\n",
                "        high = '\"high\",'\r\n",
                "        high_date = \"DATE(\" + year + \",\" + month + \",\" + day + \"-A31)\"\r\n",
                "        max_ = '=max'\r\n",
                "        min_ = '=min'\r\n",
                "        formula_beg = '(index(query(sort(GOOGLEFINANCE(\"NSE:' + str(i) + '\",'\r\n",
                "        formula_end = ',\"WEEKLY\"),1,False),\"select *\",1),,2))'\r\n",
                "        ws['D'+row] = max_ + formula_beg + high + high_date + ',' + nor_date + formula_end\r\n",
                "        ws['E'+row] = min_ + formula_beg + low + low_date + ',' + nor_date + formula_end\r\n",
                "\r\n",
                "wb.save('smaller.xlsx')"
            ],
            "outputs": [],
            "metadata": {}
        },
        {
            "cell_type": "code",
            "execution_count": null,
            "source": [
                "import openpyxl\r\n",
                "wb = openpyxl.load_workbook(\"D:\\studies\\stocks project\\Stocks-Project\\\\company_list.xlsx\")\r\n",
                "wb2 = openpyxl.load_workbook(\"smaller.xlsx\")\r\n",
                "for i in wb.sheetnames:\r\n",
                "    ws = wb[i]\r\n",
                "    ws2 = wb2[i]\r\n",
                "    # print(ws['A1'])\r\n",
                "    for num in range(1, ws.max_row):\r\n",
                "        year_val = int(ws['A'+str(num+1)].value)\r\n",
                "        init_year = \"DATE(\" + str(year_val) + \",1,1),\"\r\n",
                "        final_year = \"DATE(\" + str(year_val+1) + \",1,1),\"\r\n",
                "        formula = \"=GOOGLEFINANCE(\" + '\"NSE:' + str(i)+ '\", \"high\",' + init_year + final_year + '\"weekly\")'\r\n",
                "        # print('B'+str((275*(num-1))+1))\r\n",
                "\r\n",
                "        # ws['B'+str((55*(num-1))+1)] = formula\r\n",
                "        ws2['F'+str((55*(num-1))+1)] = \"=GOOGLEFINANCE(\" + '\"NSE:' + str(i)+ '\", \"low\",' + init_year + final_year + '\"weekly\")'\r\n",
                "        # print(ws[cell_num].value)\r\n",
                "        # break\r\n",
                "    # break\r\n",
                "    # print(i, ws.max_row)\r\n",
                "wb2.save(\"smaller2.xlsx\")"
            ],
            "outputs": [],
            "metadata": {}
        },
        {
            "cell_type": "markdown",
            "source": [
                "1. After saving the changes, we upload the excel sheet to google sheets and all the values appear there. \r\n",
                "2. We then download the sheet with values and make a new dictionary of all companies with weekly prices"
            ],
            "metadata": {}
        },
        {
            "cell_type": "code",
            "execution_count": null,
            "source": [
                "df = pd.read_excel(\"downloaded-smaller2.xlsx\", sheet_name= \"HDFCBANK\", engine=\"openpyxl\")\r\n",
                "df = df.dropna(axis=0, how = 'all')\r\n",
                "df = df.dropna(axis = 1, how = \"all\")\r\n",
                "print(df)"
            ],
            "outputs": [],
            "metadata": {}
        },
        {
            "cell_type": "code",
            "execution_count": 100,
            "source": [
                "year_list = [str(x) for x in range(2002, 2021)]"
            ],
            "outputs": [],
            "metadata": {}
        },
        {
            "cell_type": "code",
            "execution_count": 103,
            "source": [
                "date_list = {}\r\n",
                "for i in df.Date:\r\n",
                "    date = str(i)\r\n",
                "    year = date[:4]\r\n",
                "    if year not in year_list:\r\n",
                "        continue\r\n",
                "    nor_date = date\r\n",
                "    if year in date_list.keys():\r\n",
                "        date_list[year]['days'].append(nor_date)\r\n",
                "    else:\r\n",
                "        date_list[year] = {\r\n",
                "            'days': [nor_date]}"
            ],
            "outputs": [],
            "metadata": {}
        },
        {
            "cell_type": "code",
            "execution_count": 104,
            "source": [
                "# wb = openpyxl.load_workbook(\"working_days.xlsx\")\r\n",
                "writer = pd.ExcelWriter(\"working_days.xlsx\", engine = 'openpyxl')\r\n",
                "for i in date_list.keys():\r\n",
                "    x = pd.DataFrame(date_list[i])\r\n",
                "    x.to_excel(writer, sheet_name= i, index = False)\r\n",
                "writer.save()"
            ],
            "outputs": [],
            "metadata": {}
        },
        {
            "cell_type": "markdown",
            "source": [
                "IMPLEMENTATION"
            ],
            "metadata": {}
        },
        {
            "cell_type": "markdown",
            "source": [
                "Reading required files"
            ],
            "metadata": {}
        },
        {
            "cell_type": "code",
            "execution_count": 2,
            "source": [
                "#Working days -> Has one working day from each week\r\n",
                "working_days = pd.read_excel(\"working_days.xlsx\", engine = \"openpyxl\", sheet_name = None)\r\n",
                "#nifty_companies -> List of companies in each year\r\n",
                "nifty_companies = pd.read_excel(\"dropped_NA.xlsx\", engine = \"openpyxl\", sheet_name = None)\r\n",
                "#company_data -> Has all the required to buy stocks\r\n",
                "company_data = pd.read_excel(\"downloaded-smaller2.xlsx\", engine = \"openpyxl\", sheet_name = None)"
            ],
            "outputs": [],
            "metadata": {}
        },
        {
            "cell_type": "code",
            "execution_count": 3,
            "source": [
                "#Working days -> Has one working day from each week\r\n",
                "for x in working_days.keys():\r\n",
                "    working_days[x] = working_days[x].dropna(axis = 1, how = 'all')\r\n",
                "    # working_days[x] = working_days[x].dropna(axis = 0, how = 'all')\r\n",
                "for x in nifty_companies.keys():\r\n",
                "    nifty_companies[x] = nifty_companies[x].dropna(axis = 1, how = 'all')\r\n",
                "    nifty_companies[x] = nifty_companies[x].dropna(axis = 0, how = 'all')\r\n",
                "for x in company_data.keys():\r\n",
                "    company_data[x] = company_data[x].dropna(axis = 1, how = 'all')\r\n",
                "    company_data[x] = company_data[x].dropna(axis = 0, how = 'all')"
            ],
            "outputs": [],
            "metadata": {}
        },
        {
            "cell_type": "markdown",
            "source": [
                "1. Iterate through the years\r\n",
                "2. Iterate through the working day of a week of  that year\r\n",
                "3. Iterate through the companies in nifty50 that year\r\n",
                "4. Check the buy conditions"
            ],
            "metadata": {}
        },
        {
            "cell_type": "code",
            "execution_count": 23,
            "source": [
                "for year in working_days:\r\n",
                "    df = []\r\n",
                "    print(year)\r\n",
                "    companies = nifty_companies[year]\r\n",
                "    for day in working_days[year].days:\r\n",
                "        print(day)\r\n",
                "        for company in companies['symbol']:\r\n",
                "            # print(company)\r\n",
                "            data = company_data[company]\r\n",
                "            # print(data.head())\r\n",
                "            # print(data.columns)\r\n",
                "            # print(data['Date'][1], \" \", data['Date.1'][1])\r\n",
                "            if(str(day) in str(data['Date'])):\r\n",
                "                print(data['Date'].)\r\n",
                "                # break\r\n",
                "            break\r\n",
                "        break\r\n",
                "    break"
            ],
            "outputs": [
                {
                    "output_type": "stream",
                    "name": "stdout",
                    "text": [
                        "2002\n",
                        "2002-01-04 15:29:59.712000\n",
                        "2002-01-11 15:29:59.712000   2002-01-11 15:29:59.712000\n"
                    ]
                }
            ],
            "metadata": {}
        },
        {
            "cell_type": "code",
            "execution_count": 33,
            "source": [
                "BIG_BOOK = []\r\n",
                "BIG_BOOK.append([\r\n",
                "        'Name', \r\n",
                "        'Symbol',\r\n",
                "        'Entry Price',\r\n",
                "        'Quantity',\r\n",
                "        'Days Held',\r\n",
                "        'Target',\r\n",
                "        'Initial Stop Loss',\r\n",
                "        'Exit Price',\r\n",
                "        'Invested Value',\r\n",
                "        'Current Price',\r\n",
                "        'PNL',\r\n",
                "        'Entry Date'\r\n",
                "    ])"
            ],
            "outputs": [],
            "metadata": {}
        },
        {
            "cell_type": "code",
            "execution_count": 34,
            "source": [
                "dict_transaction_book = {}\r\n",
                "# transaction_book = pd.DataFrame(dict_transaction_book)\r\n",
                "for year in working_days:\r\n",
                "    # print(year)\r\n",
                "    dict = {\r\n",
                "    'Name' : [], #1\r\n",
                "    'Symbol' : [], #2\r\n",
                "    'Entry Price' : [], #3\r\n",
                "    'Quantity' : [], #4\r\n",
                "    'Days Held' : [], #5\r\n",
                "    'Target' : [], #6\r\n",
                "    'Initial Stop Loss' : [], #7\r\n",
                "    'Exit Price' : [], #8\r\n",
                "    'Invested Value' : [], #9\r\n",
                "    'Current Price' : [], #10\r\n",
                "    'PNL' : [], #11,\r\n",
                "    'Entry Date' : [] #12\r\n",
                "    }\r\n",
                "    # df = pd.DataFrame(dict)\r\n",
                "    df = []\r\n",
                "    df.append([\r\n",
                "        'Name', \r\n",
                "        'Symbol',\r\n",
                "        'Entry Price',\r\n",
                "        'Quantity',\r\n",
                "        'Days Held',\r\n",
                "        'Target',\r\n",
                "        'Initial Stop Loss',\r\n",
                "        'Exit Price',\r\n",
                "        'Invested Value',\r\n",
                "        'Current Price',\r\n",
                "        'PNL',\r\n",
                "        'Entry Date'\r\n",
                "    ])\r\n",
                "    companies = nifty_companies[year]\r\n",
                "    # print(companies.head(5))\r\n",
                "    for day in working_days[year].days:\r\n",
                "        # print(day)\r\n",
                "        for company in companies['symbol']:\r\n",
                "            # print(company)\r\n",
                "            data = company_data[company]\r\n",
                "            flag = 1\r\n",
                "            for i in range(0, len(data['Date'])): \r\n",
                "                try:\r\n",
                "                    if(str(day) in str(data['Date'][i])):\r\n",
                "                        _index = i\r\n",
                "                        flag = 0\r\n",
                "                        break\r\n",
                "                    fiftyTwoWeek = float(data['52-week-high'][_index])\r\n",
                "                    ltp = float(data['High'][_index])\r\n",
                "                    \r\n",
                "                    if ltp >= fiftyTwoWeek:\r\n",
                "                        # print(company, \" \", fiftyTwoWeek, \" \", ltp)\r\n",
                "                        ind = companies['symbol'].index[companies['symbol'] == company][0]\r\n",
                "                        # print(ind)\r\n",
                "                        # print(companies.loc[ind]['Company Name'])\r\n",
                "                        # print(len(df.index))\r\n",
                "                        # print(df[ind])\r\n",
                "                        # df.loc[len(df.index)] = [\r\n",
                "                        #     companies.loc[ind]['Company Name'], #1\r\n",
                "                        #     company, #2\r\n",
                "                        #     ltp, #3\r\n",
                "                        #     int(1), #4\r\n",
                "                        #     int(1), #5\r\n",
                "                        #     int(1),#6\r\n",
                "                        #     (1.6 * ltp), #7\r\n",
                "                        #     (0.7 * ltp), #8\r\n",
                "                        #     int(0), #9\r\n",
                "                        #     '=GOOGLEFINANCE(\"NSE:' + str(company) + '\"', #10\r\n",
                "                        #     \"N/A\" #11\r\n",
                "                        # ]\r\n",
                "                        year_ = int(day[:4])\r\n",
                "                        month_ = int(day[5:7])\r\n",
                "                        day_ = int(day[8:10])\r\n",
                "                        date_ = '=DATE({},{},{})'.format(year_, month_, day_)\r\n",
                "                        f = [\r\n",
                "                            companies.loc[ind]['Company Name'], #1 Name\r\n",
                "                            company, #2 Symbol\r\n",
                "                            ltp, #3 Entry Price\r\n",
                "                            int(1), #4 Quantity\r\n",
                "                            int(1), #5 Days Held\r\n",
                "                            (1.6 * ltp), #6 target price\r\n",
                "                            (0.7 * ltp), #7 initial stop price \r\n",
                "                            int(1),#8 Exit Price                            \r\n",
                "                            int(0), #9 invested_value\r\n",
                "                            '=GOOGLEFINANCE(\"NSE:' + str(company) + '\")', #10\r\n",
                "                            \"N/A\", #11 profit or loss,\r\n",
                "                            str(date_) #12 Buy date\r\n",
                "                        ]\r\n",
                "                        if f in df:\r\n",
                "                            continue\r\n",
                "                        else:\r\n",
                "                            df.append(f)\r\n",
                "                            BIG_BOOK.append(f)\r\n",
                "                        # print(len(df))\r\n",
                "                        if flag == 0:\r\n",
                "                            break\r\n",
                "                except:\r\n",
                "                    continue\r\n",
                "            # print(data.head(5))\r\n",
                "            # break\r\n",
                "        # break\r\n",
                "        # print(df)\r\n",
                "    dict_transaction_book[str(year)] = df\r\n",
                "    # print(len(dict_transaction_book.keys()))\r\n",
                "    # if len(dict_transaction_book.keys()) == 1:\r\n",
                "    #     break\r\n"
            ],
            "outputs": [],
            "metadata": {}
        },
        {
            "cell_type": "code",
            "execution_count": 18,
            "source": [
                "for i in dict_transaction_book.keys():\r\n",
                "    # print(i)\r\n",
                "    for ij in dict_transaction_book[i]:\r\n",
                "        print(ij)\r\n",
                "        break"
            ],
            "outputs": [
                {
                    "output_type": "stream",
                    "name": "stdout",
                    "text": [
                        "['Name', 'Symbol', 'Entry Price', 'Quantity', 'Days Held', 'Target', 'Initial Stop Loss', 'Exit Price', 'Invested Value', 'Current Price', 'PNL', 'Entry Date']\n",
                        "['Name', 'Symbol', 'Entry Price', 'Quantity', 'Days Held', 'Target', 'Initial Stop Loss', 'Exit Price', 'Invested Value', 'Current Price', 'PNL', 'Entry Date']\n"
                    ]
                }
            ],
            "metadata": {}
        },
        {
            "cell_type": "code",
            "execution_count": 37,
            "source": [
                "writer = pd.ExcelWriter(\"transactions.xlsx\", engine = 'openpyxl')\r\n",
                "for i in dict_transaction_book.keys():\r\n",
                "    x = pd.DataFrame(dict_transaction_book[i])\r\n",
                "    x.to_excel(writer, sheet_name= i, index = False)\r\n",
                "writer.save()"
            ],
            "outputs": [],
            "metadata": {}
        },
        {
            "cell_type": "code",
            "execution_count": 35,
            "source": [
                "dx = pd.DataFrame(BIG_BOOK)\r\n",
                "dx.to_csv('BIG_BOOK.csv')"
            ],
            "outputs": [],
            "metadata": {}
        },
        {
            "cell_type": "code",
            "execution_count": 21,
            "source": [
                "\r\n",
                "# try :\r\n",
                "#     print(str(company_data['TATAPOWER'].Date[55]))\r\n",
                "# except:\r\n",
                "#     print('boo')\r\n",
                "# print(company_data['TATAPOWER'].head())\r\n",
                "dict = {\r\n",
                "    'Name' : [],\r\n",
                "    'Symbol' : [],\r\n",
                "    'Entry Price' : [],\r\n",
                "    'Quantity' : [],\r\n",
                "    'Days Held' : [],\r\n",
                "    'Target' : [],\r\n",
                "    'Initial Stop Loss' : []\r\n",
                "}\r\n",
                "ddx = pd.DataFrame(dict)\r\n",
                "\r\n",
                "ddx.loc[(len(ddx.index))] = ['ata', 'at', '54', '1', '1', '123']\r\n",
                "ddx.loc[(len(ddx.index))] = ['ata', 'at', '54', '1', '1', '12', '123']\r\n",
                "# if(ddx.loc[len(ddx.index) - 1] == )\r\n",
                "print(ddx['Name'])\r\n",
                "display(ddx)"
            ],
            "outputs": [
                {
                    "output_type": "error",
                    "ename": "ValueError",
                    "evalue": "cannot set a row with mismatched columns",
                    "traceback": [
                        "\u001b[1;31m---------------------------------------------------------------------------\u001b[0m",
                        "\u001b[1;31mValueError\u001b[0m                                Traceback (most recent call last)",
                        "\u001b[1;32m<ipython-input-21-6ec3930a6f01>\u001b[0m in \u001b[0;36m<module>\u001b[1;34m\u001b[0m\n\u001b[0;32m     15\u001b[0m \u001b[0mddx\u001b[0m \u001b[1;33m=\u001b[0m \u001b[0mpd\u001b[0m\u001b[1;33m.\u001b[0m\u001b[0mDataFrame\u001b[0m\u001b[1;33m(\u001b[0m\u001b[0mdict\u001b[0m\u001b[1;33m)\u001b[0m\u001b[1;33m\u001b[0m\u001b[1;33m\u001b[0m\u001b[0m\n\u001b[0;32m     16\u001b[0m \u001b[1;33m\u001b[0m\u001b[0m\n\u001b[1;32m---> 17\u001b[1;33m \u001b[0mddx\u001b[0m\u001b[1;33m.\u001b[0m\u001b[0mloc\u001b[0m\u001b[1;33m[\u001b[0m\u001b[1;33m(\u001b[0m\u001b[0mlen\u001b[0m\u001b[1;33m(\u001b[0m\u001b[0mddx\u001b[0m\u001b[1;33m.\u001b[0m\u001b[0mindex\u001b[0m\u001b[1;33m)\u001b[0m\u001b[1;33m)\u001b[0m\u001b[1;33m]\u001b[0m \u001b[1;33m=\u001b[0m \u001b[1;33m[\u001b[0m\u001b[1;34m'ata'\u001b[0m\u001b[1;33m,\u001b[0m \u001b[1;34m'at'\u001b[0m\u001b[1;33m,\u001b[0m \u001b[1;34m'54'\u001b[0m\u001b[1;33m,\u001b[0m \u001b[1;34m'1'\u001b[0m\u001b[1;33m,\u001b[0m \u001b[1;34m'1'\u001b[0m\u001b[1;33m,\u001b[0m \u001b[1;34m'123'\u001b[0m\u001b[1;33m]\u001b[0m\u001b[1;33m\u001b[0m\u001b[1;33m\u001b[0m\u001b[0m\n\u001b[0m\u001b[0;32m     18\u001b[0m \u001b[0mddx\u001b[0m\u001b[1;33m.\u001b[0m\u001b[0mloc\u001b[0m\u001b[1;33m[\u001b[0m\u001b[1;33m(\u001b[0m\u001b[0mlen\u001b[0m\u001b[1;33m(\u001b[0m\u001b[0mddx\u001b[0m\u001b[1;33m.\u001b[0m\u001b[0mindex\u001b[0m\u001b[1;33m)\u001b[0m\u001b[1;33m)\u001b[0m\u001b[1;33m]\u001b[0m \u001b[1;33m=\u001b[0m \u001b[1;33m[\u001b[0m\u001b[1;34m'ata'\u001b[0m\u001b[1;33m,\u001b[0m \u001b[1;34m'at'\u001b[0m\u001b[1;33m,\u001b[0m \u001b[1;34m'54'\u001b[0m\u001b[1;33m,\u001b[0m \u001b[1;34m'1'\u001b[0m\u001b[1;33m,\u001b[0m \u001b[1;34m'1'\u001b[0m\u001b[1;33m,\u001b[0m \u001b[1;34m'12'\u001b[0m\u001b[1;33m,\u001b[0m \u001b[1;34m'123'\u001b[0m\u001b[1;33m]\u001b[0m\u001b[1;33m\u001b[0m\u001b[1;33m\u001b[0m\u001b[0m\n\u001b[0;32m     19\u001b[0m \u001b[1;31m# if(ddx.loc[len(ddx.index) - 1] == )\u001b[0m\u001b[1;33m\u001b[0m\u001b[1;33m\u001b[0m\u001b[1;33m\u001b[0m\u001b[0m\n",
                        "\u001b[1;32mD:\\anaconda\\lib\\site-packages\\pandas\\core\\indexing.py\u001b[0m in \u001b[0;36m__setitem__\u001b[1;34m(self, key, value)\u001b[0m\n\u001b[0;32m    668\u001b[0m \u001b[1;33m\u001b[0m\u001b[0m\n\u001b[0;32m    669\u001b[0m         \u001b[0miloc\u001b[0m \u001b[1;33m=\u001b[0m \u001b[0mself\u001b[0m \u001b[1;32mif\u001b[0m \u001b[0mself\u001b[0m\u001b[1;33m.\u001b[0m\u001b[0mname\u001b[0m \u001b[1;33m==\u001b[0m \u001b[1;34m\"iloc\"\u001b[0m \u001b[1;32melse\u001b[0m \u001b[0mself\u001b[0m\u001b[1;33m.\u001b[0m\u001b[0mobj\u001b[0m\u001b[1;33m.\u001b[0m\u001b[0miloc\u001b[0m\u001b[1;33m\u001b[0m\u001b[1;33m\u001b[0m\u001b[0m\n\u001b[1;32m--> 670\u001b[1;33m         \u001b[0miloc\u001b[0m\u001b[1;33m.\u001b[0m\u001b[0m_setitem_with_indexer\u001b[0m\u001b[1;33m(\u001b[0m\u001b[0mindexer\u001b[0m\u001b[1;33m,\u001b[0m \u001b[0mvalue\u001b[0m\u001b[1;33m)\u001b[0m\u001b[1;33m\u001b[0m\u001b[1;33m\u001b[0m\u001b[0m\n\u001b[0m\u001b[0;32m    671\u001b[0m \u001b[1;33m\u001b[0m\u001b[0m\n\u001b[0;32m    672\u001b[0m     \u001b[1;32mdef\u001b[0m \u001b[0m_validate_key\u001b[0m\u001b[1;33m(\u001b[0m\u001b[0mself\u001b[0m\u001b[1;33m,\u001b[0m \u001b[0mkey\u001b[0m\u001b[1;33m,\u001b[0m \u001b[0maxis\u001b[0m\u001b[1;33m:\u001b[0m \u001b[0mint\u001b[0m\u001b[1;33m)\u001b[0m\u001b[1;33m:\u001b[0m\u001b[1;33m\u001b[0m\u001b[1;33m\u001b[0m\u001b[0m\n",
                        "\u001b[1;32mD:\\anaconda\\lib\\site-packages\\pandas\\core\\indexing.py\u001b[0m in \u001b[0;36m_setitem_with_indexer\u001b[1;34m(self, indexer, value)\u001b[0m\n\u001b[0;32m   1624\u001b[0m \u001b[1;33m\u001b[0m\u001b[0m\n\u001b[0;32m   1625\u001b[0m             \u001b[1;32mif\u001b[0m \u001b[0mmissing\u001b[0m\u001b[1;33m:\u001b[0m\u001b[1;33m\u001b[0m\u001b[1;33m\u001b[0m\u001b[0m\n\u001b[1;32m-> 1626\u001b[1;33m                 \u001b[0mself\u001b[0m\u001b[1;33m.\u001b[0m\u001b[0m_setitem_with_indexer_missing\u001b[0m\u001b[1;33m(\u001b[0m\u001b[0mindexer\u001b[0m\u001b[1;33m,\u001b[0m \u001b[0mvalue\u001b[0m\u001b[1;33m)\u001b[0m\u001b[1;33m\u001b[0m\u001b[1;33m\u001b[0m\u001b[0m\n\u001b[0m\u001b[0;32m   1627\u001b[0m                 \u001b[1;32mreturn\u001b[0m\u001b[1;33m\u001b[0m\u001b[1;33m\u001b[0m\u001b[0m\n\u001b[0;32m   1628\u001b[0m \u001b[1;33m\u001b[0m\u001b[0m\n",
                        "\u001b[1;32mD:\\anaconda\\lib\\site-packages\\pandas\\core\\indexing.py\u001b[0m in \u001b[0;36m_setitem_with_indexer_missing\u001b[1;34m(self, indexer, value)\u001b[0m\n\u001b[0;32m   1856\u001b[0m                     \u001b[1;31m# must have conforming columns\u001b[0m\u001b[1;33m\u001b[0m\u001b[1;33m\u001b[0m\u001b[1;33m\u001b[0m\u001b[0m\n\u001b[0;32m   1857\u001b[0m                     \u001b[1;32mif\u001b[0m \u001b[0mlen\u001b[0m\u001b[1;33m(\u001b[0m\u001b[0mvalue\u001b[0m\u001b[1;33m)\u001b[0m \u001b[1;33m!=\u001b[0m \u001b[0mlen\u001b[0m\u001b[1;33m(\u001b[0m\u001b[0mself\u001b[0m\u001b[1;33m.\u001b[0m\u001b[0mobj\u001b[0m\u001b[1;33m.\u001b[0m\u001b[0mcolumns\u001b[0m\u001b[1;33m)\u001b[0m\u001b[1;33m:\u001b[0m\u001b[1;33m\u001b[0m\u001b[1;33m\u001b[0m\u001b[0m\n\u001b[1;32m-> 1858\u001b[1;33m                         \u001b[1;32mraise\u001b[0m \u001b[0mValueError\u001b[0m\u001b[1;33m(\u001b[0m\u001b[1;34m\"cannot set a row with mismatched columns\"\u001b[0m\u001b[1;33m)\u001b[0m\u001b[1;33m\u001b[0m\u001b[1;33m\u001b[0m\u001b[0m\n\u001b[0m\u001b[0;32m   1859\u001b[0m \u001b[1;33m\u001b[0m\u001b[0m\n\u001b[0;32m   1860\u001b[0m                 \u001b[0mvalue\u001b[0m \u001b[1;33m=\u001b[0m \u001b[0mSeries\u001b[0m\u001b[1;33m(\u001b[0m\u001b[0mvalue\u001b[0m\u001b[1;33m,\u001b[0m \u001b[0mindex\u001b[0m\u001b[1;33m=\u001b[0m\u001b[0mself\u001b[0m\u001b[1;33m.\u001b[0m\u001b[0mobj\u001b[0m\u001b[1;33m.\u001b[0m\u001b[0mcolumns\u001b[0m\u001b[1;33m,\u001b[0m \u001b[0mname\u001b[0m\u001b[1;33m=\u001b[0m\u001b[0mindexer\u001b[0m\u001b[1;33m)\u001b[0m\u001b[1;33m\u001b[0m\u001b[1;33m\u001b[0m\u001b[0m\n",
                        "\u001b[1;31mValueError\u001b[0m: cannot set a row with mismatched columns"
                    ]
                }
            ],
            "metadata": {}
        },
        {
            "cell_type": "code",
            "execution_count": 41,
            "source": [
                "companies = nifty_companies['2002']\r\n",
                "ind = companies['symbol'].index[companies['symbol'] == 'TATAPOWER'][0]\r\n",
                "print(companies.loc[ind]['Company Name'])"
            ],
            "outputs": [
                {
                    "output_type": "stream",
                    "name": "stdout",
                    "text": [
                        "Tata Power Co. Ltd.\n"
                    ]
                }
            ],
            "metadata": {}
        },
        {
            "cell_type": "code",
            "execution_count": 35,
            "source": [
                "for i in dict.keys():\r\n",
                "    print(i, end=\"\")\r\n",
                "    for j in dict[i].keys():\r\n",
                "        print(dict[i][j])"
            ],
            "outputs": [
                {
                    "output_type": "stream",
                    "name": "stdout",
                    "text": [
                        "155hi\n",
                        "21bye\n"
                    ]
                }
            ],
            "metadata": {}
        },
        {
            "cell_type": "code",
            "execution_count": null,
            "source": [],
            "outputs": [],
            "metadata": {}
        }
    ],
    "metadata": {
        "orig_nbformat": 4,
        "language_info": {
            "name": "python",
            "version": "3.7.3",
            "mimetype": "text/x-python",
            "codemirror_mode": {
                "name": "ipython",
                "version": 3
            },
            "pygments_lexer": "ipython3",
            "nbconvert_exporter": "python",
            "file_extension": ".py"
        },
        "kernelspec": {
            "name": "python3",
            "display_name": "Python 3.7.3 64-bit ('base': conda)"
        },
        "interpreter": {
            "hash": "cc5f70855ac006f3de45a3cc3b9e7d8d53845e50458809cb162b0174266dec97"
        }
    },
    "nbformat": 4,
    "nbformat_minor": 2
}