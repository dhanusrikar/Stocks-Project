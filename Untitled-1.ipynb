{
    "cells": [
        {
            "cell_type": "code",
            "execution_count": 2,
            "source": [
                "print('hello')"
            ],
            "outputs": [
                {
                    "output_type": "stream",
                    "name": "stdout",
                    "text": [
                        "hello\n"
                    ]
                }
            ],
            "metadata": {}
        },
        {
            "cell_type": "code",
            "execution_count": 3,
            "source": [
                "import requests\r\n",
                "from bs4 import BeautifulSoup"
            ],
            "outputs": [],
            "metadata": {}
        },
        {
            "cell_type": "code",
            "execution_count": 4,
            "source": [
                "import numpy as np\r\n",
                "import pandas as pd\r\n",
                "import json\r\n",
                "import csv\r\n",
                "from google.oauth2 import service_account\r\n",
                "import pygsheets"
            ],
            "outputs": [],
            "metadata": {}
        },
        {
            "cell_type": "code",
            "execution_count": 6,
            "source": [
                "import gspread\r\n",
                "from oauth2client.service_account import ServiceAccountCredentials\r\n",
                "scope = [\"https://www.googleapis.com/auth/drive\", \"https://spreadsheets.google.com/feeds\"]\r\n",
                "credentials = ServiceAccountCredentials.from_json_keyfile_name('D:\\studies\\stocks project\\Stocks-Project\\service.json', scope)\r\n",
                "gc = gspread.authorize(credentials)"
            ],
            "outputs": [],
            "metadata": {}
        },
        {
            "cell_type": "code",
            "execution_count": 7,
            "source": [
                "wb = gc.open('StocksProject')\r\n",
                "worksheet = wb.worksheet('2000')"
            ],
            "outputs": [],
            "metadata": {}
        },
        {
            "cell_type": "markdown",
            "source": [
                "Web Scraping"
            ],
            "metadata": {}
        },
        {
            "cell_type": "code",
            "execution_count": 266,
            "source": [
                "def hasNumbers(inputString):\r\n",
                "    return any(char.isdigit() for char in inputString)"
            ],
            "outputs": [],
            "metadata": {}
        },
        {
            "cell_type": "code",
            "execution_count": 284,
            "source": [
                "def find_symbol(name):\r\n",
                "    s = \"\"\r\n",
                "    for x in name:\r\n",
                "        if(x == \" \" or x==\".\"):\r\n",
                "            s += \"+\"\r\n",
                "        elif(x == '&'):\r\n",
                "            s += \"%26\"\r\n",
                "        else:\r\n",
                "            s += x\r\n",
                "    if(s[-1] == '+'):\r\n",
                "        s = s + \"nse\"\r\n",
                "    else:\r\n",
                "        s = s + \"+nse\"\r\n",
                "    found = 0\r\n",
                "    symbol = \"NA\"\r\n",
                "    url = \"https://www.google.com/search?q=\" + s\r\n",
                "    # print(s)\r\n",
                "    result  = requests.get(url)\r\n",
                "    src = result.content\r\n",
                "    soup = BeautifulSoup(src, \"html.parser\")\r\n",
                "    spans = soup.find_all('span')\r\n",
                "    lines = [span.get_text() for span in spans]\r\n",
                "    for i in lines:\r\n",
                "        if '(NSE)' in i:\r\n",
                "            symbol = i\r\n",
                "            found = 1\r\n",
                "            break\r\n",
                "    if(found == 1):\r\n",
                "        return symbol[:len(symbol)-5].upper()\r\n",
                "        \r\n",
                "    if(found == 0):\r\n",
                "        x = soup.find_all('a')\r\n",
                "        mc_number = 111111\r\n",
                "        nse_number = 111111\r\n",
                "        mc_symbol = \"not found\"\r\n",
                "        nse_symbol = \"not found\"\r\n",
                "        for i in x:\r\n",
                "            if('www1.nseindia.com/live_market/dynaContent' in i.attrs['href']):\r\n",
                "                nse_number = x.index(i)\r\n",
                "                li = str(i.attrs['href'])\r\n",
                "                nse_symbol = li[102:li.find('&')]\r\n",
                "                found = 1\r\n",
                "                break\r\n",
                "        \r\n",
                "        for i in x:\r\n",
                "            if('www.moneycontrol.com' in i.attrs['href']):\r\n",
                "                mc_number = x.index(i)\r\n",
                "                link = str(i.attrs['href'])\r\n",
                "                n = link.find('/', 58) + 1\r\n",
                "                cut_link = link[(n):]\r\n",
                "                x = cut_link.find('/') + 1\r\n",
                "                y = cut_link.find('&')\r\n",
                "                mc_symbol = cut_link[x:y]\r\n",
                "                if(hasNumbers(mc_symbol)):\r\n",
                "                    ur = link[:link.find('&')]\r\n",
                "                    # print(ur)\r\n",
                "                    ur = ur[:len(ur)-len(mc_symbol)-1] [::-1]\r\n",
                "                    # print(ur)\r\n",
                "                    sym = ur.find('/')\r\n",
                "                    mc_symbol = ur[:sym] [::-1]\r\n",
                "                    # print (mc_symbol)\r\n",
                "                found = 1\r\n",
                "                break\r\n",
                "        \r\n",
                "        if found == 1:\r\n",
                "            if(nse_number < mc_number):\r\n",
                "                symbol = nse_symbol\r\n",
                "            else:\r\n",
                "                symbol = mc_symbol\r\n",
                "    if(found == 1):\r\n",
                "        return symbol.upper()\r\n",
                "    else:\r\n",
                "        return \"not found\"\r\n",
                "\r\n"
            ],
            "outputs": [],
            "metadata": {}
        },
        {
            "cell_type": "markdown",
            "source": [
                "testing function"
            ],
            "metadata": {}
        },
        {
            "cell_type": "code",
            "execution_count": null,
            "source": [
                "com = 'Bharti Tele-Ventures Ltd'\r\n",
                "# print(com[:len(com)-5])\r\n",
                "print(find_symbol(com))"
            ],
            "outputs": [],
            "metadata": {}
        },
        {
            "cell_type": "code",
            "execution_count": 282,
            "source": [
                "src_excel_file = 'company_original.xlsx'\r\n",
                "nifty_1995 = pd.read_excel(src_excel_file, sheet_name = '1995', engine = 'openpyxl')\r\n",
                "nifty_changes = pd.read_excel(src_excel_file, sheet_name = 'Changes', engine = 'openpyxl')\r\n",
                "# print(nifty_1995.shape)"
            ],
            "outputs": [],
            "metadata": {}
        },
        {
            "cell_type": "markdown",
            "source": [
                "SYMBOLS OF NIFTY 50 - 1995"
            ],
            "metadata": {}
        },
        {
            "cell_type": "code",
            "execution_count": 285,
            "source": [
                "for i in range(0, len(nifty_1995['Company Name'])):\r\n",
                "    nifty_1995.iloc[i, 1] = find_symbol(nifty_1995.iloc[i,0])\r\n",
                "    # print(nifty_1995['Company Name'][i], \"\\t\\t\\t\", nifty_1995.iloc[i, 1])\r\n",
                "# print(nifty_1995.iloc[1,0])"
            ],
            "outputs": [],
            "metadata": {}
        },
        {
            "cell_type": "markdown",
            "source": [
                "SYMBOLS OF INCLUDED INDECIES"
            ],
            "metadata": {}
        },
        {
            "cell_type": "code",
            "execution_count": 286,
            "source": [
                "for i in range(0, len(nifty_changes['Included in Index'])):\r\n",
                "    if(pd.isnull(nifty_changes.iloc[i,1])):\r\n",
                "        continue\r\n",
                "    nifty_changes.iloc[i, 2] = find_symbol(nifty_changes.iloc[i,1])\r\n",
                "#     print(nifty_changes['Included in Index'][i], \"\\t\\t\\t\", nifty_changes.iloc[i, 2])"
            ],
            "outputs": [],
            "metadata": {}
        },
        {
            "cell_type": "markdown",
            "source": [
                "SYMBOLS OF EXCLUDED INDECIES"
            ],
            "metadata": {}
        },
        {
            "cell_type": "code",
            "execution_count": 287,
            "source": [
                "for i in range(0, len(nifty_changes['Excluded from Index'])):\r\n",
                "    if(pd.isnull(nifty_changes.iloc[i,3])):\r\n",
                "        continue\r\n",
                "    nifty_changes.iloc[i, 4] = find_symbol(nifty_changes.iloc[i,3])\r\n",
                "#     print(nifty_changes['Excluded from Index'][i], \"\\t\\t\\t\", nifty_changes.iloc[i, 4])"
            ],
            "outputs": [],
            "metadata": {}
        },
        {
            "cell_type": "markdown",
            "source": [
                "SHEET NAMES WITH DATA FRAMES"
            ],
            "metadata": {}
        },
        {
            "cell_type": "code",
            "execution_count": 288,
            "source": [
                "dfs = {'changes' : nifty_changes, '1995': nifty_1995}"
            ],
            "outputs": [],
            "metadata": {}
        },
        {
            "cell_type": "markdown",
            "source": [
                "STORING DATAFRAMES"
            ],
            "metadata": {}
        },
        {
            "cell_type": "code",
            "execution_count": 295,
            "source": [
                "writer = pd.ExcelWriter('test2.xlsx', engine='openpyxl')\r\n",
                "# print(nifty_1995)\r\n",
                "for i in dfs.keys():\r\n",
                "    dfs[i].to_excel(writer, sheet_name = i, index = False)\r\n",
                "writer.save()\r\n",
                "# nifty_1995.to_excel(writer, sheet_name = '1995')"
            ],
            "outputs": [],
            "metadata": {}
        },
        {
            "cell_type": "markdown",
            "source": [
                "List of all years"
            ],
            "metadata": {}
        },
        {
            "cell_type": "code",
            "execution_count": 291,
            "source": [
                "year_list = []\r\n",
                "for i in range(0, len(nifty_changes.Year)):\r\n",
                "    if(not pd.isnull(nifty_changes.Year[i])):\r\n",
                "        x = int(nifty_changes.Year[i])\r\n",
                "        year_list.append(str(x))\r\n",
                "print(year_list)"
            ],
            "outputs": [
                {
                    "output_type": "stream",
                    "name": "stdout",
                    "text": [
                        "['1996', '1997', '1998', '1999', '2000', '2002', '2003', '2004', '2005', '2006', '2007', '2008', '2009', '2010', '2011', '2012', '2013', '2014', '2015', '2016', '2017', '2018', '2019', '2020']\n"
                    ]
                }
            ],
            "metadata": {}
        },
        {
            "cell_type": "markdown",
            "source": [
                "Testing"
            ],
            "metadata": {}
        },
        {
            "cell_type": "code",
            "execution_count": 289,
            "source": [
                "# dfs['changes'].head()\r\n",
                "for i in dfs.keys():\r\n",
                "    print(i)"
            ],
            "outputs": [
                {
                    "output_type": "stream",
                    "name": "stdout",
                    "text": [
                        "changes\n",
                        "1995\n"
                    ]
                }
            ],
            "metadata": {}
        },
        {
            "cell_type": "code",
            "execution_count": 293,
            "source": [
                "# nifty_changes.head()\r\n",
                "f = dfs['2019'].copy()\r\n",
                "f"
            ],
            "outputs": [
                {
                    "output_type": "execute_result",
                    "data": {
                        "text/plain": [
                            "                                 Company Name        symbol\n",
                            "0                                  I T C Ltd.           ITC\n",
                            "1                              HDFC Bank Ltd.      HDFCBANK\n",
                            "2                         State Bank of India          SBIN\n",
                            "3                                   HDFC Ltd.          HDFC\n",
                            "4                            Tata Motors Ltd.    TATAMOTORS\n",
                            "5                    Hindalco Industries Ltd.      HINDALCO\n",
                            "6                             Tata Steel Ltd.     TATASTEEL\n",
                            "7                     Hindustan Unilever Ltd.    HINDUNILVR\n",
                            "8              INDIAN PETROCHEMICALS CORP.LTD           IPC\n",
                            "9                    Reliance Industries Ltd.      RELIANCE\n",
                            "10                      East India Hotels Ltd           EIH\n",
                            "11                    Mahindra & Mahindra Ltd           M&M\n",
                            "12                                  Cipla Ltd         CIPLA\n",
                            "13                  Hero Honda Motors Limited    HEROMOTOCO\n",
                            "14               Infosys Technologies Limited          INFY\n",
                            "15           Bharat Petroleum Corporation Ltd          BPCL\n",
                            "16                       HCL Technologies Ltd       HCLTECH\n",
                            "17                             ICICI Bank Ltd     ICICIBANK\n",
                            "18          Sun Pharmaceutical Industries Ltd     SUNPHARMA\n",
                            "19                   Videsh Sanchar Nigam Ltd       HISTORY\n",
                            "20             Gas Authority of India Limited          GAIL\n",
                            "21                   Bharti Tele-Ventures Ltd  BHARTIAIRTEL\n",
                            "22                        Larsen & Toubro Ltd            LT\n",
                            "23                       Maruti Udyog Limited        MARUTI\n",
                            "24          Oil & Natural Gas Corporation Ltd          ONGC\n",
                            "25              Tata Consultancy Services Ltd           TCS\n",
                            "26                                   NTPC Ltd          NTPC\n",
                            "27        Power Grid Corporation of India Ltd     POWERGRID\n",
                            "28                              Axis Bank Ltd      AXISBANK\n",
                            "29                             Bajaj Auto Ltd    BAJAJ-AUTO\n",
                            "30               Dr. Reddy's Laboratories Ltd       DRREDDY\n",
                            "31                    Kotak Mahindra Bank Ltd     KOTAKBANK\n",
                            "32                           Sesa Goa Limited          VEDL\n",
                            "33                             Coal India Ltd     COALINDIA\n",
                            "34                           Asian Paints Ltd    ASIANPAINT\n",
                            "35                       UltraTech Cement Ltd    ULTRACEMCO\n",
                            "36                          Indusind Bank Ltd    INDUSINDBK\n",
                            "37                                  Wipro Ltd         WIPRO\n",
                            "38                          Tech Mahindra Ltd         TECHM\n",
                            "39          Zee Entertainment Enterprises Ltd          ZEEL\n",
                            "40  Adani Ports and Special Economic Zone Ltd    ADANIPORTS\n",
                            "41                               Yes Bank Ltd       YESBANK\n",
                            "42                        Bharti Infratel Ltd   INDUSTOWERS\n",
                            "43     Bharti Infratel Ltd. Eicher Motors Ltd     EICHERMOT\n",
                            "44                          Bajaj Finance Ltd    BAJFINANCE\n",
                            "45                 Indian Oil Corporation Ltd           IOC\n",
                            "46                                    UPL Ltd           UPL\n",
                            "47                                Vedanta Ltd          VEDL\n",
                            "48                                        NaN           NaN\n",
                            "49                          Bajaj Finserv Ltd    BAJAJFINSV\n",
                            "50                      Grasim Industries Ltd        GRASIM\n",
                            "51                              JSW Steel Ltd      JSWSTEEL\n",
                            "52                          Titan Company Ltd         TITAN\n",
                            "53                   Britannia Industries Ltd     BRITANNIA\n",
                            "54                           Nestle India Ltd     NESTLEIND"
                        ],
                        "text/html": [
                            "<div>\n",
                            "<style scoped>\n",
                            "    .dataframe tbody tr th:only-of-type {\n",
                            "        vertical-align: middle;\n",
                            "    }\n",
                            "\n",
                            "    .dataframe tbody tr th {\n",
                            "        vertical-align: top;\n",
                            "    }\n",
                            "\n",
                            "    .dataframe thead th {\n",
                            "        text-align: right;\n",
                            "    }\n",
                            "</style>\n",
                            "<table border=\"1\" class=\"dataframe\">\n",
                            "  <thead>\n",
                            "    <tr style=\"text-align: right;\">\n",
                            "      <th></th>\n",
                            "      <th>Company Name</th>\n",
                            "      <th>symbol</th>\n",
                            "    </tr>\n",
                            "  </thead>\n",
                            "  <tbody>\n",
                            "    <tr>\n",
                            "      <th>0</th>\n",
                            "      <td>I T C Ltd.</td>\n",
                            "      <td>ITC</td>\n",
                            "    </tr>\n",
                            "    <tr>\n",
                            "      <th>1</th>\n",
                            "      <td>HDFC Bank Ltd.</td>\n",
                            "      <td>HDFCBANK</td>\n",
                            "    </tr>\n",
                            "    <tr>\n",
                            "      <th>2</th>\n",
                            "      <td>State Bank of India</td>\n",
                            "      <td>SBIN</td>\n",
                            "    </tr>\n",
                            "    <tr>\n",
                            "      <th>3</th>\n",
                            "      <td>HDFC Ltd.</td>\n",
                            "      <td>HDFC</td>\n",
                            "    </tr>\n",
                            "    <tr>\n",
                            "      <th>4</th>\n",
                            "      <td>Tata Motors Ltd.</td>\n",
                            "      <td>TATAMOTORS</td>\n",
                            "    </tr>\n",
                            "    <tr>\n",
                            "      <th>5</th>\n",
                            "      <td>Hindalco Industries Ltd.</td>\n",
                            "      <td>HINDALCO</td>\n",
                            "    </tr>\n",
                            "    <tr>\n",
                            "      <th>6</th>\n",
                            "      <td>Tata Steel Ltd.</td>\n",
                            "      <td>TATASTEEL</td>\n",
                            "    </tr>\n",
                            "    <tr>\n",
                            "      <th>7</th>\n",
                            "      <td>Hindustan Unilever Ltd.</td>\n",
                            "      <td>HINDUNILVR</td>\n",
                            "    </tr>\n",
                            "    <tr>\n",
                            "      <th>8</th>\n",
                            "      <td>INDIAN PETROCHEMICALS CORP.LTD</td>\n",
                            "      <td>IPC</td>\n",
                            "    </tr>\n",
                            "    <tr>\n",
                            "      <th>9</th>\n",
                            "      <td>Reliance Industries Ltd.</td>\n",
                            "      <td>RELIANCE</td>\n",
                            "    </tr>\n",
                            "    <tr>\n",
                            "      <th>10</th>\n",
                            "      <td>East India Hotels Ltd</td>\n",
                            "      <td>EIH</td>\n",
                            "    </tr>\n",
                            "    <tr>\n",
                            "      <th>11</th>\n",
                            "      <td>Mahindra &amp; Mahindra Ltd</td>\n",
                            "      <td>M&amp;M</td>\n",
                            "    </tr>\n",
                            "    <tr>\n",
                            "      <th>12</th>\n",
                            "      <td>Cipla Ltd</td>\n",
                            "      <td>CIPLA</td>\n",
                            "    </tr>\n",
                            "    <tr>\n",
                            "      <th>13</th>\n",
                            "      <td>Hero Honda Motors Limited</td>\n",
                            "      <td>HEROMOTOCO</td>\n",
                            "    </tr>\n",
                            "    <tr>\n",
                            "      <th>14</th>\n",
                            "      <td>Infosys Technologies Limited</td>\n",
                            "      <td>INFY</td>\n",
                            "    </tr>\n",
                            "    <tr>\n",
                            "      <th>15</th>\n",
                            "      <td>Bharat Petroleum Corporation Ltd</td>\n",
                            "      <td>BPCL</td>\n",
                            "    </tr>\n",
                            "    <tr>\n",
                            "      <th>16</th>\n",
                            "      <td>HCL Technologies Ltd</td>\n",
                            "      <td>HCLTECH</td>\n",
                            "    </tr>\n",
                            "    <tr>\n",
                            "      <th>17</th>\n",
                            "      <td>ICICI Bank Ltd</td>\n",
                            "      <td>ICICIBANK</td>\n",
                            "    </tr>\n",
                            "    <tr>\n",
                            "      <th>18</th>\n",
                            "      <td>Sun Pharmaceutical Industries Ltd</td>\n",
                            "      <td>SUNPHARMA</td>\n",
                            "    </tr>\n",
                            "    <tr>\n",
                            "      <th>19</th>\n",
                            "      <td>Videsh Sanchar Nigam Ltd</td>\n",
                            "      <td>HISTORY</td>\n",
                            "    </tr>\n",
                            "    <tr>\n",
                            "      <th>20</th>\n",
                            "      <td>Gas Authority of India Limited</td>\n",
                            "      <td>GAIL</td>\n",
                            "    </tr>\n",
                            "    <tr>\n",
                            "      <th>21</th>\n",
                            "      <td>Bharti Tele-Ventures Ltd</td>\n",
                            "      <td>BHARTIAIRTEL</td>\n",
                            "    </tr>\n",
                            "    <tr>\n",
                            "      <th>22</th>\n",
                            "      <td>Larsen &amp; Toubro Ltd</td>\n",
                            "      <td>LT</td>\n",
                            "    </tr>\n",
                            "    <tr>\n",
                            "      <th>23</th>\n",
                            "      <td>Maruti Udyog Limited</td>\n",
                            "      <td>MARUTI</td>\n",
                            "    </tr>\n",
                            "    <tr>\n",
                            "      <th>24</th>\n",
                            "      <td>Oil &amp; Natural Gas Corporation Ltd</td>\n",
                            "      <td>ONGC</td>\n",
                            "    </tr>\n",
                            "    <tr>\n",
                            "      <th>25</th>\n",
                            "      <td>Tata Consultancy Services Ltd</td>\n",
                            "      <td>TCS</td>\n",
                            "    </tr>\n",
                            "    <tr>\n",
                            "      <th>26</th>\n",
                            "      <td>NTPC Ltd</td>\n",
                            "      <td>NTPC</td>\n",
                            "    </tr>\n",
                            "    <tr>\n",
                            "      <th>27</th>\n",
                            "      <td>Power Grid Corporation of India Ltd</td>\n",
                            "      <td>POWERGRID</td>\n",
                            "    </tr>\n",
                            "    <tr>\n",
                            "      <th>28</th>\n",
                            "      <td>Axis Bank Ltd</td>\n",
                            "      <td>AXISBANK</td>\n",
                            "    </tr>\n",
                            "    <tr>\n",
                            "      <th>29</th>\n",
                            "      <td>Bajaj Auto Ltd</td>\n",
                            "      <td>BAJAJ-AUTO</td>\n",
                            "    </tr>\n",
                            "    <tr>\n",
                            "      <th>30</th>\n",
                            "      <td>Dr. Reddy's Laboratories Ltd</td>\n",
                            "      <td>DRREDDY</td>\n",
                            "    </tr>\n",
                            "    <tr>\n",
                            "      <th>31</th>\n",
                            "      <td>Kotak Mahindra Bank Ltd</td>\n",
                            "      <td>KOTAKBANK</td>\n",
                            "    </tr>\n",
                            "    <tr>\n",
                            "      <th>32</th>\n",
                            "      <td>Sesa Goa Limited</td>\n",
                            "      <td>VEDL</td>\n",
                            "    </tr>\n",
                            "    <tr>\n",
                            "      <th>33</th>\n",
                            "      <td>Coal India Ltd</td>\n",
                            "      <td>COALINDIA</td>\n",
                            "    </tr>\n",
                            "    <tr>\n",
                            "      <th>34</th>\n",
                            "      <td>Asian Paints Ltd</td>\n",
                            "      <td>ASIANPAINT</td>\n",
                            "    </tr>\n",
                            "    <tr>\n",
                            "      <th>35</th>\n",
                            "      <td>UltraTech Cement Ltd</td>\n",
                            "      <td>ULTRACEMCO</td>\n",
                            "    </tr>\n",
                            "    <tr>\n",
                            "      <th>36</th>\n",
                            "      <td>Indusind Bank Ltd</td>\n",
                            "      <td>INDUSINDBK</td>\n",
                            "    </tr>\n",
                            "    <tr>\n",
                            "      <th>37</th>\n",
                            "      <td>Wipro Ltd</td>\n",
                            "      <td>WIPRO</td>\n",
                            "    </tr>\n",
                            "    <tr>\n",
                            "      <th>38</th>\n",
                            "      <td>Tech Mahindra Ltd</td>\n",
                            "      <td>TECHM</td>\n",
                            "    </tr>\n",
                            "    <tr>\n",
                            "      <th>39</th>\n",
                            "      <td>Zee Entertainment Enterprises Ltd</td>\n",
                            "      <td>ZEEL</td>\n",
                            "    </tr>\n",
                            "    <tr>\n",
                            "      <th>40</th>\n",
                            "      <td>Adani Ports and Special Economic Zone Ltd</td>\n",
                            "      <td>ADANIPORTS</td>\n",
                            "    </tr>\n",
                            "    <tr>\n",
                            "      <th>41</th>\n",
                            "      <td>Yes Bank Ltd</td>\n",
                            "      <td>YESBANK</td>\n",
                            "    </tr>\n",
                            "    <tr>\n",
                            "      <th>42</th>\n",
                            "      <td>Bharti Infratel Ltd</td>\n",
                            "      <td>INDUSTOWERS</td>\n",
                            "    </tr>\n",
                            "    <tr>\n",
                            "      <th>43</th>\n",
                            "      <td>Bharti Infratel Ltd. Eicher Motors Ltd</td>\n",
                            "      <td>EICHERMOT</td>\n",
                            "    </tr>\n",
                            "    <tr>\n",
                            "      <th>44</th>\n",
                            "      <td>Bajaj Finance Ltd</td>\n",
                            "      <td>BAJFINANCE</td>\n",
                            "    </tr>\n",
                            "    <tr>\n",
                            "      <th>45</th>\n",
                            "      <td>Indian Oil Corporation Ltd</td>\n",
                            "      <td>IOC</td>\n",
                            "    </tr>\n",
                            "    <tr>\n",
                            "      <th>46</th>\n",
                            "      <td>UPL Ltd</td>\n",
                            "      <td>UPL</td>\n",
                            "    </tr>\n",
                            "    <tr>\n",
                            "      <th>47</th>\n",
                            "      <td>Vedanta Ltd</td>\n",
                            "      <td>VEDL</td>\n",
                            "    </tr>\n",
                            "    <tr>\n",
                            "      <th>48</th>\n",
                            "      <td>NaN</td>\n",
                            "      <td>NaN</td>\n",
                            "    </tr>\n",
                            "    <tr>\n",
                            "      <th>49</th>\n",
                            "      <td>Bajaj Finserv Ltd</td>\n",
                            "      <td>BAJAJFINSV</td>\n",
                            "    </tr>\n",
                            "    <tr>\n",
                            "      <th>50</th>\n",
                            "      <td>Grasim Industries Ltd</td>\n",
                            "      <td>GRASIM</td>\n",
                            "    </tr>\n",
                            "    <tr>\n",
                            "      <th>51</th>\n",
                            "      <td>JSW Steel Ltd</td>\n",
                            "      <td>JSWSTEEL</td>\n",
                            "    </tr>\n",
                            "    <tr>\n",
                            "      <th>52</th>\n",
                            "      <td>Titan Company Ltd</td>\n",
                            "      <td>TITAN</td>\n",
                            "    </tr>\n",
                            "    <tr>\n",
                            "      <th>53</th>\n",
                            "      <td>Britannia Industries Ltd</td>\n",
                            "      <td>BRITANNIA</td>\n",
                            "    </tr>\n",
                            "    <tr>\n",
                            "      <th>54</th>\n",
                            "      <td>Nestle India Ltd</td>\n",
                            "      <td>NESTLEIND</td>\n",
                            "    </tr>\n",
                            "  </tbody>\n",
                            "</table>\n",
                            "</div>"
                        ]
                    },
                    "metadata": {},
                    "execution_count": 293
                }
            ],
            "metadata": {}
        },
        {
            "cell_type": "code",
            "execution_count": 186,
            "source": [
                "company_list_name = [str(x) for x in data['Company Name']]\r\n",
                "company_list_symbol = [str(x) for x in data.symbol]\r\n",
                "# print(company_list_name[1])\r\n",
                "print(len(company_list_name), len(company_list_symbol))"
            ],
            "outputs": [
                {
                    "output_type": "stream",
                    "name": "stdout",
                    "text": [
                        "46 46\n"
                    ]
                }
            ],
            "metadata": {}
        },
        {
            "cell_type": "markdown",
            "source": [
                "Creating dataframes"
            ],
            "metadata": {}
        },
        {
            "cell_type": "code",
            "execution_count": null,
            "source": [
                "count = 0\r\n",
                "dfs = {'changes' : nifty_changes, '1995': nifty_1995}\r\n",
                "data = dfs['1995'].copy()\r\n",
                "company_list_name = [str(x) for x in data['Company Name']]\r\n",
                "company_list_symbol = [str(x) for x in data.symbol]\r\n",
                "print(len(company_list_name), len(company_list_symbol))\r\n",
                "for i in range(0, len(nifty_changes.Year)):\r\n",
                "    if (i == 0):\r\n",
                "        print('skipped')\r\n",
                "        continue\r\n",
                "    in_sy = nifty_changes['Symbol_In'][i]\r\n",
                "    ex_sy = nifty_changes['Symbol_Ex'][i]\r\n",
                "    if(pd.isnull(in_sy) and pd.isnull(ex_sy)):\r\n",
                "        print(len(company_list_name), len(company_list_symbol))\r\n",
                "        \r\n",
                "        dfs[year_list[count]] = pd.DataFrame({\r\n",
                "            'Company Name' : company_list_name,\r\n",
                "            'symbol' : company_list_symbol\r\n",
                "        })\r\n",
                "        count = count + 1\r\n",
                "    else:\r\n",
                "        # print(ex_sy, in_sy)\r\n",
                "        if(ex_sy in company_list_symbol):\r\n",
                "            id = company_list_symbol.index(ex_sy)\r\n",
                "            print(id, company_list_symbol[id], company_list_name[id])\r\n",
                "            company_list_symbol.remove(ex_sy)\r\n",
                "            company_list_name.remove(company_list_name[id])\r\n",
                "        company_list_symbol.append(in_sy)\r\n",
                "        company_list_name.append(nifty_changes['Included in Index'][i])\r\n",
                "        # add company\r\n",
                "        # if in excluded remove it\r\n",
                "dfs[year_list[count]] = pd.DataFrame({\r\n",
                "            'Company Name' : company_list_name,\r\n",
                "            'symbol' : company_list_symbol\r\n",
                "        })"
            ],
            "outputs": [],
            "metadata": {}
        },
        {
            "cell_type": "markdown",
            "source": [
                "Excel Formulas using python"
            ],
            "metadata": {}
        },
        {
            "cell_type": "code",
            "execution_count": 308,
            "source": [
                "import openpyxl\r\n",
                "wb = openpyxl.load_workbook(\"D:\\studies\\stocks project\\Stocks-Project\\\\test2.xlsx\")"
            ],
            "outputs": [],
            "metadata": {}
        },
        {
            "cell_type": "code",
            "execution_count": 302,
            "source": [
                "print(wb.sheetnames)"
            ],
            "outputs": [
                {
                    "output_type": "stream",
                    "name": "stdout",
                    "text": [
                        "['changes', '1995', '1996', '1997', '1998', '1999', '2000', '2002', '2003', '2004', '2005', '2006', '2007', '2008', '2009', '2010', '2011', '2012', '2013', '2014', '2015', '2016', '2017', '2018', '2019', '2020']\n"
                    ]
                }
            ],
            "metadata": {}
        },
        {
            "cell_type": "code",
            "execution_count": 309,
            "source": [
                "for i in year_list:\r\n",
                "    sheet = wb[i]\r\n",
                "    count = 0\r\n",
                "    for x in sheet.rows:\r\n",
                "        count += 1\r\n",
                "        if(count == 1):\r\n",
                "            continue\r\n",
                "        # LTP\r\n",
                "        ltp = \"=GOOGLEFINANCE(\"+'\"NSE:\"&B'+str(count)+',\"price\")'\r\n",
                "        # price that day\r\n",
                "        date_price = \"=max(index(GOOGLEFINANCE(\" + '\"NSE:\"&B' + str(count) + ',\"open\", D' + str(count) + \"),,2))\"\r\n",
                "        # print(date_price)\r\n",
                "        sheet['C'+str(count)] = ltp\r\n",
                "        sheet['D'+str(count)] = \"=DATE(\" + i + \",1,1)\"\r\n",
                "        sheet['E'+str(count)] = date_price"
            ],
            "outputs": [],
            "metadata": {}
        },
        {
            "cell_type": "code",
            "execution_count": 325,
            "source": [
                "chr(65)"
            ],
            "outputs": [
                {
                    "output_type": "execute_result",
                    "data": {
                        "text/plain": [
                            "'A'"
                        ]
                    },
                    "metadata": {},
                    "execution_count": 325
                }
            ],
            "metadata": {}
        },
        {
            "cell_type": "code",
            "execution_count": 320,
            "source": [
                "for i in wb.sheetnames:\r\n",
                "    sheet = wb[i]\r\n",
                "    headers = [c.value for c in next(sheet.iter_rows(min_row=1, max_row=1))]\r\n",
                "    print('\\t',i)\r\n",
                "    count = 0\r\n",
                "    for x in range(headers):\r\n",
                "        print(x)\r\n",
                "        if x == None:\r\n",
                "            continue\r\n",
                "        else:\r\n",
                "            sheet.column_dimensions[x].width = 60\r\n",
                "wb.save(\"testing_wtih_formula_2.xlsx\")"
            ],
            "outputs": [
                {
                    "output_type": "stream",
                    "name": "stdout",
                    "text": [
                        "\t changes\n",
                        "1\n"
                    ]
                },
                {
                    "output_type": "error",
                    "ename": "TypeError",
                    "evalue": "expected <class 'str'>",
                    "traceback": [
                        "\u001b[1;31m---------------------------------------------------------------------------\u001b[0m",
                        "\u001b[1;31mTypeError\u001b[0m                                 Traceback (most recent call last)",
                        "\u001b[1;32m<ipython-input-320-485ed8b61bf3>\u001b[0m in \u001b[0;36m<module>\u001b[1;34m\u001b[0m\n\u001b[0;32m      8\u001b[0m             \u001b[1;32mcontinue\u001b[0m\u001b[1;33m\u001b[0m\u001b[1;33m\u001b[0m\u001b[0m\n\u001b[0;32m      9\u001b[0m         \u001b[1;32melse\u001b[0m\u001b[1;33m:\u001b[0m\u001b[1;33m\u001b[0m\u001b[1;33m\u001b[0m\u001b[0m\n\u001b[1;32m---> 10\u001b[1;33m             \u001b[0msheet\u001b[0m\u001b[1;33m.\u001b[0m\u001b[0mcolumn_dimensions\u001b[0m\u001b[1;33m[\u001b[0m\u001b[0mx\u001b[0m\u001b[1;33m]\u001b[0m\u001b[1;33m.\u001b[0m\u001b[0mwidth\u001b[0m \u001b[1;33m=\u001b[0m \u001b[1;36m60\u001b[0m\u001b[1;33m\u001b[0m\u001b[1;33m\u001b[0m\u001b[0m\n\u001b[0m\u001b[0;32m     11\u001b[0m \u001b[0mwb\u001b[0m\u001b[1;33m.\u001b[0m\u001b[0msave\u001b[0m\u001b[1;33m(\u001b[0m\u001b[1;34m\"testing_wtih_formula_2.xlsx\"\u001b[0m\u001b[1;33m)\u001b[0m\u001b[1;33m\u001b[0m\u001b[1;33m\u001b[0m\u001b[0m\n",
                        "\u001b[1;32mD:\\anaconda\\lib\\site-packages\\openpyxl\\utils\\bound_dictionary.py\u001b[0m in \u001b[0;36m__getitem__\u001b[1;34m(self, key)\u001b[0m\n\u001b[0;32m     23\u001b[0m         \u001b[0mvalue\u001b[0m \u001b[1;33m=\u001b[0m \u001b[0msuper\u001b[0m\u001b[1;33m(\u001b[0m\u001b[0mBoundDictionary\u001b[0m\u001b[1;33m,\u001b[0m \u001b[0mself\u001b[0m\u001b[1;33m)\u001b[0m\u001b[1;33m.\u001b[0m\u001b[0m__getitem__\u001b[0m\u001b[1;33m(\u001b[0m\u001b[0mkey\u001b[0m\u001b[1;33m)\u001b[0m\u001b[1;33m\u001b[0m\u001b[1;33m\u001b[0m\u001b[0m\n\u001b[0;32m     24\u001b[0m         \u001b[1;32mif\u001b[0m \u001b[0mself\u001b[0m\u001b[1;33m.\u001b[0m\u001b[0mreference\u001b[0m \u001b[1;32mis\u001b[0m \u001b[1;32mnot\u001b[0m \u001b[1;32mNone\u001b[0m\u001b[1;33m:\u001b[0m\u001b[1;33m\u001b[0m\u001b[1;33m\u001b[0m\u001b[0m\n\u001b[1;32m---> 25\u001b[1;33m             \u001b[0msetattr\u001b[0m\u001b[1;33m(\u001b[0m\u001b[0mvalue\u001b[0m\u001b[1;33m,\u001b[0m \u001b[0mself\u001b[0m\u001b[1;33m.\u001b[0m\u001b[0mreference\u001b[0m\u001b[1;33m,\u001b[0m \u001b[0mkey\u001b[0m\u001b[1;33m)\u001b[0m\u001b[1;33m\u001b[0m\u001b[1;33m\u001b[0m\u001b[0m\n\u001b[0m\u001b[0;32m     26\u001b[0m         \u001b[1;32mreturn\u001b[0m \u001b[0mvalue\u001b[0m\u001b[1;33m\u001b[0m\u001b[1;33m\u001b[0m\u001b[0m\n",
                        "\u001b[1;32mD:\\anaconda\\lib\\site-packages\\openpyxl\\descriptors\\base.py\u001b[0m in \u001b[0;36m__set__\u001b[1;34m(self, instance, value)\u001b[0m\n\u001b[0;32m     40\u001b[0m             if (not self.allow_none\n\u001b[0;32m     41\u001b[0m                 or (self.allow_none and value is not None)):\n\u001b[1;32m---> 42\u001b[1;33m                 \u001b[1;32mraise\u001b[0m \u001b[0mTypeError\u001b[0m\u001b[1;33m(\u001b[0m\u001b[1;34m'expected '\u001b[0m \u001b[1;33m+\u001b[0m \u001b[0mstr\u001b[0m\u001b[1;33m(\u001b[0m\u001b[0mself\u001b[0m\u001b[1;33m.\u001b[0m\u001b[0mexpected_type\u001b[0m\u001b[1;33m)\u001b[0m\u001b[1;33m)\u001b[0m\u001b[1;33m\u001b[0m\u001b[1;33m\u001b[0m\u001b[0m\n\u001b[0m\u001b[0;32m     43\u001b[0m         \u001b[0msuper\u001b[0m\u001b[1;33m(\u001b[0m\u001b[0mTyped\u001b[0m\u001b[1;33m,\u001b[0m \u001b[0mself\u001b[0m\u001b[1;33m)\u001b[0m\u001b[1;33m.\u001b[0m\u001b[0m__set__\u001b[0m\u001b[1;33m(\u001b[0m\u001b[0minstance\u001b[0m\u001b[1;33m,\u001b[0m \u001b[0mvalue\u001b[0m\u001b[1;33m)\u001b[0m\u001b[1;33m\u001b[0m\u001b[1;33m\u001b[0m\u001b[0m\n\u001b[0;32m     44\u001b[0m \u001b[1;33m\u001b[0m\u001b[0m\n",
                        "\u001b[1;31mTypeError\u001b[0m: expected <class 'str'>"
                    ]
                }
            ],
            "metadata": {}
        },
        {
            "cell_type": "code",
            "execution_count": 241,
            "source": [
                "ltp = \"=GOOGLEFINANCE(\"\"NSE:\"\"&B\" + str(count) +\",\"\"price\"\")\"\r\n",
                "print(ltp)"
            ],
            "outputs": [
                {
                    "output_type": "stream",
                    "name": "stdout",
                    "text": [
                        "=GOOGLEFINANCE(NSE:&B57,price)\n"
                    ]
                }
            ],
            "metadata": {}
        },
        {
            "cell_type": "code",
            "execution_count": 250,
            "source": [
                "count = 5\r\n",
                "ltp = \"=GOOGLEFINANCE(\"+'\"NSE:\"&B'+str(count)+',\"price\")'\r\n",
                "print(ltp)\r\n",
                "date_price = \"=max(index(GOOGLEFINANCE(\" + '\"NSE\"&B'+str(count)+ ',\"open\",D' + str(count) + \"),,2))\"\r\n",
                "date_price1 = \"=max(index(GOOGLEFINANCE(\" + '\"NSE\":&B' + str(count) + ',\"open\", D' + str(count) + \"),,2))\"\r\n",
                "print(date_price)\r\n",
                "print(date_price1)\r\n"
            ],
            "outputs": [
                {
                    "output_type": "stream",
                    "name": "stdout",
                    "text": [
                        "=GOOGLEFINANCE(\"NSE:\"&B5,\"price\")\n",
                        "=max(index(GOOGLEFINANCE(\"NSE\"&B5,\"open\",D5),,2))\n",
                        "=max(index(GOOGLEFINANCE(\"NSE\":&B5,\"open\", D5),,2))\n"
                    ]
                }
            ],
            "metadata": {}
        },
        {
            "cell_type": "code",
            "execution_count": null,
            "source": [],
            "outputs": [],
            "metadata": {}
        }
    ],
    "metadata": {
        "orig_nbformat": 4,
        "language_info": {
            "name": "python",
            "version": "3.7.3",
            "mimetype": "text/x-python",
            "codemirror_mode": {
                "name": "ipython",
                "version": 3
            },
            "pygments_lexer": "ipython3",
            "nbconvert_exporter": "python",
            "file_extension": ".py"
        },
        "kernelspec": {
            "name": "python3",
            "display_name": "Python 3.7.3 64-bit ('base': conda)"
        },
        "interpreter": {
            "hash": "cc5f70855ac006f3de45a3cc3b9e7d8d53845e50458809cb162b0174266dec97"
        }
    },
    "nbformat": 4,
    "nbformat_minor": 2
}