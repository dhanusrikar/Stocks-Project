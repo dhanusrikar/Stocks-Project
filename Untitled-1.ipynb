{
    "cells": [
        {
            "cell_type": "code",
            "execution_count": 1,
            "source": [
                "print('hello')"
            ],
            "outputs": [
                {
                    "output_type": "stream",
                    "name": "stdout",
                    "text": [
                        "hello\n"
                    ]
                }
            ],
            "metadata": {}
        },
        {
            "cell_type": "code",
            "execution_count": 2,
            "source": [
                "import requests\r\n",
                "from bs4 import BeautifulSoup"
            ],
            "outputs": [],
            "metadata": {}
        },
        {
            "cell_type": "code",
            "execution_count": 3,
            "source": [
                "import pandas as pd\r\n",
                "import json\r\n",
                "import csv\r\n",
                "from google.oauth2 import service_account\r\n",
                "import pygsheets"
            ],
            "outputs": [],
            "metadata": {}
        },
        {
            "cell_type": "code",
            "execution_count": 5,
            "source": [
                "import gspread\r\n",
                "from oauth2client.service_account import ServiceAccountCredentials\r\n",
                "scope = [\"https://www.googleapis.com/auth/drive\", \"https://spreadsheets.google.com/feeds\"]\r\n",
                "credentials = ServiceAccountCredentials.from_json_keyfile_name('D:\\studies\\stocks project\\service.json', scope)\r\n",
                "gc = gspread.authorize(credentials)"
            ],
            "outputs": [],
            "metadata": {}
        },
        {
            "cell_type": "code",
            "execution_count": 6,
            "source": [
                "wb = gc.open('StocksProject')\r\n",
                "worksheet = wb.worksheet('2000')"
            ],
            "outputs": [],
            "metadata": {}
        },
        {
            "cell_type": "code",
            "execution_count": 12,
            "source": [
                "company_name = worksheet.col_values(2)\r\n",
                "goog = \"https://www.google.com/search?q=\"\r\n",
                "list_company = []\r\n",
                "for i in company_name:\r\n",
                "    # print(i)\r\n",
                "    cell = worksheet.find(i)\r\n",
                "    # if(cell.row <21):\r\n",
                "    #     continue\r\n",
                "    # print(cell.value, \" \", cell.row, \" \", cell.col)\r\n",
                "    s = \"\"\r\n",
                "    for x in i:\r\n",
                "        if(x == \" \" or x==\".\"):\r\n",
                "            s += \"+\"\r\n",
                "        else:\r\n",
                "            s += x\r\n",
                "    s = s + \"+nse\"\r\n",
                "    list_value = []\r\n",
                "    list_value.append(goog+s)\r\n",
                "    list_value.append(cell.row)\r\n",
                "    list_value.append(i)\r\n",
                "    list_company.append(list_value)"
            ],
            "outputs": [
                {
                    "output_type": "error",
                    "ename": "APIError",
                    "evalue": "{'code': 429, 'message': \"Quota exceeded for quota metric 'Read requests' and limit 'Read requests per minute per user' of service 'sheets.googleapis.com' for consumer 'project_number:197989225446'.\", 'status': 'RESOURCE_EXHAUSTED', 'details': [{'@type': 'type.googleapis.com/google.rpc.ErrorInfo', 'reason': 'RATE_LIMIT_EXCEEDED', 'domain': 'googleapis.com', 'metadata': {'consumer': 'projects/197989225446', 'quota_limit': 'ReadRequestsPerMinutePerUser', 'service': 'sheets.googleapis.com', 'quota_metric': 'sheets.googleapis.com/read_requests'}}]}",
                    "traceback": [
                        "\u001b[1;31m---------------------------------------------------------------------------\u001b[0m",
                        "\u001b[1;31mAPIError\u001b[0m                                  Traceback (most recent call last)",
                        "\u001b[1;32m<ipython-input-12-a9ab70349817>\u001b[0m in \u001b[0;36m<module>\u001b[1;34m\u001b[0m\n\u001b[0;32m      4\u001b[0m \u001b[1;32mfor\u001b[0m \u001b[0mi\u001b[0m \u001b[1;32min\u001b[0m \u001b[0mcompany_name\u001b[0m\u001b[1;33m:\u001b[0m\u001b[1;33m\u001b[0m\u001b[1;33m\u001b[0m\u001b[0m\n\u001b[0;32m      5\u001b[0m     \u001b[1;31m# print(i)\u001b[0m\u001b[1;33m\u001b[0m\u001b[1;33m\u001b[0m\u001b[1;33m\u001b[0m\u001b[0m\n\u001b[1;32m----> 6\u001b[1;33m     \u001b[0mcell\u001b[0m \u001b[1;33m=\u001b[0m \u001b[0mworksheet\u001b[0m\u001b[1;33m.\u001b[0m\u001b[0mfind\u001b[0m\u001b[1;33m(\u001b[0m\u001b[0mi\u001b[0m\u001b[1;33m)\u001b[0m\u001b[1;33m\u001b[0m\u001b[1;33m\u001b[0m\u001b[0m\n\u001b[0m\u001b[0;32m      7\u001b[0m     \u001b[1;31m# if(cell.row <21):\u001b[0m\u001b[1;33m\u001b[0m\u001b[1;33m\u001b[0m\u001b[1;33m\u001b[0m\u001b[0m\n\u001b[0;32m      8\u001b[0m     \u001b[1;31m#     continue\u001b[0m\u001b[1;33m\u001b[0m\u001b[1;33m\u001b[0m\u001b[1;33m\u001b[0m\u001b[0m\n",
                        "\u001b[1;32mD:\\anaconda\\lib\\site-packages\\gspread\\models.py\u001b[0m in \u001b[0;36mfind\u001b[1;34m(self, query, in_row, in_column)\u001b[0m\n\u001b[0;32m   1797\u001b[0m         \"\"\"\n\u001b[0;32m   1798\u001b[0m         \u001b[1;32mtry\u001b[0m\u001b[1;33m:\u001b[0m\u001b[1;33m\u001b[0m\u001b[1;33m\u001b[0m\u001b[0m\n\u001b[1;32m-> 1799\u001b[1;33m             \u001b[1;32mreturn\u001b[0m \u001b[0mself\u001b[0m\u001b[1;33m.\u001b[0m\u001b[0m_finder\u001b[0m\u001b[1;33m(\u001b[0m\u001b[0mfinditem\u001b[0m\u001b[1;33m,\u001b[0m \u001b[0mquery\u001b[0m\u001b[1;33m,\u001b[0m \u001b[0min_row\u001b[0m\u001b[1;33m,\u001b[0m \u001b[0min_column\u001b[0m\u001b[1;33m)\u001b[0m\u001b[1;33m\u001b[0m\u001b[1;33m\u001b[0m\u001b[0m\n\u001b[0m\u001b[0;32m   1800\u001b[0m         \u001b[1;32mexcept\u001b[0m \u001b[0mStopIteration\u001b[0m\u001b[1;33m:\u001b[0m\u001b[1;33m\u001b[0m\u001b[1;33m\u001b[0m\u001b[0m\n\u001b[0;32m   1801\u001b[0m             \u001b[1;32mraise\u001b[0m \u001b[0mCellNotFound\u001b[0m\u001b[1;33m(\u001b[0m\u001b[0mquery\u001b[0m\u001b[1;33m)\u001b[0m\u001b[1;33m\u001b[0m\u001b[1;33m\u001b[0m\u001b[0m\n",
                        "\u001b[1;32mD:\\anaconda\\lib\\site-packages\\gspread\\models.py\u001b[0m in \u001b[0;36m_finder\u001b[1;34m(self, func, query, in_row, in_column)\u001b[0m\n\u001b[0;32m   1745\u001b[0m \u001b[1;33m\u001b[0m\u001b[0m\n\u001b[0;32m   1746\u001b[0m     \u001b[1;32mdef\u001b[0m \u001b[0m_finder\u001b[0m\u001b[1;33m(\u001b[0m\u001b[0mself\u001b[0m\u001b[1;33m,\u001b[0m \u001b[0mfunc\u001b[0m\u001b[1;33m,\u001b[0m \u001b[0mquery\u001b[0m\u001b[1;33m,\u001b[0m \u001b[0min_row\u001b[0m\u001b[1;33m=\u001b[0m\u001b[1;32mNone\u001b[0m\u001b[1;33m,\u001b[0m \u001b[0min_column\u001b[0m\u001b[1;33m=\u001b[0m\u001b[1;32mNone\u001b[0m\u001b[1;33m)\u001b[0m\u001b[1;33m:\u001b[0m\u001b[1;33m\u001b[0m\u001b[1;33m\u001b[0m\u001b[0m\n\u001b[1;32m-> 1747\u001b[1;33m         \u001b[0mdata\u001b[0m \u001b[1;33m=\u001b[0m \u001b[0mself\u001b[0m\u001b[1;33m.\u001b[0m\u001b[0mspreadsheet\u001b[0m\u001b[1;33m.\u001b[0m\u001b[0mvalues_get\u001b[0m\u001b[1;33m(\u001b[0m\u001b[0mabsolute_range_name\u001b[0m\u001b[1;33m(\u001b[0m\u001b[0mself\u001b[0m\u001b[1;33m.\u001b[0m\u001b[0mtitle\u001b[0m\u001b[1;33m)\u001b[0m\u001b[1;33m)\u001b[0m\u001b[1;33m\u001b[0m\u001b[1;33m\u001b[0m\u001b[0m\n\u001b[0m\u001b[0;32m   1748\u001b[0m \u001b[1;33m\u001b[0m\u001b[0m\n\u001b[0;32m   1749\u001b[0m         \u001b[1;32mtry\u001b[0m\u001b[1;33m:\u001b[0m\u001b[1;33m\u001b[0m\u001b[1;33m\u001b[0m\u001b[0m\n",
                        "\u001b[1;32mD:\\anaconda\\lib\\site-packages\\gspread\\models.py\u001b[0m in \u001b[0;36mvalues_get\u001b[1;34m(self, range, params)\u001b[0m\n\u001b[0;32m    190\u001b[0m         \"\"\"\n\u001b[0;32m    191\u001b[0m         \u001b[0murl\u001b[0m \u001b[1;33m=\u001b[0m \u001b[0mSPREADSHEET_VALUES_URL\u001b[0m \u001b[1;33m%\u001b[0m \u001b[1;33m(\u001b[0m\u001b[0mself\u001b[0m\u001b[1;33m.\u001b[0m\u001b[0mid\u001b[0m\u001b[1;33m,\u001b[0m \u001b[0mquote\u001b[0m\u001b[1;33m(\u001b[0m\u001b[0mrange\u001b[0m\u001b[1;33m)\u001b[0m\u001b[1;33m)\u001b[0m\u001b[1;33m\u001b[0m\u001b[1;33m\u001b[0m\u001b[0m\n\u001b[1;32m--> 192\u001b[1;33m         \u001b[0mr\u001b[0m \u001b[1;33m=\u001b[0m \u001b[0mself\u001b[0m\u001b[1;33m.\u001b[0m\u001b[0mclient\u001b[0m\u001b[1;33m.\u001b[0m\u001b[0mrequest\u001b[0m\u001b[1;33m(\u001b[0m\u001b[1;34m'get'\u001b[0m\u001b[1;33m,\u001b[0m \u001b[0murl\u001b[0m\u001b[1;33m,\u001b[0m \u001b[0mparams\u001b[0m\u001b[1;33m=\u001b[0m\u001b[0mparams\u001b[0m\u001b[1;33m)\u001b[0m\u001b[1;33m\u001b[0m\u001b[1;33m\u001b[0m\u001b[0m\n\u001b[0m\u001b[0;32m    193\u001b[0m         \u001b[1;32mreturn\u001b[0m \u001b[0mr\u001b[0m\u001b[1;33m.\u001b[0m\u001b[0mjson\u001b[0m\u001b[1;33m(\u001b[0m\u001b[1;33m)\u001b[0m\u001b[1;33m\u001b[0m\u001b[1;33m\u001b[0m\u001b[0m\n\u001b[0;32m    194\u001b[0m \u001b[1;33m\u001b[0m\u001b[0m\n",
                        "\u001b[1;32mD:\\anaconda\\lib\\site-packages\\gspread\\client.py\u001b[0m in \u001b[0;36mrequest\u001b[1;34m(self, method, endpoint, params, data, json, files, headers)\u001b[0m\n\u001b[0;32m     74\u001b[0m             \u001b[1;32mreturn\u001b[0m \u001b[0mresponse\u001b[0m\u001b[1;33m\u001b[0m\u001b[1;33m\u001b[0m\u001b[0m\n\u001b[0;32m     75\u001b[0m         \u001b[1;32melse\u001b[0m\u001b[1;33m:\u001b[0m\u001b[1;33m\u001b[0m\u001b[1;33m\u001b[0m\u001b[0m\n\u001b[1;32m---> 76\u001b[1;33m             \u001b[1;32mraise\u001b[0m \u001b[0mAPIError\u001b[0m\u001b[1;33m(\u001b[0m\u001b[0mresponse\u001b[0m\u001b[1;33m)\u001b[0m\u001b[1;33m\u001b[0m\u001b[1;33m\u001b[0m\u001b[0m\n\u001b[0m\u001b[0;32m     77\u001b[0m \u001b[1;33m\u001b[0m\u001b[0m\n\u001b[0;32m     78\u001b[0m     \u001b[1;32mdef\u001b[0m \u001b[0mlist_spreadsheet_files\u001b[0m\u001b[1;33m(\u001b[0m\u001b[0mself\u001b[0m\u001b[1;33m,\u001b[0m \u001b[0mtitle\u001b[0m\u001b[1;33m=\u001b[0m\u001b[1;32mNone\u001b[0m\u001b[1;33m)\u001b[0m\u001b[1;33m:\u001b[0m\u001b[1;33m\u001b[0m\u001b[1;33m\u001b[0m\u001b[0m\n",
                        "\u001b[1;31mAPIError\u001b[0m: {'code': 429, 'message': \"Quota exceeded for quota metric 'Read requests' and limit 'Read requests per minute per user' of service 'sheets.googleapis.com' for consumer 'project_number:197989225446'.\", 'status': 'RESOURCE_EXHAUSTED', 'details': [{'@type': 'type.googleapis.com/google.rpc.ErrorInfo', 'reason': 'RATE_LIMIT_EXCEEDED', 'domain': 'googleapis.com', 'metadata': {'consumer': 'projects/197989225446', 'quota_limit': 'ReadRequestsPerMinutePerUser', 'service': 'sheets.googleapis.com', 'quota_metric': 'sheets.googleapis.com/read_requests'}}]}"
                    ]
                }
            ],
            "metadata": {}
        },
        {
            "cell_type": "code",
            "execution_count": 9,
            "source": [
                "for i in list_company:\r\n",
                "    print(i[1], i[2])"
            ],
            "outputs": [
                {
                    "output_type": "stream",
                    "name": "stdout",
                    "text": [
                        "21 Colgate\n",
                        "22 Reliance Capital Ltd.\n",
                        "23 Dr. Reddy’s Laboratories Ltd.\n",
                        "24 RELIANCE INFRASTRUCTURE LTD\n",
                        "25 Hindustan Unilever Ltd.\n",
                        "26 Hero Honda Motors Limited\n",
                        "27 ACC Ltd.\n",
                        "28 \n",
                        "29 Arvind Mills Ltd\n",
                        "30 BAJAJ AUTO\n",
                        "31 Castrol (India) Ltd.\n",
                        "32 Chambal Fertilizers & Chemicals Ltd.\n",
                        "33 GRASIM\n",
                        "34 Great Eastern Shipping Company Limited.\n",
                        "35 INDIAN PETROCHEMICALS CORP.LTD\n",
                        "36 Indian Rayon & Industries Ltd.\n",
                        "37 Indo Gulf Corporation Ltd.\n",
                        "38 Industrial Finance Corporation Of India Ltd.\n",
                        "39 Kochi Refineries Ltd.\n",
                        "40 Mangalore Refinery & Petrochemicals Ltd.\n",
                        "41 Nagarjuna Fertilizers & Chemicals Ltd.\n",
                        "42 OBC\n",
                        "43 Ponds (India) Ltd.\n",
                        "44 RANBAXY LABS\n",
                        "45 Reliance Industries Ltd.\n",
                        "46 Reliance Petroleum Ltd.\n",
                        "47 TATA TEA\n",
                        "48 TVS Suzuki Ltd.\n"
                    ]
                }
            ],
            "metadata": {}
        },
        {
            "cell_type": "code",
            "execution_count": null,
            "source": [
                "url = list_company[0][0]\r\n",
                "print(url)\r\n",
                "result = requests.get(url)\r\n",
                "src = result.content\r\n",
                "soup = BeautifulSoup(src, \"html.parser\")\r\n",
                "spans = soup.find_all('span')\r\n",
                "cites = soup.find_all('cite')\r\n",
                "lines = [span.get_text() for span in spans]\r\n",
                "urls = [cite.get_text() for cite in cites]\r\n",
                "for i in urls:\r\n",
                "    if 'icicibank - eq - NSE - National Stock Exchange of India Ltd.https://www1.nseindia.com' in i:\r\n",
                "        print('hi')\r\n",
                "for i in lines:\r\n",
                "    if 'NSE' in i:\r\n",
                "        x = i\r\n",
                "        break\r\n",
                "print(x)"
            ],
            "outputs": [],
            "metadata": {}
        },
        {
            "cell_type": "code",
            "execution_count": null,
            "source": [
                "# print(list_company[0][2])\r\n",
                "url = list_company[0][0]\r\n",
                "# print(url)\r\n",
                "for j in list_company:\r\n",
                "    count = 0\r\n",
                "    print(j[2])\r\n",
                "    url = j[0]\r\n",
                "    result = requests.get(url)\r\n",
                "    src = result.content\r\n",
                "    soup = BeautifulSoup(src, \"html.parser\")\r\n",
                "    spans = soup.find_all('span')\r\n",
                "    lines = [span.get_text() for span in spans]\r\n",
                "    for i in lines:\r\n",
                "        if '(NSE)' in i:\r\n",
                "            x = i\r\n",
                "            print('google: ' + x)\r\n",
                "            count = 1\r\n",
                "            break\r\n",
                "\r\n",
                "    if(count == 0):\r\n",
                "        x = soup.find_all('a')\r\n",
                "        for i in x:\r\n",
                "            # f = i.get_text()\r\n",
                "            if('www1.nseindia.com' in i.get_text()):\r\n",
                "                # print(i.attrs['href'])\r\n",
                "                li = str(i.attrs['href'])\r\n",
                "                # print(li)\r\n",
                "                print('nse: ' + li[102:li.find('&')])\r\n",
                "                count = 1\r\n",
                "                break\r\n",
                "    if count == 0:\r\n",
                "        x = soup.find_all('a')\r\n",
                "        for i in x:\r\n",
                "            if('www.moneycontrol.com' in i.get_text()):\r\n",
                "                # print(i.attrs['href'])\r\n",
                "                link = str(i.attrs['href'])\r\n",
                "                # print('moneycontrol: ' + li)\r\n",
                "                n = link.find('/', 58) + 1\r\n",
                "                # print(x)\r\n",
                "                cut_link = link[(x):]\r\n",
                "                # print(f)\r\n",
                "                x = cut_link.find('/') + 1\r\n",
                "                y = cut_link.find('&')\r\n",
                "                print('moneycontrol: ' + cut_link[x:y])\r\n",
                "                # print(li)\r\n",
                "                # print(li[102:li.find('&')])\r\n",
                "                count = 1\r\n",
                "                break\r\n",
                "            \r\n",
                "\r\n",
                "    if count == 0:\r\n",
                "        print('Not found')"
            ],
            "outputs": [],
            "metadata": {}
        },
        {
            "cell_type": "markdown",
            "source": [
                "NSE TEXT    "
            ],
            "metadata": {}
        },
        {
            "cell_type": "code",
            "execution_count": null,
            "source": [
                "li = \"/url?q=https://www1.nseindia.com/live_market/dynaContent/live_watch/get_quote/GetQuote.jsp%3Fsymbol%3D\"\r\n",
                "li2 = \"/url?q=https://www1.nseindia.com/live_market/dynaContent/live_watch/get_quote/GetQuote.jsp%3Fsymbol%3DINDHOTEL&sa=U&ved=2ahUKEwixi8uLs_LxAhXPwjgGHcQqCZUQFjAMegQICRAB&usg=AOvVaw2IuWCUj_xyv3hYInb39Xwy\"\r\n",
                "len(li)\r\n",
                "print(li2[102])\r\n",
                "print(li2.find('&'))\r\n",
                "print(li2[len(li):li2.find('&')])"
            ],
            "outputs": [],
            "metadata": {}
        },
        {
            "cell_type": "code",
            "execution_count": null,
            "source": [
                "Money Control "
            ],
            "outputs": [],
            "metadata": {}
        },
        {
            "cell_type": "code",
            "execution_count": 43,
            "source": [
                "li = '/url?q=https://www.moneycontrol.com/india/stockpricequote/'\r\n",
                "# print(len(li))\r\n",
                "li2 = '/url?q=https://www.moneycontrol.com/india/stockpricequote/fertilisers/indogulffertilizers/IGF02&sa=U&ved=2ahUKEwjI29vvw_PxAhUprZUCHefvDMMQFjAAegQIBhAB&usg=AOvVaw0g11_fLPU0y42Q-NEHxGn_'\r\n",
                "# print(len(li2))\r\n",
                "# print(li2[58:])\r\n",
                "x = li2.find('/', 58) + 1\r\n",
                "# print(x)\r\n",
                "f = li2[(x):]\r\n",
                "# print(f)\r\n",
                "x = f.find('/') + 1\r\n",
                "y = f.find('&')\r\n",
                "print(f[x:y])\r\n"
            ],
            "outputs": [
                {
                    "output_type": "stream",
                    "name": "stdout",
                    "text": [
                        "IGF02\n"
                    ]
                }
            ],
            "metadata": {}
        },
        {
            "cell_type": "code",
            "execution_count": null,
            "source": [],
            "outputs": [],
            "metadata": {}
        }
    ],
    "metadata": {
        "orig_nbformat": 4,
        "language_info": {
            "name": "python",
            "version": "3.7.3",
            "mimetype": "text/x-python",
            "codemirror_mode": {
                "name": "ipython",
                "version": 3
            },
            "pygments_lexer": "ipython3",
            "nbconvert_exporter": "python",
            "file_extension": ".py"
        },
        "kernelspec": {
            "name": "python3",
            "display_name": "Python 3.7.3 64-bit ('base': conda)"
        },
        "interpreter": {
            "hash": "cc5f70855ac006f3de45a3cc3b9e7d8d53845e50458809cb162b0174266dec97"
        }
    },
    "nbformat": 4,
    "nbformat_minor": 2
}