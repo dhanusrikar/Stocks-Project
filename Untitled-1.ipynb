{
    "cells": [
        {
            "cell_type": "code",
            "execution_count": 1,
            "source": [
                "print('hello')"
            ],
            "outputs": [
                {
                    "output_type": "stream",
                    "name": "stdout",
                    "text": [
                        "hello\n"
                    ]
                }
            ],
            "metadata": {}
        },
        {
            "cell_type": "code",
            "execution_count": 2,
            "source": [
                "import requests\r\n",
                "from bs4 import BeautifulSoup"
            ],
            "outputs": [],
            "metadata": {}
        },
        {
            "cell_type": "code",
            "execution_count": 25,
            "source": [
                "import numpy as np\r\n",
                "import pandas as pd\r\n",
                "import json\r\n",
                "import csv\r\n",
                "from google.oauth2 import service_account\r\n",
                "import pygsheets"
            ],
            "outputs": [],
            "metadata": {}
        },
        {
            "cell_type": "code",
            "execution_count": 4,
            "source": [
                "import gspread\r\n",
                "from oauth2client.service_account import ServiceAccountCredentials\r\n",
                "scope = [\"https://www.googleapis.com/auth/drive\", \"https://spreadsheets.google.com/feeds\"]\r\n",
                "credentials = ServiceAccountCredentials.from_json_keyfile_name('D:\\studies\\stocks project\\service.json', scope)\r\n",
                "gc = gspread.authorize(credentials)"
            ],
            "outputs": [
                {
                    "output_type": "error",
                    "ename": "FileNotFoundError",
                    "evalue": "[Errno 2] No such file or directory: 'D:\\\\studies\\\\stocks project\\\\service.json'",
                    "traceback": [
                        "\u001b[1;31m---------------------------------------------------------------------------\u001b[0m",
                        "\u001b[1;31mFileNotFoundError\u001b[0m                         Traceback (most recent call last)",
                        "\u001b[1;32m<ipython-input-4-85ff5363b072>\u001b[0m in \u001b[0;36m<module>\u001b[1;34m\u001b[0m\n\u001b[0;32m      2\u001b[0m \u001b[1;32mfrom\u001b[0m \u001b[0moauth2client\u001b[0m\u001b[1;33m.\u001b[0m\u001b[0mservice_account\u001b[0m \u001b[1;32mimport\u001b[0m \u001b[0mServiceAccountCredentials\u001b[0m\u001b[1;33m\u001b[0m\u001b[1;33m\u001b[0m\u001b[0m\n\u001b[0;32m      3\u001b[0m \u001b[0mscope\u001b[0m \u001b[1;33m=\u001b[0m \u001b[1;33m[\u001b[0m\u001b[1;34m\"https://www.googleapis.com/auth/drive\"\u001b[0m\u001b[1;33m,\u001b[0m \u001b[1;34m\"https://spreadsheets.google.com/feeds\"\u001b[0m\u001b[1;33m]\u001b[0m\u001b[1;33m\u001b[0m\u001b[1;33m\u001b[0m\u001b[0m\n\u001b[1;32m----> 4\u001b[1;33m \u001b[0mcredentials\u001b[0m \u001b[1;33m=\u001b[0m \u001b[0mServiceAccountCredentials\u001b[0m\u001b[1;33m.\u001b[0m\u001b[0mfrom_json_keyfile_name\u001b[0m\u001b[1;33m(\u001b[0m\u001b[1;34m'D:\\studies\\stocks project\\service.json'\u001b[0m\u001b[1;33m,\u001b[0m \u001b[0mscope\u001b[0m\u001b[1;33m)\u001b[0m\u001b[1;33m\u001b[0m\u001b[1;33m\u001b[0m\u001b[0m\n\u001b[0m\u001b[0;32m      5\u001b[0m \u001b[0mgc\u001b[0m \u001b[1;33m=\u001b[0m \u001b[0mgspread\u001b[0m\u001b[1;33m.\u001b[0m\u001b[0mauthorize\u001b[0m\u001b[1;33m(\u001b[0m\u001b[0mcredentials\u001b[0m\u001b[1;33m)\u001b[0m\u001b[1;33m\u001b[0m\u001b[1;33m\u001b[0m\u001b[0m\n",
                        "\u001b[1;32mD:\\anaconda\\lib\\site-packages\\oauth2client\\service_account.py\u001b[0m in \u001b[0;36mfrom_json_keyfile_name\u001b[1;34m(cls, filename, scopes, token_uri, revoke_uri)\u001b[0m\n\u001b[0;32m    217\u001b[0m                 \u001b[0mthe\u001b[0m \u001b[0mkeyfile\u001b[0m\u001b[1;33m.\u001b[0m\u001b[1;33m\u001b[0m\u001b[1;33m\u001b[0m\u001b[0m\n\u001b[0;32m    218\u001b[0m         \"\"\"\n\u001b[1;32m--> 219\u001b[1;33m         \u001b[1;32mwith\u001b[0m \u001b[0mopen\u001b[0m\u001b[1;33m(\u001b[0m\u001b[0mfilename\u001b[0m\u001b[1;33m,\u001b[0m \u001b[1;34m'r'\u001b[0m\u001b[1;33m)\u001b[0m \u001b[1;32mas\u001b[0m \u001b[0mfile_obj\u001b[0m\u001b[1;33m:\u001b[0m\u001b[1;33m\u001b[0m\u001b[1;33m\u001b[0m\u001b[0m\n\u001b[0m\u001b[0;32m    220\u001b[0m             \u001b[0mclient_credentials\u001b[0m \u001b[1;33m=\u001b[0m \u001b[0mjson\u001b[0m\u001b[1;33m.\u001b[0m\u001b[0mload\u001b[0m\u001b[1;33m(\u001b[0m\u001b[0mfile_obj\u001b[0m\u001b[1;33m)\u001b[0m\u001b[1;33m\u001b[0m\u001b[1;33m\u001b[0m\u001b[0m\n\u001b[0;32m    221\u001b[0m         return cls._from_parsed_json_keyfile(client_credentials, scopes,\n",
                        "\u001b[1;31mFileNotFoundError\u001b[0m: [Errno 2] No such file or directory: 'D:\\\\studies\\\\stocks project\\\\service.json'"
                    ]
                }
            ],
            "metadata": {}
        },
        {
            "cell_type": "code",
            "execution_count": 6,
            "source": [
                "wb = gc.open('StocksProject')\r\n",
                "worksheet = wb.worksheet('2000')"
            ],
            "outputs": [],
            "metadata": {}
        },
        {
            "cell_type": "code",
            "execution_count": null,
            "source": [
                "company_name = worksheet.col_values(2)\r\n",
                "goog = \"https://www.google.com/search?q=\"\r\n",
                "list_company = []\r\n",
                "for i in company_name:\r\n",
                "    print(i)\r\n",
                "    cell = worksheet.find(i)\r\n",
                "    # if(cell.row <21):\r\n",
                "    #     continue\r\n",
                "    # print(cell.value, \" \", cell.row, \" \", cell.col)\r\n",
                "    s = \"\"\r\n",
                "    for x in i:\r\n",
                "        if(x == \" \" or x==\".\"):\r\n",
                "            s += \"+\"\r\n",
                "        else:\r\n",
                "            s += x\r\n",
                "    s = s + \"+nse\"\r\n",
                "    list_value = []\r\n",
                "    list_value.append(goog+s)\r\n",
                "    list_value.append(cell.row)\r\n",
                "    list_value.append(i)\r\n",
                "    list_company.append(list_value)"
            ],
            "outputs": [],
            "metadata": {}
        },
        {
            "cell_type": "code",
            "execution_count": null,
            "source": [
                "for i in list_company:\r\n",
                "    print(i[1], i[2])"
            ],
            "outputs": [],
            "metadata": {}
        },
        {
            "cell_type": "code",
            "execution_count": null,
            "source": [
                "url = list_company[0][0]\r\n",
                "print(url)\r\n",
                "result = requests.get(url)\r\n",
                "src = result.content\r\n",
                "soup = BeautifulSoup(src, \"html.parser\")\r\n",
                "spans = soup.find_all('span')\r\n",
                "cites = soup.find_all('cite')\r\n",
                "lines = [span.get_text() for span in spans]\r\n",
                "urls = [cite.get_text() for cite in cites]\r\n",
                "for i in urls:\r\n",
                "    if 'icicibank - eq - NSE - National Stock Exchange of India Ltd.https://www1.nseindia.com' in i:\r\n",
                "        print('hi')\r\n",
                "for i in lines:\r\n",
                "    if 'NSE' in i:\r\n",
                "        x = i\r\n",
                "        break\r\n",
                "print(x)"
            ],
            "outputs": [],
            "metadata": {}
        },
        {
            "cell_type": "code",
            "execution_count": null,
            "source": [
                "# print(list_company[0][2])\r\n",
                "url = list_company[0][0]\r\n",
                "# print(url)\r\n",
                "for j in list_company:\r\n",
                "    count = 0\r\n",
                "    print(j[2])\r\n",
                "    url = j[0]\r\n",
                "    result = requests.get(url)\r\n",
                "    src = result.content\r\n",
                "    soup = BeautifulSoup(src, \"html.parser\")\r\n",
                "    spans = soup.find_all('span')\r\n",
                "    lines = [span.get_text() for span in spans]\r\n",
                "    for i in lines:\r\n",
                "        if '(NSE)' in i:\r\n",
                "            x = i\r\n",
                "            print('google: ' + x)\r\n",
                "            count = 1\r\n",
                "            break\r\n",
                "\r\n",
                "    if(count == 0):\r\n",
                "        x = soup.find_all('a')\r\n",
                "        for i in x:\r\n",
                "            # f = i.get_text()\r\n",
                "            if('www1.nseindia.com' in i.get_text()):\r\n",
                "                # print(i.attrs['href'])\r\n",
                "                li = str(i.attrs['href'])\r\n",
                "                # print(li)\r\n",
                "                print('nse: ' + li[102:li.find('&')])\r\n",
                "                count = 1\r\n",
                "                break\r\n",
                "    if count == 0:\r\n",
                "        x = soup.find_all('a')\r\n",
                "        for i in x:\r\n",
                "            if('www.moneycontrol.com' in i.get_text()):\r\n",
                "                # print(i.attrs['href'])\r\n",
                "                link = str(i.attrs['href'])\r\n",
                "                # print('moneycontrol: ' + li)\r\n",
                "                n = link.find('/', 58) + 1\r\n",
                "                # print(x)\r\n",
                "                cut_link = link[(x):]\r\n",
                "                # print(f)\r\n",
                "                x = cut_link.find('/') + 1\r\n",
                "                y = cut_link.find('&')\r\n",
                "                print('moneycontrol: ' + cut_link[x:y])\r\n",
                "                # print(li)\r\n",
                "                # print(li[102:li.find('&')])\r\n",
                "                count = 1\r\n",
                "                break\r\n",
                "            \r\n",
                "\r\n",
                "    if count == 0:\r\n",
                "        print('Not found')"
            ],
            "outputs": [],
            "metadata": {}
        },
        {
            "cell_type": "markdown",
            "source": [
                "NSE TEXT    "
            ],
            "metadata": {}
        },
        {
            "cell_type": "code",
            "execution_count": null,
            "source": [
                "li = \"/url?q=https://www1.nseindia.com/live_market/dynaContent/live_watch/get_quote/GetQuote.jsp%3Fsymbol%3D\"\r\n",
                "li2 = \"/url?q=https://www1.nseindia.com/live_market/dynaContent/live_watch/get_quote/GetQuote.jsp%3Fsymbol%3DINDHOTEL&sa=U&ved=2ahUKEwixi8uLs_LxAhXPwjgGHcQqCZUQFjAMegQICRAB&usg=AOvVaw2IuWCUj_xyv3hYInb39Xwy\"\r\n",
                "len(li)\r\n",
                "print(li2[102])\r\n",
                "print(li2.find('&'))\r\n",
                "print(li2[len(li):li2.find('&')])"
            ],
            "outputs": [],
            "metadata": {}
        },
        {
            "cell_type": "code",
            "execution_count": null,
            "source": [
                "Money Control "
            ],
            "outputs": [],
            "metadata": {}
        },
        {
            "cell_type": "code",
            "execution_count": 43,
            "source": [
                "li = '/url?q=https://www.moneycontrol.com/india/stockpricequote/'\r\n",
                "# print(len(li))\r\n",
                "li2 = '/url?q=https://www.moneycontrol.com/india/stockpricequote/fertilisers/indogulffertilizers/IGF02&sa=U&ved=2ahUKEwjI29vvw_PxAhUprZUCHefvDMMQFjAAegQIBhAB&usg=AOvVaw0g11_fLPU0y42Q-NEHxGn_'\r\n",
                "# print(len(li2))\r\n",
                "# print(li2[58:])\r\n",
                "x = li2.find('/', 58) + 1\r\n",
                "# print(x)\r\n",
                "f = li2[(x):]\r\n",
                "# print(f)\r\n",
                "x = f.find('/') + 1\r\n",
                "y = f.find('&')\r\n",
                "print(f[x:y])\r\n"
            ],
            "outputs": [
                {
                    "output_type": "stream",
                    "name": "stdout",
                    "text": [
                        "IGF02\n"
                    ]
                }
            ],
            "metadata": {}
        },
        {
            "cell_type": "code",
            "execution_count": 18,
            "source": [
                "src_excel_file = 'company.xlsx'\r\n",
                "nifty_1995 = pd.read_excel(src_excel_file, sheet_name = 'Sheet1', engine = 'openpyxl')\r\n",
                "nifty_changes = pd.read_excel(src_excel_file, sheet_name = 'Sheet2', engine = 'openpyxl')\r\n",
                "# print(nifty_1995.shape)"
            ],
            "outputs": [],
            "metadata": {}
        },
        {
            "cell_type": "code",
            "execution_count": 34,
            "source": [
                "# print(nifty_changes.Year)\r\n",
                "year_list = []\r\n",
                "for i in range(0, len(nifty_changes.Year)):\r\n",
                "    if(not pd.isnull(nifty_changes.Year[i])):\r\n",
                "        # print(nifty_changes.Year[i])\r\n",
                "        year_list.append(nifty_changes.Year[i])\r\n",
                "\r\n",
                "\r\n",
                "print(year_list)\r\n",
                "# for i in nifty_changes['Included in Index']:\r\n",
                "#     print(i)"
            ],
            "outputs": [
                {
                    "output_type": "stream",
                    "name": "stdout",
                    "text": [
                        "[1996.0, 1997.0, 1998.0, 1999.0, 2000.0, 2002.0, 2003.0, 2004.0, 2005.0, 2006.0, 2007.0, 2008.0, 2009.0, 2010.0, 2011.0, 2012.0, 2013.0, 2014.0, 2015.0, 2016.0, 2017.0, 2018.0, 2019.0, 2020.0]\n"
                    ]
                }
            ],
            "metadata": {}
        },
        {
            "cell_type": "code",
            "execution_count": null,
            "source": [
                "count = -1\r\n",
                "# print(year_list[count])\r\n",
                "for i in range(0, len(nifty_changes['Included in Index'])):\r\n",
                "    if(pd.isnull(nifty_changes['Included in Index'][i]) and pd.isnull(nifty_changes['Excluded from Index'][i])):\r\n",
                "        count += 1\r\n",
                "        print(\" \")\r\n",
                "    else:\r\n",
                "        print(year_list[count], \"\\t\",nifty_changes['Included in Index'][i])\r\n",
                "        nifty_changes.Year[i] = year_list[count]\r\n"
            ],
            "outputs": [],
            "metadata": {}
        },
        {
            "cell_type": "code",
            "execution_count": 45,
            "source": [
                "print(nifty_changes.Year)"
            ],
            "outputs": [
                {
                    "output_type": "stream",
                    "name": "stdout",
                    "text": [
                        "0         NaN\n",
                        "1      1996.0\n",
                        "2      1996.0\n",
                        "3      1996.0\n",
                        "4      1996.0\n",
                        "        ...  \n",
                        "117       NaN\n",
                        "118    2019.0\n",
                        "119    2019.0\n",
                        "120       NaN\n",
                        "121    2020.0\n",
                        "Name: Year, Length: 122, dtype: float64\n"
                    ]
                }
            ],
            "metadata": {}
        },
        {
            "cell_type": "code",
            "execution_count": null,
            "source": [],
            "outputs": [],
            "metadata": {}
        }
    ],
    "metadata": {
        "orig_nbformat": 4,
        "language_info": {
            "name": "python",
            "version": "3.7.3",
            "mimetype": "text/x-python",
            "codemirror_mode": {
                "name": "ipython",
                "version": 3
            },
            "pygments_lexer": "ipython3",
            "nbconvert_exporter": "python",
            "file_extension": ".py"
        },
        "kernelspec": {
            "name": "python3",
            "display_name": "Python 3.7.3 64-bit ('base': conda)"
        },
        "interpreter": {
            "hash": "cc5f70855ac006f3de45a3cc3b9e7d8d53845e50458809cb162b0174266dec97"
        }
    },
    "nbformat": 4,
    "nbformat_minor": 2
}