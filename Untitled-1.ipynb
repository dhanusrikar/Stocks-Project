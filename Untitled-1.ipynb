{
    "cells": [
        {
            "cell_type": "code",
            "execution_count": 1,
            "source": [
                "print('hello')"
            ],
            "outputs": [
                {
                    "output_type": "stream",
                    "name": "stdout",
                    "text": [
                        "hello\n"
                    ]
                }
            ],
            "metadata": {}
        },
        {
            "cell_type": "code",
            "execution_count": 2,
            "source": [
                "import requests\r\n",
                "from bs4 import BeautifulSoup"
            ],
            "outputs": [],
            "metadata": {}
        },
        {
            "cell_type": "code",
            "execution_count": 3,
            "source": [
                "import numpy as np\r\n",
                "import pandas as pd\r\n",
                "import json\r\n",
                "import csv\r\n",
                "from google.oauth2 import service_account\r\n",
                "import pygsheets"
            ],
            "outputs": [],
            "metadata": {}
        },
        {
            "cell_type": "markdown",
            "source": [
                "To access google sheets, do the following:\r\n",
                "1. Run the code below \r\n",
                "2. From your service.json file copy the client email and share the sheet with it\r\n",
                "3. workbook = gc.open('file name')\r\n"
            ],
            "metadata": {}
        },
        {
            "cell_type": "code",
            "execution_count": 4,
            "source": [
                "import gspread\r\n",
                "from oauth2client.service_account import ServiceAccountCredentials\r\n",
                "scope = [\"https://www.googleapis.com/auth/drive\", \"https://spreadsheets.google.com/feeds\"]\r\n",
                "credentials = ServiceAccountCredentials.from_json_keyfile_name('D:\\studies\\stocks project\\service.json', scope)\r\n",
                "gc = gspread.authorize(credentials)"
            ],
            "outputs": [],
            "metadata": {}
        },
        {
            "cell_type": "markdown",
            "source": [
                "Web Scraping"
            ],
            "metadata": {}
        },
        {
            "cell_type": "code",
            "execution_count": 4,
            "source": [
                "def hasNumbers(inputString):\r\n",
                "    return any(char.isdigit() for char in inputString)"
            ],
            "outputs": [],
            "metadata": {}
        },
        {
            "cell_type": "code",
            "execution_count": 5,
            "source": [
                "def find_symbol(name):\r\n",
                "    s = \"\"\r\n",
                "    for x in name:\r\n",
                "        if(x == \" \" or x==\".\"):\r\n",
                "            s += \"+\"\r\n",
                "        elif(x == '&'):\r\n",
                "            s += \"%26\"\r\n",
                "        else:\r\n",
                "            s += x\r\n",
                "    if(s[-1] == '+'):\r\n",
                "        s = s + \"nse\"\r\n",
                "    else:\r\n",
                "        s = s + \"+nse\"\r\n",
                "    found = 0\r\n",
                "    symbol = \"NA\"\r\n",
                "    url = \"https://www.google.com/search?q=\" + s\r\n",
                "    # print(s)\r\n",
                "    result  = requests.get(url)\r\n",
                "    src = result.content\r\n",
                "    soup = BeautifulSoup(src, \"html.parser\")\r\n",
                "    spans = soup.find_all('span')\r\n",
                "    lines = [span.get_text() for span in spans]\r\n",
                "    for i in lines:\r\n",
                "        if '(NSE)' in i:\r\n",
                "            symbol = i\r\n",
                "            found = 1\r\n",
                "            break\r\n",
                "    if(found == 1):\r\n",
                "        return symbol[:len(symbol)-5].upper()\r\n",
                "        \r\n",
                "    if(found == 0):\r\n",
                "        x = soup.find_all('a')\r\n",
                "        mc_number = 111111\r\n",
                "        nse_number = 111111\r\n",
                "        mc_symbol = \"not found\"\r\n",
                "        nse_symbol = \"not found\"\r\n",
                "        for i in x:\r\n",
                "            if('www1.nseindia.com/live_market/dynaContent' in i.attrs['href']):\r\n",
                "                nse_number = x.index(i)\r\n",
                "                li = str(i.attrs['href'])\r\n",
                "                nse_symbol = li[102:li.find('&')]\r\n",
                "                found = 1\r\n",
                "                break\r\n",
                "        \r\n",
                "        for i in x:\r\n",
                "            if('www.moneycontrol.com' in i.attrs['href']):\r\n",
                "                mc_number = x.index(i)\r\n",
                "                link = str(i.attrs['href'])\r\n",
                "                n = link.find('/', 58) + 1\r\n",
                "                cut_link = link[(n):]\r\n",
                "                x = cut_link.find('/') + 1\r\n",
                "                y = cut_link.find('&')\r\n",
                "                mc_symbol = cut_link[x:y]\r\n",
                "                if(hasNumbers(mc_symbol)):\r\n",
                "                    ur = link[:link.find('&')]\r\n",
                "                    # print(ur)\r\n",
                "                    ur = ur[:len(ur)-len(mc_symbol)-1] [::-1]\r\n",
                "                    # print(ur)\r\n",
                "                    sym = ur.find('/')\r\n",
                "                    mc_symbol = ur[:sym] [::-1]\r\n",
                "                    # print (mc_symbol)\r\n",
                "                found = 1\r\n",
                "                break\r\n",
                "        \r\n",
                "        if found == 1:\r\n",
                "            if(nse_number < mc_number):\r\n",
                "                symbol = nse_symbol\r\n",
                "            else:\r\n",
                "                symbol = mc_symbol\r\n",
                "    if(found == 1):\r\n",
                "        return symbol.upper()\r\n",
                "    else:\r\n",
                "        return \"not found\"\r\n",
                "\r\n"
            ],
            "outputs": [],
            "metadata": {}
        },
        {
            "cell_type": "markdown",
            "source": [
                "testing function"
            ],
            "metadata": {}
        },
        {
            "cell_type": "code",
            "execution_count": null,
            "source": [
                "com = 'Bharti Tele-Ventures Ltd'\r\n",
                "# print(com[:len(com)-5])\r\n",
                "print(find_symbol(com))"
            ],
            "outputs": [],
            "metadata": {}
        },
        {
            "cell_type": "code",
            "execution_count": 18,
            "source": [
                "src_excel_file = 'company_original.xlsx'\r\n",
                "nifty_1995 = pd.read_excel(src_excel_file, sheet_name = '1995', engine = 'openpyxl')\r\n",
                "nifty_changes = pd.read_excel(src_excel_file, sheet_name = 'Changes', engine = 'openpyxl')\r\n",
                "# print(nifty_1995.shape)"
            ],
            "outputs": [],
            "metadata": {}
        },
        {
            "cell_type": "markdown",
            "source": [
                "SYMBOLS OF NIFTY 50 - 1995"
            ],
            "metadata": {}
        },
        {
            "cell_type": "code",
            "execution_count": 7,
            "source": [
                "for i in range(0, len(nifty_1995['Company Name'])):\r\n",
                "    nifty_1995.iloc[i, 1] = find_symbol(nifty_1995.iloc[i,0])\r\n",
                "    # print(nifty_1995['Company Name'][i], \"\\t\\t\\t\", nifty_1995.iloc[i, 1])\r\n",
                "# print(nifty_1995.iloc[1,0])"
            ],
            "outputs": [],
            "metadata": {}
        },
        {
            "cell_type": "markdown",
            "source": [
                "SYMBOLS OF INCLUDED INDECIES"
            ],
            "metadata": {}
        },
        {
            "cell_type": "code",
            "execution_count": 8,
            "source": [
                "for i in range(0, len(nifty_changes['Included in Index'])):\r\n",
                "    if(pd.isnull(nifty_changes.iloc[i,1])):\r\n",
                "        continue\r\n",
                "    nifty_changes.iloc[i, 2] = find_symbol(nifty_changes.iloc[i,1])\r\n",
                "#     print(nifty_changes['Included in Index'][i], \"\\t\\t\\t\", nifty_changes.iloc[i, 2])"
            ],
            "outputs": [],
            "metadata": {}
        },
        {
            "cell_type": "markdown",
            "source": [
                "SYMBOLS OF EXCLUDED INDECIES"
            ],
            "metadata": {}
        },
        {
            "cell_type": "code",
            "execution_count": 9,
            "source": [
                "for i in range(0, len(nifty_changes['Excluded from Index'])):\r\n",
                "    if(pd.isnull(nifty_changes.iloc[i,3])):\r\n",
                "        continue\r\n",
                "    nifty_changes.iloc[i, 4] = find_symbol(nifty_changes.iloc[i,3])\r\n",
                "#     print(nifty_changes['Excluded from Index'][i], \"\\t\\t\\t\", nifty_changes.iloc[i, 4])"
            ],
            "outputs": [],
            "metadata": {}
        },
        {
            "cell_type": "markdown",
            "source": [
                "SHEET NAMES WITH DATA FRAMES"
            ],
            "metadata": {}
        },
        {
            "cell_type": "code",
            "execution_count": 10,
            "source": [
                "dfs = {'changes' : nifty_changes, '1995': nifty_1995}"
            ],
            "outputs": [],
            "metadata": {}
        },
        {
            "cell_type": "markdown",
            "source": [
                "STORING DATAFRAMES"
            ],
            "metadata": {}
        },
        {
            "cell_type": "code",
            "execution_count": 18,
            "source": [
                "writer = pd.ExcelWriter('test2.xlsx', engine='openpyxl')\r\n",
                "# print(nifty_1995)\r\n",
                "for i in dfs.keys():\r\n",
                "    dfs[i].to_excel(writer, sheet_name = i, index = False)\r\n",
                "writer.save()\r\n",
                "# nifty_1995.to_excel(writer, sheet_name = '1995')"
            ],
            "outputs": [],
            "metadata": {}
        },
        {
            "cell_type": "markdown",
            "source": [
                "List of all years"
            ],
            "metadata": {}
        },
        {
            "cell_type": "code",
            "execution_count": 19,
            "source": [
                "year_list = []\r\n",
                "for i in range(0, len(nifty_changes.Year)):\r\n",
                "    if(not pd.isnull(nifty_changes.Year[i])):\r\n",
                "        x = int(nifty_changes.Year[i])\r\n",
                "        year_list.append(str(x))\r\n",
                "print(year_list)"
            ],
            "outputs": [
                {
                    "output_type": "stream",
                    "name": "stdout",
                    "text": [
                        "['1996', '1997', '1998', '1999', '2000', '2002', '2003', '2004', '2005', '2006', '2007', '2008', '2009', '2010', '2011', '2012', '2013', '2014', '2015', '2016', '2017', '2018', '2019', '2020']\n"
                    ]
                }
            ],
            "metadata": {}
        },
        {
            "cell_type": "markdown",
            "source": [
                "Testing"
            ],
            "metadata": {}
        },
        {
            "cell_type": "code",
            "execution_count": null,
            "source": [
                "# dfs['changes'].head()\r\n",
                "for i in dfs.keys():\r\n",
                "    print(i)"
            ],
            "outputs": [],
            "metadata": {}
        },
        {
            "cell_type": "code",
            "execution_count": null,
            "source": [
                "# nifty_changes.head()\r\n",
                "f = dfs['2019'].copy()\r\n",
                "f"
            ],
            "outputs": [],
            "metadata": {}
        },
        {
            "cell_type": "code",
            "execution_count": 186,
            "source": [
                "company_list_name = [str(x) for x in data['Company Name']]\r\n",
                "company_list_symbol = [str(x) for x in data.symbol]\r\n",
                "# print(company_list_name[1])\r\n",
                "print(len(company_list_name), len(company_list_symbol))"
            ],
            "outputs": [
                {
                    "output_type": "stream",
                    "name": "stdout",
                    "text": [
                        "46 46\n"
                    ]
                }
            ],
            "metadata": {}
        },
        {
            "cell_type": "markdown",
            "source": [
                "Creating dataframes"
            ],
            "metadata": {}
        },
        {
            "cell_type": "code",
            "execution_count": null,
            "source": [
                "count = 0\r\n",
                "dfs = {'changes' : nifty_changes, '1995': nifty_1995}\r\n",
                "data = dfs['1995'].copy()\r\n",
                "company_list_name = [str(x) for x in data['Company Name']]\r\n",
                "company_list_symbol = [str(x) for x in data.symbol]\r\n",
                "print(len(company_list_name), len(company_list_symbol))\r\n",
                "for i in range(0, len(nifty_changes.Year)):\r\n",
                "    if (i == 0):\r\n",
                "        print('skipped')\r\n",
                "        continue\r\n",
                "    in_sy = nifty_changes['Symbol_In'][i]\r\n",
                "    ex_sy = nifty_changes['Symbol_Ex'][i]\r\n",
                "    if(pd.isnull(in_sy) and pd.isnull(ex_sy)):\r\n",
                "        print(len(company_list_name), len(company_list_symbol))\r\n",
                "        \r\n",
                "        dfs[year_list[count]] = pd.DataFrame({\r\n",
                "            'Company Name' : company_list_name,\r\n",
                "            'symbol' : company_list_symbol\r\n",
                "        })\r\n",
                "        count = count + 1\r\n",
                "    else:\r\n",
                "        # print(ex_sy, in_sy)\r\n",
                "        if(ex_sy in company_list_symbol):\r\n",
                "            id = company_list_symbol.index(ex_sy)\r\n",
                "            print(id, company_list_symbol[id], company_list_name[id])\r\n",
                "            company_list_symbol.remove(ex_sy)\r\n",
                "            company_list_name.remove(company_list_name[id])\r\n",
                "        company_list_symbol.append(in_sy)\r\n",
                "        company_list_name.append(nifty_changes['Included in Index'][i])\r\n",
                "        # add company\r\n",
                "        # if in excluded remove it\r\n",
                "dfs[year_list[count]] = pd.DataFrame({\r\n",
                "            'Company Name' : company_list_name,\r\n",
                "            'symbol' : company_list_symbol\r\n",
                "        })"
            ],
            "outputs": [],
            "metadata": {}
        },
        {
            "cell_type": "markdown",
            "source": [
                "Excel Formulas using python"
            ],
            "metadata": {}
        },
        {
            "cell_type": "code",
            "execution_count": 19,
            "source": [
                "import openpyxl\r\n",
                "wb = openpyxl.load_workbook(\"D:\\studies\\stocks project\\Stocks-Project\\\\test2.xlsx\")"
            ],
            "outputs": [],
            "metadata": {}
        },
        {
            "cell_type": "code",
            "execution_count": 20,
            "source": [
                "print(wb.sheetnames)\r\n"
            ],
            "outputs": [
                {
                    "output_type": "stream",
                    "name": "stdout",
                    "text": [
                        "['changes', '1995', '1996', '1997', '1998', '1999', '2000', '2002', '2003', '2004', '2005', '2006', '2007', '2008', '2009', '2010', '2011', '2012', '2013', '2014', '2015', '2016', '2017', '2018', '2019', '2020']\n"
                    ]
                }
            ],
            "metadata": {}
        },
        {
            "cell_type": "markdown",
            "source": [
                "ADDING FORMULAS "
            ],
            "metadata": {}
        },
        {
            "cell_type": "code",
            "execution_count": null,
            "source": [
                "for i in year_list:\r\n",
                "    sheet = wb[i]\r\n",
                "    count = 0\r\n",
                "    for x in sheet.rows:\r\n",
                "        count += 1\r\n",
                "        if(count == 1):\r\n",
                "            continue\r\n",
                "        # LTP\r\n",
                "        ltp = \"=GOOGLEFINANCE(\"+'\"NSE:\"&B'+str(count)+',\"price\")'\r\n",
                "        # price that day\r\n",
                "        date_price = \"=max(index(GOOGLEFINANCE(\" + '\"NSE:\"&B' + str(count) + ',\"open\", D' + str(count) + \"),,2))\"\r\n",
                "        # print(date_price)\r\n",
                "        sheet['C'+str(count)] = ltp\r\n",
                "        sheet['D'+str(count)] = \"=DATE(\" + i + \",1,1)\"\r\n",
                "        sheet['E'+str(count)] = date_price"
            ],
            "outputs": [],
            "metadata": {}
        },
        {
            "cell_type": "markdown",
            "source": [
                "Adding headings to columns"
            ],
            "metadata": {}
        },
        {
            "cell_type": "code",
            "execution_count": 20,
            "source": [
                "import openpyxl\r\n",
                "wb = openpyxl.load_workbook(\"D:\\studies\\stocks project\\Stocks-Project\\\\testing_wtih_formula_2_pqoeitqw.xlsx\")\r\n",
                "for i in year_list:\r\n",
                "    sheet = wb[i]\r\n",
                "    count = 0\r\n",
                "    sheet['C1'] = 'LTP'\r\n",
                "    sheet['D1'] = 'That date'\r\n",
                "    sheet['E1'] = 'Price'\r\n",
                "\r\n",
                "wb.save(\"aise_hi_check.xlsx\")"
            ],
            "outputs": [],
            "metadata": {}
        },
        {
            "cell_type": "markdown",
            "source": [
                "saving the file"
            ],
            "metadata": {}
        },
        {
            "cell_type": "code",
            "execution_count": 22,
            "source": [
                "wb.save(\"testing_wtih_formula_2_pqoeitqw.xlsx\")"
            ],
            "outputs": [],
            "metadata": {}
        },
        {
            "cell_type": "markdown",
            "source": [
                "testing the formula"
            ],
            "metadata": {}
        },
        {
            "cell_type": "code",
            "execution_count": null,
            "source": [
                "count = 5\r\n",
                "ltp = \"=GOOGLEFINANCE(\"+'\"NSE:\"&B'+str(count)+',\"price\")'\r\n",
                "print(ltp)\r\n",
                "date_price = \"=max(index(GOOGLEFINANCE(\" + '\"NSE\"&B'+str(count)+ ',\"open\",D' + str(count) + \"),,2))\"\r\n",
                "date_price1 = \"=max(index(GOOGLEFINANCE(\" + '\"NSE\":&B' + str(count) + ',\"open\", D' + str(count) + \"),,2))\"\r\n",
                "print(date_price)\r\n",
                "print(date_price1)\r\n"
            ],
            "outputs": [],
            "metadata": {}
        },
        {
            "cell_type": "markdown",
            "source": [
                "Getting the records from google sheets and saving them in pandas DF"
            ],
            "metadata": {}
        },
        {
            "cell_type": "code",
            "execution_count": 21,
            "source": [
                "wb = gc.open('aise_hi_check')\r\n",
                "# worksheet = wb.worksheet('2000')\r\n",
                "new_dfs = {}\r\n",
                "for i in wb.worksheets():\r\n",
                "    worksheet = wb.worksheet(str(i.title))\r\n",
                "    new_dfs[str(i.title)] = pd.DataFrame(worksheet.get_all_records())"
            ],
            "outputs": [],
            "metadata": {}
        },
        {
            "cell_type": "code",
            "execution_count": 45,
            "source": [
                "for i in year_list:\r\n",
                "    f = new_dfs[str(i)]\r\n",
                "    x = f[f['Price'] != \"#N/A\"]\r\n",
                "    new_dfs[str(i)] = x"
            ],
            "outputs": [],
            "metadata": {}
        },
        {
            "cell_type": "markdown",
            "source": [
                "REMOVED EMPTY DATAFRAMES"
            ],
            "metadata": {}
        },
        {
            "cell_type": "code",
            "execution_count": 53,
            "source": [
                "list_l = []\r\n",
                "for i in new_dfs.keys():\r\n",
                "    if new_dfs[i].shape[0] == 0:\r\n",
                "        list_l.append(i)        \r\n",
                "\r\n",
                "for i in list_l:\r\n",
                "    del new_dfs[i]"
            ],
            "outputs": [],
            "metadata": {}
        },
        {
            "cell_type": "markdown",
            "source": [
                "Save the new excel file with #N/A removed"
            ],
            "metadata": {}
        },
        {
            "cell_type": "code",
            "execution_count": 56,
            "source": [
                "writer = pd.ExcelWriter('dropped_NA.xlsx', engine='openpyxl')\r\n",
                "# print(nifty_1995)\r\n",
                "for i in new_dfs.keys():\r\n",
                "    new_dfs[i].to_excel(writer, sheet_name = i, index = False)\r\n",
                "writer.save()"
            ],
            "outputs": [],
            "metadata": {}
        },
        {
            "cell_type": "markdown",
            "source": [
                "Open the new file from google sheets"
            ],
            "metadata": {}
        },
        {
            "cell_type": "code",
            "execution_count": 7,
            "source": [
                "wb = gc.open('dropped_NA')\r\n",
                "# worksheet = wb.worksheet('2000')\r\n",
                "dfs = {}\r\n",
                "for i in wb.worksheets():\r\n",
                "    worksheet = wb.worksheet(str(i.title))\r\n",
                "    dfs[str(i.title)] = pd.DataFrame(worksheet.get_all_records())"
            ],
            "outputs": [],
            "metadata": {}
        },
        {
            "cell_type": "code",
            "execution_count": 77,
            "source": [
                "print(dfs['2009'].head(5))"
            ],
            "outputs": [
                {
                    "output_type": "stream",
                    "name": "stdout",
                    "text": [
                        "          Company Name     symbol      LTP   That date   Price\n",
                        "0  Tata Power Co. Ltd.  TATAPOWER   122.95  01/01/2009   76.12\n",
                        "1           I T C Ltd.        ITC   213.70  01/01/2009   57.50\n",
                        "2       HDFC Bank Ltd.   HDFCBANK  1438.10  01/01/2009  102.00\n",
                        "3  State Bank of India       SBIN   425.40  01/01/2009  131.50\n",
                        "4            HDFC Ltd.       HDFC  2471.60  01/01/2009  305.00\n"
                    ]
                }
            ],
            "metadata": {}
        },
        {
            "cell_type": "markdown",
            "source": [
                "Creating a new excel sheet for company with following things:\r\n",
                "1. company name\r\n",
                "2. company symbol\r\n",
                "3. 52-week high\r\n",
                "4. 10-week low\r\n",
                "5. price"
            ],
            "metadata": {}
        },
        {
            "cell_type": "code",
            "execution_count": 173,
            "source": [
                "companies_dic = {}\r\n",
                "for i in dfs.keys():\r\n",
                "    if i == \"changes\" or i == \"1995\" or i == \"1999\" or i == \"2000\":\r\n",
                "        continue\r\n",
                "    else:\r\n",
                "        for x in dfs[i].symbol:\r\n",
                "            # print(dfs[i]['symbol'].index[dfs[i]['symbol'] == x][0])\r\n",
                "            if x in companies_dic.keys():\r\n",
                "                companies_dic[x]['year'].append(str(i))\r\n",
                "            else:\r\n",
                "                # list_l = []\r\n",
                "                # print(dfs[i]['Company Name'])\r\n",
                "                ind = dfs[i]['symbol'].index[dfs[i]['symbol'] == x][0]\r\n",
                "                companies_dic[x] = {\r\n",
                "                    'name' : dfs[i]['Company Name'][ind],\r\n",
                "                    'symbol' : dfs[i]['symbol'][ind],\r\n",
                "                    'year' : [str(i)],\r\n",
                "                    '52-week-high' : [],\r\n",
                "                    '10-week-low' : [],\r\n",
                "                    'price' : []\r\n",
                "                }"
            ],
            "outputs": [],
            "metadata": {}
        },
        {
            "cell_type": "markdown",
            "source": [
                "checking all the years the company was listed in nifty 50 and adding them to a list"
            ],
            "metadata": {}
        },
        {
            "cell_type": "code",
            "execution_count": 8,
            "source": [
                "companies_dic = {}\r\n",
                "for i in dfs.keys():\r\n",
                "    if i == \"changes\" or i == \"1995\" or i == \"1999\" or i == \"2000\":\r\n",
                "        continue\r\n",
                "    else:\r\n",
                "        for x in dfs[i].symbol:\r\n",
                "            # print(dfs[i]['symbol'].index[dfs[i]['symbol'] == x][0])\r\n",
                "            if x in companies_dic.keys():\r\n",
                "                companies_dic[x]['year'].append(str(i))\r\n",
                "            else:\r\n",
                "                # list_l = []\r\n",
                "                # print(dfs[i]['Company Name'])\r\n",
                "                ind = dfs[i]['symbol'].index[dfs[i]['symbol'] == x][0]\r\n",
                "                companies_dic[x] = {\r\n",
                "                    'year' : [str(i)]\r\n",
                "                }"
            ],
            "outputs": [],
            "metadata": {}
        },
        {
            "cell_type": "markdown",
            "source": [
                "Converting from dictionary to a pandas DF to save it in EXCEL "
            ],
            "metadata": {}
        },
        {
            "cell_type": "code",
            "execution_count": 9,
            "source": [
                "pandas_company_df = {}\r\n",
                "for i in companies_dic.keys():\r\n",
                "    pandas_company_df[i] = pd.DataFrame.from_dict(companies_dic[i])"
            ],
            "outputs": [],
            "metadata": {}
        },
        {
            "cell_type": "markdown",
            "source": [
                "Saving the pandas DF into EXCEL"
            ],
            "metadata": {}
        },
        {
            "cell_type": "code",
            "execution_count": 10,
            "source": [
                "writer = pd.ExcelWriter('company_list.xlsx', engine='openpyxl')\r\n",
                "for i in pandas_company_df.keys():\r\n",
                "    pandas_company_df[i].to_excel(writer, sheet_name= i, index = False)\r\n",
                "writer.save()\r\n",
                "    # print(pandas_company_df[i].head())"
            ],
            "outputs": [],
            "metadata": {}
        },
        {
            "cell_type": "markdown",
            "source": [
                "Reading the previously saved excel (DF) to put formulas into specific cells"
            ],
            "metadata": {}
        },
        {
            "cell_type": "code",
            "execution_count": 11,
            "source": [
                "import openpyxl\r\n",
                "wb = openpyxl.load_workbook(\"D:\\studies\\stocks project\\Stocks-Project\\\\company_list.xlsx\")\r\n",
                "for i in wb.sheetnames:\r\n",
                "    ws = wb[i]\r\n",
                "    # print(ws['A1'])\r\n",
                "    for num in range(1, ws.max_row):\r\n",
                "        year_val = int(ws['A'+str(num+1)].value)\r\n",
                "        init_year = \"DATE(\" + str(year_val) + \",1,1),\"\r\n",
                "        final_year = \"DATE(\" + str(year_val+1) + \",1,1),\"\r\n",
                "        formula = \"=GOOGLEFINANCE(\" + '\"NSE:' + str(i)+ '\", \"high\",' + init_year + final_year + '\"weekly\")'\r\n",
                "        # print('B'+str((275*(num-1))+1))\r\n",
                "\r\n",
                "        ws['B'+str((55*(num-1))+1)] = formula\r\n",
                "        # print(ws[cell_num].value)\r\n",
                "        # break\r\n",
                "    # break\r\n",
                "    # print(i, ws.max_row)\r\n",
                "wb.save(\"weekly_company_list_with_formula.xlsx\")"
            ],
            "outputs": [],
            "metadata": {}
        },
        {
            "cell_type": "markdown",
            "source": [
                "1. After saving the changes, we upload the excel sheet to google sheets and all the values appear there. \r\n",
                "2. We then download the sheet with values and make a new dictionary of all companies with weekly prices"
            ],
            "metadata": {}
        },
        {
            "cell_type": "code",
            "execution_count": 17,
            "source": [
                "file_name = 'downloaded_weekly_company_list_with_formula.xlsx'\r\n",
                "comapany_data_with_prices = {}\r\n",
                "wb = openpyxl.load_workbook(file_name)\r\n",
                "for i in wb.sheetnames:\r\n",
                "    ws = wb[i]\r\n",
                "    comapany_data_with_prices[i] = pd.read_excel(file_name, sheet_name = i, engine = 'openpyxl')"
            ],
            "outputs": [],
            "metadata": {}
        },
        {
            "cell_type": "code",
            "execution_count": 20,
            "source": [
                "for i in comapany_data_with_prices.keys():\r\n",
                "    print(i)\r\n",
                "    print(comapany_data_with_prices[i].head(5))"
            ],
            "outputs": [
                {
                    "output_type": "stream",
                    "name": "stdout",
                    "text": [
                        "TATAPOWER\n",
                        "     year                        Date   High\n",
                        "0  2002.0  2002-01-04 15:29:59.712000  11.92\n",
                        "1  2003.0  2002-01-11 15:29:59.712000  12.04\n",
                        "2  2004.0  2002-01-18 15:29:59.712000  12.47\n",
                        "3  2005.0  2002-01-25 15:29:59.712000  12.62\n",
                        "4  2006.0  2002-02-01 15:29:59.712000  11.41\n",
                        "ITC\n",
                        "     year                        Date   High\n",
                        "0  2002.0  2002-01-04 15:29:59.712000  15.97\n",
                        "1  2003.0  2002-01-11 15:29:59.712000  17.02\n",
                        "2  2004.0  2002-01-18 15:29:59.712000  17.33\n",
                        "3  2005.0  2002-01-25 15:29:59.712000  16.77\n",
                        "4  2006.0  2002-02-01 15:29:59.712000  16.22\n",
                        "HDFCBANK\n",
                        "     year                        Date   High\n",
                        "0  2002.0  2002-01-04 15:29:59.712000     23\n",
                        "1  2003.0  2002-01-11 15:29:59.712000  23.15\n",
                        "2  2004.0  2002-01-18 15:29:59.712000   25.4\n",
                        "3  2005.0  2002-01-25 15:29:59.712000  24.38\n",
                        "4  2006.0  2002-02-01 15:29:59.712000   23.2\n",
                        "SBIN\n",
                        "     year                        Date   High\n",
                        "0  2002.0  2002-01-04 15:29:59.712000  19.28\n",
                        "1  2003.0  2002-01-11 15:29:59.712000  19.55\n",
                        "2  2004.0  2002-01-18 15:29:59.712000  21.18\n",
                        "3  2005.0  2002-01-25 15:29:59.712000  21.04\n",
                        "4  2006.0  2002-02-01 15:29:59.712000  20.75\n",
                        "INDHOTEL\n",
                        "     year                        Date   High\n",
                        "0  2002.0  2002-01-04 15:29:59.712000  13.96\n",
                        "1  2003.0  2002-01-11 15:29:59.712000  14.11\n",
                        "2  2004.0  2002-01-18 15:29:59.712000  14.09\n",
                        "3     NaN  2002-01-25 15:29:59.712000  14.03\n",
                        "4     NaN  2002-02-01 15:29:59.712000  12.78\n",
                        "HDFC\n",
                        "     year                        Date   High\n",
                        "0  2002.0  2002-01-04 15:29:59.712000  67.49\n",
                        "1  2003.0  2002-01-11 15:29:59.712000  65.19\n",
                        "2  2004.0  2002-01-18 15:29:59.712000   65.8\n",
                        "3  2005.0  2002-01-25 15:29:59.712000   64.3\n",
                        "4  2006.0  2002-02-01 15:29:59.712000     65\n",
                        "TATAMOTORS\n",
                        "     year                        Date   High\n",
                        "0  2002.0  2002-01-04 15:29:59.712000  19.71\n",
                        "1  2003.0  2002-01-11 15:29:59.712000  21.81\n",
                        "2  2004.0  2002-01-18 15:29:59.712000  25.76\n",
                        "3  2005.0  2002-01-25 15:29:59.712000  24.18\n",
                        "4  2006.0  2002-02-01 15:29:59.712000  24.73\n",
                        "AMBUJACEM\n",
                        "     year                        Date   High\n",
                        "0  2002.0  2002-01-04 15:29:59.712000  27.31\n",
                        "1  2003.0  2002-01-11 15:29:59.712000  29.33\n",
                        "2  2004.0  2002-01-18 15:29:59.712000  30.25\n",
                        "3  2005.0  2002-01-25 15:29:59.712000   30.8\n",
                        "4  2006.0  2002-02-01 15:29:59.712000  29.67\n",
                        "TATACHEM\n",
                        "     year                        Date   High\n",
                        "0  2002.0  2002-01-04 15:29:59.712000  40.28\n",
                        "1  2003.0  2002-01-11 15:29:59.712000  40.47\n",
                        "2  2004.0  2002-01-18 15:29:59.712000  43.96\n",
                        "3  2005.0  2002-01-25 15:29:59.712000   44.5\n",
                        "4     NaN  2002-02-01 15:29:59.712000  41.27\n",
                        "LT\n",
                        "     year                        Date   High\n",
                        "0  2002.0  2002-01-04 15:29:59.712000  22.21\n",
                        "1  2003.0  2002-01-11 15:29:59.712000  22.64\n",
                        "2  2004.0  2002-01-18 15:29:59.712000  23.27\n",
                        "3  2005.0  2002-01-25 15:29:59.712000  22.74\n",
                        "4  2006.0  2002-02-01 15:29:59.712000  22.21\n",
                        "HINDALCO\n",
                        "     year                        Date   High\n",
                        "0  2002.0  2002-01-04 15:29:59.712000  57.48\n",
                        "1  2003.0  2002-01-11 15:29:59.712000  61.42\n",
                        "2  2004.0  2002-01-18 15:29:59.712000  62.76\n",
                        "3  2005.0  2002-01-25 15:29:59.712000  63.12\n",
                        "4  2006.0  2002-02-01 15:29:59.712000  62.27\n",
                        "TATASTEEL\n",
                        "     year                        Date   High\n",
                        "0  2002.0  2002-01-04 15:29:59.712000   53.8\n",
                        "1  2003.0  2002-01-11 15:29:59.712000  59.15\n",
                        "2  2004.0  2002-01-18 15:29:59.712000  62.48\n",
                        "3  2005.0  2002-01-25 15:29:59.712000  63.89\n",
                        "4  2006.0  2002-02-01 15:29:59.712000  57.44\n",
                        "COLPAL\n",
                        "     year                        Date   High\n",
                        "0  2002.0  2002-01-04 15:29:59.712000  84.38\n",
                        "1  2003.0  2002-01-11 15:29:59.712000  85.25\n",
                        "2  2004.0  2002-01-18 15:29:59.712000   82.2\n",
                        "3     NaN  2002-01-25 15:29:59.712000   79.7\n",
                        "4     NaN  2002-02-01 15:29:59.712000   81.5\n",
                        "RELINFRA\n",
                        "     year                        Date   High\n",
                        "0  2002.0  2002-01-04 15:29:59.712000    207\n",
                        "1  2003.0  2002-01-11 15:29:59.712000  206.5\n",
                        "2  2004.0  2002-01-18 15:29:59.712000  207.5\n",
                        "3  2005.0  2002-01-25 15:29:59.712000  213.4\n",
                        "4  2006.0  2002-02-01 15:29:59.712000    212\n",
                        "HINDUNILVR\n",
                        "     year                        Date    High\n",
                        "0  2002.0  2002-01-04 15:29:59.712000     225\n",
                        "1  2003.0  2002-01-11 15:29:59.712000  224.85\n",
                        "2  2004.0  2002-01-18 15:29:59.712000   218.9\n",
                        "3  2005.0  2002-01-25 15:29:59.712000   223.3\n",
                        "4  2006.0  2002-02-01 15:29:59.712000     224\n",
                        "ACC\n",
                        "     year                        Date    High\n",
                        "0  2002.0  2002-01-04 15:29:59.712000   171.4\n",
                        "1  2003.0  2002-01-11 15:29:59.712000   173.7\n",
                        "2  2004.0  2002-01-18 15:29:59.712000   177.4\n",
                        "3  2005.0  2002-01-25 15:29:59.712000  177.95\n",
                        "4  2006.0  2002-02-01 15:29:59.712000  165.35\n",
                        "ABB\n",
                        "     year                        Date   High\n",
                        "0  2002.0  2002-01-04 15:29:59.712000  37.31\n",
                        "1  2003.0  2002-01-11 15:29:59.712000  38.03\n",
                        "2  2004.0  2002-01-18 15:29:59.712000  37.49\n",
                        "3  2005.0  2002-01-25 15:29:59.712000  40.17\n",
                        "4  2006.0  2002-02-01 15:29:59.712000  40.78\n",
                        "GLAXO\n",
                        "     year                        Date    High\n",
                        "0  2002.0  2002-01-04 15:29:59.712000  153.98\n",
                        "1  2003.0  2002-01-11 15:29:59.712000  153.95\n",
                        "2  2004.0  2002-01-18 15:29:59.712000  163.75\n",
                        "3  2005.0  2002-01-25 15:29:59.712000  172.85\n",
                        "4  2006.0  2002-02-01 15:29:59.712000   172.5\n",
                        "M&M\n",
                        "     year                        Date   High\n",
                        "0  2002.0  2002-01-04 15:29:59.712000  11.75\n",
                        "1  2003.0  2002-01-11 15:29:59.712000  12.24\n",
                        "2  2004.0  2002-01-18 15:29:59.712000  14.61\n",
                        "3  2005.0  2002-01-25 15:29:59.712000  15.06\n",
                        "4  2006.0  2002-02-01 15:29:59.712000  15.21\n",
                        "BHEL\n",
                        "     year                        Date   High\n",
                        "0  2002.0  2002-01-04 15:29:59.712000   9.73\n",
                        "1  2003.0  2002-01-11 15:29:59.712000   9.63\n",
                        "2  2004.0  2002-01-18 15:29:59.712000  10.24\n",
                        "3  2005.0  2002-01-25 15:29:59.712000  10.64\n",
                        "4  2006.0  2002-02-01 15:29:59.712000  10.73\n",
                        "HINDPETRO\n",
                        "     year                        Date   High\n",
                        "0  2002.0  2002-01-04 15:29:59.712000  31.67\n",
                        "1  2003.0  2002-01-11 15:29:59.712000   33.9\n",
                        "2  2004.0  2002-01-18 15:29:59.712000  37.29\n",
                        "3  2005.0  2002-01-25 15:29:59.712000  39.33\n",
                        "4  2006.0  2002-02-01 15:29:59.712000  41.24\n",
                        "MTNL\n",
                        "     year                        Date   High\n",
                        "0  2002.0  2002-01-04 15:29:59.712000    130\n",
                        "1  2003.0  2002-01-11 15:29:59.712000  131.5\n",
                        "2  2004.0  2002-01-18 15:29:59.712000    130\n",
                        "3  2005.0  2002-01-25 15:29:59.712000  125.5\n",
                        "4  2006.0  2002-02-01 15:29:59.712000  123.8\n",
                        "CIPLA\n",
                        "     year                        Date   High\n",
                        "0  2002.0  2002-01-04 15:29:59.712000  92.24\n",
                        "1  2003.0  2002-01-11 15:29:59.712000  96.72\n",
                        "2  2004.0  2002-01-18 15:29:59.712000  96.72\n",
                        "3  2005.0  2002-01-25 15:29:59.712000     92\n",
                        "4  2006.0  2002-02-01 15:29:59.712000   94.8\n",
                        "HEROMOTOCO\n",
                        "     year                        Date    High\n",
                        "0  2002.0  2002-01-04 15:29:59.712000   285.8\n",
                        "1  2003.0  2002-01-11 15:29:59.712000  315.85\n",
                        "2  2004.0  2002-01-18 15:29:59.712000     335\n",
                        "3  2005.0  2002-01-25 15:29:59.712000     346\n",
                        "4  2006.0  2002-02-01 15:29:59.712000  323.75\n",
                        "INFY\n",
                        "     year                        Date   High\n",
                        "0  2002.0  2002-01-04 15:29:59.712000   70.7\n",
                        "1  2003.0  2002-01-11 15:29:59.712000  76.16\n",
                        "2  2004.0  2002-01-18 15:29:59.712000  65.55\n",
                        "3  2005.0  2002-01-25 15:29:59.712000  63.11\n",
                        "4  2006.0  2002-02-01 15:29:59.712000  62.17\n",
                        "NIITLTD\n",
                        "     year                        Date   High\n",
                        "0  2002.0  2002-01-04 15:29:59.712000  34.46\n",
                        "1  2003.0  2002-01-11 15:29:59.712000   38.9\n",
                        "2     NaN  2002-01-18 15:29:59.712000  36.53\n",
                        "3     NaN  2002-01-25 15:29:59.712000  36.33\n",
                        "4     NaN  2002-02-01 15:29:59.712000  32.79\n",
                        "BRITANNIA\n",
                        "     year                        Date  High\n",
                        "0  2002.0  2002-01-04 15:29:59.712000    63\n",
                        "1  2003.0  2002-01-11 15:29:59.712000  60.9\n",
                        "2  2019.0  2002-01-18 15:29:59.712000  60.5\n",
                        "3  2020.0  2002-01-25 15:29:59.712000  59.9\n",
                        "4     NaN  2002-02-01 15:29:59.712000    61\n",
                        "DRREDDY\n",
                        "     year                        Date    High\n",
                        "0  2002.0  2002-01-04 15:29:59.712000     485\n",
                        "1  2003.0  2002-01-11 15:29:59.712000     495\n",
                        "2  2004.0  2002-01-18 15:29:59.712000   490.5\n",
                        "3  2005.0  2002-01-25 15:29:59.712000  522.48\n",
                        "4  2006.0  2002-02-01 15:29:59.712000     505\n",
                        "DABUR\n",
                        "     year                        Date   High\n",
                        "0  2002.0  2002-01-04 15:29:59.712000  11.66\n",
                        "1  2003.0  2002-01-11 15:29:59.712000  11.66\n",
                        "2  2004.0  2002-01-18 15:29:59.712000   11.5\n",
                        "3  2005.0  2002-01-25 15:29:59.712000  11.25\n",
                        "4  2006.0  2002-02-01 15:29:59.712000  10.95\n",
                        "ZEEL\n",
                        "     year                        Date   High\n",
                        "0  2002.0  2002-01-04 15:29:59.712000   63.5\n",
                        "1  2003.0  2002-01-11 15:29:59.712000  67.38\n",
                        "2  2004.0  2002-01-18 15:29:59.712000   69.2\n",
                        "3  2005.0  2002-01-25 15:29:59.712000     68\n",
                        "4  2006.0  2002-02-01 15:29:59.712000  63.43\n",
                        "BPCL\n",
                        "     year                        Date   High\n",
                        "0  2002.0  2002-01-04 15:29:59.712000   33.2\n",
                        "1  2003.0  2002-01-11 15:29:59.712000  34.17\n",
                        "2  2004.0  2002-01-18 15:29:59.712000  37.13\n",
                        "3  2005.0  2002-01-25 15:29:59.712000  37.58\n",
                        "4  2006.0  2002-02-01 15:29:59.712000  39.57\n",
                        "HCLTECH\n",
                        "     year                        Date   High\n",
                        "0  2002.0  2002-01-04 15:29:59.712000  38.92\n",
                        "1  2003.0  2002-01-11 15:29:59.712000   41.2\n",
                        "2  2004.0  2002-01-18 15:29:59.712000     36\n",
                        "3  2005.0  2002-01-25 15:29:59.712000   32.1\n",
                        "4  2006.0  2002-02-01 15:29:59.712000  31.35\n",
                        "ICICIBANK\n",
                        "     year                        Date   High\n",
                        "0  2002.0  2002-01-04 15:29:59.712000  16.95\n",
                        "1  2003.0  2002-01-11 15:29:59.712000  17.13\n",
                        "2  2004.0  2002-01-18 15:29:59.712000  17.36\n",
                        "3  2005.0  2002-01-25 15:29:59.712000  17.36\n",
                        "4  2006.0  2002-02-01 15:29:59.712000  17.35\n",
                        "SCI\n",
                        "     year                        Date   High\n",
                        "0  2002.0  2002-07-05 15:29:59.712000  63.33\n",
                        "1  2003.0  2002-07-12 15:29:59.712000  60.63\n",
                        "2  2004.0  2002-07-19 15:29:59.712000  60.93\n",
                        "3  2005.0  2002-07-26 15:29:59.712000  62.33\n",
                        "4     NaN  2002-08-02 15:29:59.712000  58.77\n",
                        "SUNPHARMA\n",
                        "     year                        Date   High\n",
                        "0  2002.0  2002-01-04 15:29:59.712000  14.45\n",
                        "1  2003.0  2002-01-11 15:29:59.712000  16.13\n",
                        "2  2004.0  2002-01-18 15:29:59.712000  17.29\n",
                        "3  2005.0  2002-01-25 15:29:59.712000  16.25\n",
                        "4  2006.0  2002-02-01 15:29:59.712000  15.92\n",
                        "WIPRO\n",
                        "     year                        Date   High\n",
                        "0  2002.0  2002-01-04 15:29:59.712000  68.14\n",
                        "1  2003.0  2002-01-11 15:29:59.712000  70.31\n",
                        "2  2004.0  2002-01-18 15:29:59.712000  67.46\n",
                        "3  2005.0  2002-01-25 15:29:59.712000  61.38\n",
                        "4  2006.0  2002-02-01 15:29:59.712000  62.96\n",
                        "BAJAJ-AUTO\n",
                        "     year                        Date    High\n",
                        "0  2003.0  2003-01-03 15:29:59.712000  255.98\n",
                        "1  2004.0  2003-01-10 15:29:59.712000     255\n",
                        "2  2005.0  2003-01-17 15:29:59.712000   269.2\n",
                        "3  2006.0  2003-01-24 15:29:59.712000     267\n",
                        "4  2007.0  2003-01-31 15:29:59.712000  259.98\n",
                        "GRASIM\n",
                        "     year                        Date   High\n",
                        "0  2003.0  2003-01-03 15:29:59.712000  45.72\n",
                        "1  2004.0  2003-01-10 15:29:59.712000  48.96\n",
                        "2  2005.0  2003-01-17 15:29:59.712000  45.57\n",
                        "3  2006.0  2003-01-24 15:29:59.712000  48.67\n",
                        "4  2007.0  2003-01-31 15:29:59.712000  48.24\n",
                        "RELIANCE\n",
                        "     year                        Date   High\n",
                        "0  2003.0  2003-01-03 15:29:59.712000   60.7\n",
                        "1  2004.0  2003-01-10 15:29:59.712000   60.2\n",
                        "2  2005.0  2003-01-17 15:29:59.712000  59.86\n",
                        "3  2006.0  2003-01-24 15:29:59.712000   60.4\n",
                        "4  2007.0  2003-01-31 15:29:59.712000  62.41\n",
                        "TATACONSUM\n",
                        "     year                        Date   High\n",
                        "0  2003.0  2003-01-03 15:29:59.712000  17.61\n",
                        "1  2004.0  2003-01-10 15:29:59.712000   17.5\n",
                        "2  2005.0  2003-01-17 15:29:59.712000  17.18\n",
                        "3     NaN  2003-01-24 15:29:59.712000  17.65\n",
                        "4     NaN  2003-01-31 15:29:59.712000   16.9\n",
                        "GAIL\n",
                        "     year                        Date   High\n",
                        "0  2003.0  2003-01-03 15:29:59.712000  13.69\n",
                        "1  2004.0  2003-01-10 15:29:59.712000  14.01\n",
                        "2  2005.0  2003-01-17 15:29:59.712000  13.78\n",
                        "3  2006.0  2003-01-24 15:29:59.712000  14.05\n",
                        "4  2007.0  2003-01-31 15:29:59.712000   13.6\n",
                        "NATIONALUM\n",
                        "     year                        Date   High\n",
                        "0  2003.0  2003-01-03 15:29:59.712000  24.36\n",
                        "1  2004.0  2003-01-10 15:29:59.712000  23.75\n",
                        "2  2005.0  2003-01-17 15:29:59.712000  22.26\n",
                        "3  2006.0  2003-01-24 15:29:59.712000     23\n",
                        "4  2007.0  2003-01-31 15:29:59.712000   23.2\n",
                        "SAIL\n",
                        "     year                        Date   High\n",
                        "0  2003.0  2003-01-03 15:29:59.712000  10.45\n",
                        "1  2004.0  2003-01-10 15:29:59.712000  10.15\n",
                        "2  2005.0  2003-01-17 15:29:59.712000   10.1\n",
                        "3  2006.0  2003-01-24 15:29:59.712000   11.7\n",
                        "4  2007.0  2003-01-31 15:29:59.712000   11.1\n",
                        "MARUTI\n",
                        "     year                        Date    High\n",
                        "0  2004.0  2004-01-02 15:29:59.712000   386.9\n",
                        "1  2005.0  2004-01-09 15:29:59.712000     448\n",
                        "2  2006.0  2004-01-16 15:29:59.712000  454.65\n",
                        "3  2007.0  2004-01-23 15:29:59.712000   431.4\n",
                        "4  2008.0  2004-01-30 15:29:59.712000   444.7\n",
                        "ONGC\n",
                        "     year                        Date   High\n",
                        "0  2004.0  2004-01-02 15:29:59.712000  69.92\n",
                        "1  2005.0  2004-01-09 15:29:59.712000  74.07\n",
                        "2  2006.0  2004-01-16 15:29:59.712000   68.3\n",
                        "3  2007.0  2004-01-23 15:29:59.712000  63.85\n",
                        "4  2008.0  2004-01-30 15:29:59.712000  60.74\n",
                        "PNB\n",
                        "     year                        Date   High\n",
                        "0  2004.0  2004-01-02 15:29:59.712000  49.38\n",
                        "1  2005.0  2004-01-09 15:29:59.712000  55.74\n",
                        "2  2006.0  2004-01-16 15:29:59.712000  62.02\n",
                        "3  2007.0  2004-01-23 15:29:59.712000   57.4\n",
                        "4  2008.0  2004-01-30 15:29:59.712000  60.07\n",
                        "TCS\n",
                        "     year                        Date    High\n",
                        "0  2005.0  2005-01-07 15:29:59.712000  169.59\n",
                        "1  2006.0  2005-01-14 15:29:59.712000  170.99\n",
                        "2  2007.0  2005-01-20 15:29:59.712000   163.7\n",
                        "3  2008.0  2005-01-28 15:29:59.712000  161.85\n",
                        "4  2009.0  2005-02-04 15:29:59.712000  165.43\n",
                        "JETAIRWAYS\n",
                        "     year                    Date    High\n",
                        "0  2006.0 2006-01-06 15:29:59.712  1168.0\n",
                        "1     NaN 2006-01-13 15:29:59.712  1207.0\n",
                        "2     NaN 2006-01-20 15:29:59.712  1189.0\n",
                        "3     NaN 2006-01-27 15:29:59.712  1120.0\n",
                        "4     NaN 2006-02-03 15:29:59.712  1027.8\n",
                        "SIEMENS\n",
                        "     year                        Date    High\n",
                        "0  2006.0  2006-01-06 15:29:59.712000  378.77\n",
                        "1  2007.0  2006-01-13 15:29:59.712000   376.5\n",
                        "2  2008.0  2006-01-20 15:29:59.712000   415.4\n",
                        "3  2009.0  2006-01-27 15:29:59.712000     450\n",
                        "4  2010.0  2006-02-03 15:29:59.712000   464.7\n",
                        "SUZLON\n",
                        "     year                        Date    High\n",
                        "0  2006.0  2006-01-06 15:29:59.712000  183.09\n",
                        "1  2007.0  2006-01-13 15:29:59.712000   181.2\n",
                        "2  2008.0  2006-01-20 15:29:59.712000     185\n",
                        "3  2009.0  2006-01-27 15:29:59.712000   229.6\n",
                        "4  2010.0  2006-02-03 15:29:59.712000   238.4\n",
                        "RCOM\n",
                        "     year                        Date   High\n",
                        "0  2007.0  2007-01-05 15:29:59.712000  479.9\n",
                        "1  2008.0  2007-01-12 15:29:59.712000    445\n",
                        "2  2009.0  2007-01-19 15:29:59.712000    451\n",
                        "3  2010.0  2007-01-25 15:29:59.712000  454.7\n",
                        "4  2011.0  2007-02-02 15:29:59.712000  496.5\n",
                        "NTPC\n",
                        "     year                        Date    High\n",
                        "0  2007.0  2007-01-05 15:29:59.712000  117.33\n",
                        "1  2008.0  2007-01-12 15:29:59.712000  116.63\n",
                        "2  2009.0  2007-01-19 15:29:59.712000  118.75\n",
                        "3  2010.0  2007-01-25 15:29:59.712000  116.17\n",
                        "4  2011.0  2007-02-02 15:29:59.712000  122.33\n",
                        "UNITECH\n",
                        "     year                        Date    High\n",
                        "0  2007.0  2007-01-05 15:29:59.712000  252.95\n",
                        "1  2008.0  2007-01-12 15:29:59.712000   243.9\n",
                        "2  2009.0  2007-01-19 15:29:59.712000     250\n",
                        "3     NaN  2007-01-25 15:29:59.712000     239\n",
                        "4     NaN  2007-02-02 15:29:59.712000  240.35\n",
                        "IDEA\n",
                        "     year                        Date   High\n",
                        "0  2008.0  2008-01-04 15:29:59.712000   85.1\n",
                        "1  2009.0  2008-01-11 15:29:59.712000  85.41\n",
                        "2  2015.0  2008-01-17 15:29:59.712000   90.3\n",
                        "3  2016.0  2008-01-25 15:29:59.712000  84.62\n",
                        "4     NaN  2008-02-01 15:29:59.712000  78.52\n",
                        "DLF\n",
                        "     year                        Date    High\n",
                        "0  2008.0  2008-01-04 15:29:59.712000    1121\n",
                        "1  2009.0  2008-01-11 15:29:59.712000  1209.7\n",
                        "2  2010.0  2008-01-17 15:29:59.712000    1225\n",
                        "3  2011.0  2008-01-25 15:29:59.712000    1005\n",
                        "4  2012.0  2008-02-01 15:29:59.712000     949\n",
                        "POWERGRID\n",
                        "     year                        Date   High\n",
                        "0  2008.0  2008-01-04 15:29:59.712000    156\n",
                        "1  2009.0  2008-01-11 15:29:59.712000  153.2\n",
                        "2  2010.0  2008-01-18 15:29:59.712000  146.1\n",
                        "3  2011.0  2008-01-25 15:29:59.712000    132\n",
                        "4  2012.0  2008-02-01 15:29:59.712000  119.7\n",
                        "RPOWER\n",
                        "     year                        Date    High\n",
                        "0  2009.0  2009-01-02 15:29:59.712000   125.8\n",
                        "1  2010.0  2009-01-09 15:29:59.712000  127.95\n",
                        "2  2011.0  2009-01-16 15:29:59.712000   108.9\n",
                        "3     NaN  2009-01-23 15:29:59.712000   104.9\n",
                        "4     NaN  2009-01-30 15:29:59.712000   107.4\n",
                        "AXISBANK\n",
                        "     year                        Date   High\n",
                        "0  2009.0  2009-01-02 15:29:59.712000  109.5\n",
                        "1  2010.0  2009-01-09 15:29:59.712000  115.4\n",
                        "2  2011.0  2009-01-16 15:29:59.712000  98.96\n",
                        "3  2012.0  2009-01-23 15:29:59.712000     90\n",
                        "4  2013.0  2009-01-30 15:29:59.712000     89\n",
                        "IDFC\n",
                        "     year                        Date   High\n",
                        "0  2009.0  2009-01-02 15:29:59.712000   74.2\n",
                        "1  2010.0  2009-01-09 15:29:59.712000   75.2\n",
                        "2  2011.0  2009-01-16 15:29:59.712000  61.65\n",
                        "3  2012.0  2009-01-23 15:29:59.712000   62.4\n",
                        "4  2013.0  2009-01-30 15:29:59.712000     61\n",
                        "JPASSOCIAT\n",
                        "     year                        Date   High\n",
                        "0  2009.0  2009-01-02 15:29:59.712000  59.97\n",
                        "1  2010.0  2009-01-09 15:29:59.712000  70.43\n",
                        "2  2011.0  2009-01-16 15:29:59.712000     48\n",
                        "3  2012.0  2009-01-23 15:29:59.712000   47.3\n",
                        "4  2013.0  2009-01-30 15:29:59.712000   51.6\n",
                        "JINDALSTEL\n",
                        "     year                        Date    High\n",
                        "0  2009.0  2009-01-02 15:29:59.712000  161.33\n",
                        "1  2010.0  2009-01-09 15:29:59.712000  179.17\n",
                        "2  2011.0  2009-01-16 15:29:59.712000   153.3\n",
                        "3  2012.0  2009-01-23 15:29:59.712000     147\n",
                        "4  2013.0  2009-01-30 15:29:59.712000  176.15\n",
                        "RELCAPITAL\n",
                        "     year                        Date    High\n",
                        "0  2009.0  2009-01-02 15:29:59.712000  584.55\n",
                        "1  2010.0  2009-01-09 15:29:59.712000   626.4\n",
                        "2     NaN  2009-01-16 15:29:59.712000   489.9\n",
                        "3     NaN  2009-01-23 15:29:59.712000   444.9\n",
                        "4     NaN  2009-01-30 15:29:59.712000  425.25\n",
                        "KOTAKBANK\n",
                        "     year                        Date    High\n",
                        "0  2010.0  2010-01-08 15:29:59.712000   213.7\n",
                        "1  2011.0  2010-01-15 15:29:59.712000  215.43\n",
                        "2  2012.0  2010-01-22 15:29:59.712000  219.95\n",
                        "3  2013.0  2010-01-29 15:29:59.712000   205.5\n",
                        "4  2014.0  2010-02-11 15:29:59.712000     188\n",
                        "VEDL\n",
                        "     year                        Date   High\n",
                        "0  2010.0  2010-01-08 15:29:59.712000  421.5\n",
                        "1  2011.0  2010-01-15 15:29:59.712000    424\n",
                        "2  2012.0  2010-01-22 15:29:59.712000    419\n",
                        "3  2013.0  2010-01-29 15:29:59.712000  384.4\n",
                        "4  2014.0  2010-02-11 15:29:59.712000  385.5\n",
                        "COALINDIA\n",
                        "     year                        Date   High\n",
                        "0  2011.0  2011-01-07 15:29:59.712000    320\n",
                        "1  2012.0  2011-01-14 15:29:59.712000  315.5\n",
                        "2  2013.0  2011-01-21 15:29:59.712000  319.2\n",
                        "3  2014.0  2011-01-28 15:29:59.712000  315.7\n",
                        "4  2015.0  2011-02-04 15:29:59.712000    320\n",
                        "ASIANPAINT\n",
                        "     year                        Date    High\n",
                        "0  2012.0  2012-01-13 15:29:59.712000  279.83\n",
                        "1  2013.0  2012-01-20 15:29:59.712000   277.9\n",
                        "2  2014.0  2012-01-27 15:29:59.712000   294.9\n",
                        "3  2015.0  2012-02-03 15:29:59.712000     304\n",
                        "4  2016.0  2012-02-10 15:29:59.712000   312.8\n",
                        "BANKBARODA\n",
                        "     year                        Date    High\n",
                        "0  2012.0  2012-01-13 15:29:59.712000  147.76\n",
                        "1  2013.0  2012-01-20 15:29:59.712000     157\n",
                        "2  2014.0  2012-01-27 15:29:59.712000     166\n",
                        "3  2015.0  2012-02-03 15:29:59.712000   153.8\n",
                        "4  2016.0  2012-02-10 15:29:59.712000  166.05\n",
                        "LUPIN\n",
                        "     year                        Date    High\n",
                        "0  2012.0  2012-01-13 15:29:59.712000     445\n",
                        "1  2013.0  2012-01-20 15:29:59.712000  447.25\n",
                        "2  2014.0  2012-01-27 15:29:59.712000  468.95\n",
                        "3  2015.0  2012-02-03 15:29:59.712000     485\n",
                        "4  2016.0  2012-02-10 15:29:59.712000   499.6\n",
                        "ULTRACEMCO\n",
                        "     year                        Date    High\n",
                        "0  2012.0  2012-01-13 15:29:59.712000  1176.9\n",
                        "1  2013.0  2012-01-20 15:29:59.712000  1234.9\n",
                        "2  2014.0  2012-01-27 15:29:59.712000    1280\n",
                        "3  2015.0  2012-02-03 15:29:59.712000    1280\n",
                        "4  2016.0  2012-02-10 15:29:59.712000    1420\n",
                        "INDUSINDBK\n",
                        "     year                        Date    High\n",
                        "0  2013.0  2013-01-04 15:29:59.712000     442\n",
                        "1  2014.0  2013-01-11 15:29:59.712000   444.9\n",
                        "2  2015.0  2013-01-18 15:29:59.712000  444.35\n",
                        "3  2016.0  2013-01-25 15:29:59.712000   433.9\n",
                        "4  2017.0  2013-02-01 15:29:59.712000     443\n",
                        "NMDC\n",
                        "     year                        Date    High\n",
                        "0  2013.0  2013-01-04 15:29:59.712000  170.95\n",
                        "1  2014.0  2013-01-11 15:29:59.712000   166.8\n",
                        "2     NaN  2013-01-18 15:29:59.712000   165.2\n",
                        "3     NaN  2013-01-25 15:29:59.712000   164.5\n",
                        "4     NaN  2013-02-01 15:29:59.712000   161.3\n",
                        "TECHM\n",
                        "     year                        Date    High\n",
                        "0  2014.0  2014-01-03 15:29:59.712000  468.74\n",
                        "1  2015.0  2014-01-10 15:29:59.712000  472.95\n",
                        "2  2016.0  2014-01-17 15:29:59.712000  476.53\n",
                        "3  2017.0  2014-01-24 15:29:59.712000     464\n",
                        "4  2018.0  2014-01-31 15:29:59.712000     450\n",
                        "ADANIPORTS\n",
                        "     year                        Date    High\n",
                        "0  2015.0  2015-01-02 15:29:59.712000   325.8\n",
                        "1  2016.0  2015-01-09 15:29:59.712000   343.1\n",
                        "2  2017.0  2015-01-16 15:29:59.712000   337.3\n",
                        "3  2018.0  2015-01-23 15:29:59.712000  352.75\n",
                        "4  2019.0  2015-01-30 15:29:59.712000     352\n",
                        "BOSCHLTD\n",
                        "     year                        Date     High\n",
                        "0  2015.0  2015-01-02 15:29:59.712000    19815\n",
                        "1  2016.0  2015-01-09 15:29:59.712000    19863\n",
                        "2  2017.0  2015-01-16 15:29:59.712000    21684\n",
                        "3     NaN  2015-01-23 15:29:59.712000  21998.7\n",
                        "4     NaN  2015-01-30 15:29:59.712000    23989\n",
                        "YESBANK\n",
                        "     year                        Date    High\n",
                        "0  2015.0  2015-01-02 15:29:59.712000  159.16\n",
                        "1  2016.0  2015-01-09 15:29:59.712000  160.98\n",
                        "2  2017.0  2015-01-16 15:29:59.712000     165\n",
                        "3  2018.0  2015-01-23 15:29:59.712000  176.35\n",
                        "4  2019.0  2015-01-30 15:29:59.712000     179\n",
                        "AUROPHARMA\n",
                        "     year                        Date    High\n",
                        "0  2016.0  2016-01-08 15:29:59.712000   878.5\n",
                        "1  2017.0  2016-01-15 15:29:59.712000  848.95\n",
                        "2     NaN  2016-01-22 15:29:59.712000     829\n",
                        "3     NaN  2016-01-29 15:29:59.712000     838\n",
                        "4     NaN  2016-02-05 15:29:59.712000   820.5\n",
                        "EICHERMOT\n",
                        "     year                        Date     High\n",
                        "0  2016.0  2016-01-08 15:29:59.712000  1797.49\n",
                        "1  2017.0  2016-01-15 15:29:59.712000     1741\n",
                        "2  2018.0  2016-01-22 15:29:59.712000  1658.31\n",
                        "3  2019.0  2016-01-29 15:29:59.712000  1677.75\n",
                        "4  2020.0  2016-02-05 15:29:59.712000     1845\n",
                        "TATAMTRDVR\n",
                        "     year                    Date    High\n",
                        "0  2016.0 2016-01-08 15:29:59.712  294.80\n",
                        "1     NaN 2016-01-15 15:29:59.712  278.90\n",
                        "2     NaN 2016-01-22 15:29:59.712  268.90\n",
                        "3     NaN 2016-01-29 15:29:59.712  276.30\n",
                        "4     NaN 2016-02-05 15:29:59.712  266.95\n",
                        "BAJFINANCE\n",
                        "     year                        Date     High\n",
                        "0  2017.0  2017-01-06 15:29:59.712000    914.9\n",
                        "1  2018.0  2017-01-13 15:29:59.712000   909.95\n",
                        "2  2019.0  2017-01-20 15:29:59.712000      938\n",
                        "3  2020.0  2017-01-27 15:29:59.712000     1020\n",
                        "4     NaN  2017-02-03 15:29:59.712000  1083.95\n",
                        "IBULHSGFIN\n",
                        "     year                        Date    High\n",
                        "0  2017.0  2017-01-06 15:29:59.712000     684\n",
                        "1  2018.0  2017-01-13 15:29:59.712000   752.5\n",
                        "2     NaN  2017-01-20 15:29:59.712000     780\n",
                        "3     NaN  2017-01-27 15:29:59.712000  769.75\n",
                        "4     NaN  2017-02-03 15:29:59.712000   803.9\n",
                        "IOC\n",
                        "     year                        Date    High\n",
                        "0  2017.0  2017-01-06 15:29:59.712000   177.6\n",
                        "1  2018.0  2017-01-13 15:29:59.712000     180\n",
                        "2  2019.0  2017-01-20 15:29:59.712000   180.3\n",
                        "3  2020.0  2017-01-27 15:29:59.712000  196.25\n",
                        "4     NaN  2017-02-03 15:29:59.712000  195.38\n",
                        "UPL\n",
                        "     year                        Date    High\n",
                        "0  2017.0  2017-01-06 15:29:59.712000   451.8\n",
                        "1  2018.0  2017-01-13 15:29:59.712000  464.63\n",
                        "2  2019.0  2017-01-20 15:29:59.712000  498.33\n",
                        "3  2020.0  2017-01-27 15:29:59.712000     503\n",
                        "4     NaN  2017-02-03 15:29:59.712000   501.1\n",
                        "BAJAJFINSV\n",
                        "     year                        Date     High\n",
                        "0  2018.0  2018-01-05 15:29:59.712000  5308.75\n",
                        "1  2019.0  2018-01-12 15:29:59.712000   5272.6\n",
                        "2  2020.0  2018-01-19 15:29:59.712000   5105.2\n",
                        "3     NaN  2018-01-25 15:29:59.712000     5089\n",
                        "4     NaN  2018-02-02 15:29:59.712000   5148.1\n",
                        "JSWSTEEL\n",
                        "     year                        Date    High\n",
                        "0  2018.0  2018-01-05 15:29:59.712000   289.9\n",
                        "1  2019.0  2018-01-12 15:29:59.712000  289.75\n",
                        "2  2020.0  2018-01-19 15:29:59.712000   292.9\n",
                        "3     NaN  2018-01-25 15:29:59.712000   299.3\n",
                        "4     NaN  2018-02-02 15:29:59.712000  314.35\n",
                        "TITAN\n",
                        "     year                        Date    High\n",
                        "0  2018.0  2018-01-05 15:29:59.712000  913.95\n",
                        "1  2019.0  2018-01-12 15:29:59.712000   938.5\n",
                        "2  2020.0  2018-01-19 15:29:59.712000   927.5\n",
                        "3     NaN  2018-01-25 15:29:59.712000   914.7\n",
                        "4     NaN  2018-02-02 15:29:59.712000   911.6\n",
                        "NESTLEIND\n",
                        "     year                        Date     High\n",
                        "0  2019.0  2019-01-04 15:29:59.712000    11499\n",
                        "1  2020.0  2019-01-11 15:29:59.712000    11458\n",
                        "2     NaN  2019-01-18 15:29:59.712000  11385.7\n",
                        "3     NaN  2019-01-25 15:29:59.712000    11517\n",
                        "4     NaN  2019-02-01 15:29:59.712000    11622\n",
                        "SHREECEM\n",
                        "     year                    Date      High\n",
                        "0  2020.0 2020-01-03 15:29:59.712  21398.95\n",
                        "1     NaN 2020-01-10 15:29:59.712  23409.50\n",
                        "2     NaN 2020-01-17 15:29:59.712  24263.05\n",
                        "3     NaN 2020-01-24 15:29:59.712  23508.80\n",
                        "4     NaN 2020-02-01 16:59:59.712  23990.00\n"
                    ]
                }
            ],
            "metadata": {}
        },
        {
            "cell_type": "code",
            "execution_count": null,
            "source": [],
            "outputs": [],
            "metadata": {}
        }
    ],
    "metadata": {
        "orig_nbformat": 4,
        "language_info": {
            "name": "python",
            "version": "3.7.3",
            "mimetype": "text/x-python",
            "codemirror_mode": {
                "name": "ipython",
                "version": 3
            },
            "pygments_lexer": "ipython3",
            "nbconvert_exporter": "python",
            "file_extension": ".py"
        },
        "kernelspec": {
            "name": "python3",
            "display_name": "Python 3.7.3 64-bit ('base': conda)"
        },
        "interpreter": {
            "hash": "cc5f70855ac006f3de45a3cc3b9e7d8d53845e50458809cb162b0174266dec97"
        }
    },
    "nbformat": 4,
    "nbformat_minor": 2
}