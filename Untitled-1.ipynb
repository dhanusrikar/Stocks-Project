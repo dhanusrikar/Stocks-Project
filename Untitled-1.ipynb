{
    "cells": [
        {
            "cell_type": "code",
            "execution_count": 2,
            "source": [
                "print('hello')"
            ],
            "outputs": [
                {
                    "output_type": "stream",
                    "name": "stdout",
                    "text": [
                        "hello\n"
                    ]
                }
            ],
            "metadata": {}
        },
        {
            "cell_type": "code",
            "execution_count": 3,
            "source": [
                "import requests\r\n",
                "from bs4 import BeautifulSoup"
            ],
            "outputs": [],
            "metadata": {}
        },
        {
            "cell_type": "code",
            "execution_count": 4,
            "source": [
                "import numpy as np\r\n",
                "import pandas as pd\r\n",
                "import json\r\n",
                "import csv\r\n",
                "from google.oauth2 import service_account\r\n",
                "import pygsheets"
            ],
            "outputs": [],
            "metadata": {}
        },
        {
            "cell_type": "code",
            "execution_count": 6,
            "source": [
                "import gspread\r\n",
                "from oauth2client.service_account import ServiceAccountCredentials\r\n",
                "scope = [\"https://www.googleapis.com/auth/drive\", \"https://spreadsheets.google.com/feeds\"]\r\n",
                "credentials = ServiceAccountCredentials.from_json_keyfile_name('D:\\studies\\stocks project\\Stocks-Project\\service.json', scope)\r\n",
                "gc = gspread.authorize(credentials)"
            ],
            "outputs": [],
            "metadata": {}
        },
        {
            "cell_type": "code",
            "execution_count": 7,
            "source": [
                "wb = gc.open('StocksProject')\r\n",
                "worksheet = wb.worksheet('2000')"
            ],
            "outputs": [],
            "metadata": {}
        },
        {
            "cell_type": "code",
            "execution_count": null,
            "source": [
                "# company_name = worksheet.col_values(2)\r\n",
                "company_name = [x for x in nifty_1995['Company Name 1']]\r\n",
                "goog = \"https://www.google.com/search?q=\"\r\n",
                "list_company = []\r\n",
                "for i in company_name:\r\n",
                "    print(i)\r\n",
                "    cell = worksheet.find(i)\r\n",
                "    # if(cell.row <21):\r\n",
                "    #     continue\r\n",
                "    # print(cell.value, \" \", cell.row, \" \", cell.col)\r\n",
                "    s = \"\"\r\n",
                "    for x in i:\r\n",
                "        if(x == \" \" or x==\".\"):\r\n",
                "            s += \"+\"\r\n",
                "        else:\r\n",
                "            s += x\r\n",
                "    s = s + \"+nse\"\r\n",
                "    list_value = []\r\n",
                "    list_value.append(goog+s)\r\n",
                "    list_value.append(cell.row)\r\n",
                "    list_value.append(i)\r\n",
                "    list_company.append(list_value)"
            ],
            "outputs": [],
            "metadata": {}
        },
        {
            "cell_type": "code",
            "execution_count": null,
            "source": [],
            "outputs": [],
            "metadata": {}
        },
        {
            "cell_type": "code",
            "execution_count": null,
            "source": [
                "for i in list_company:\r\n",
                "    print(i[1], i[2])"
            ],
            "outputs": [],
            "metadata": {}
        },
        {
            "cell_type": "code",
            "execution_count": null,
            "source": [
                "url = list_company[0][0]\r\n",
                "print(url)\r\n",
                "result = requests.get(url)\r\n",
                "src = result.content\r\n",
                "soup = BeautifulSoup(src, \"html.parser\")\r\n",
                "spans = soup.find_all('span')\r\n",
                "cites = soup.find_all('cite')\r\n",
                "lines = [span.get_text() for span in spans]\r\n",
                "urls = [cite.get_text() for cite in cites]\r\n",
                "for i in urls:\r\n",
                "    if 'icicibank - eq - NSE - National Stock Exchange of India Ltd.https://www1.nseindia.com' in i:\r\n",
                "        print('hi')\r\n",
                "for i in lines:\r\n",
                "    if 'NSE' in i:\r\n",
                "        x = i\r\n",
                "        break\r\n",
                "print(x)"
            ],
            "outputs": [],
            "metadata": {}
        },
        {
            "cell_type": "code",
            "execution_count": 63,
            "source": [
                "def find_symbol(name):\r\n",
                "    s = \"\"\r\n",
                "    for x in name:\r\n",
                "        if(x == \" \" or x==\".\"):\r\n",
                "            s += \"+\"\r\n",
                "        elif(x == '&'):\r\n",
                "            s += \"%26\"\r\n",
                "        else:\r\n",
                "            s += x\r\n",
                "    s = s + \"nse\"\r\n",
                "    found = 0\r\n",
                "    symbol = \"NA\"\r\n",
                "    url = \"https://www.google.com/search?q=\" + s\r\n",
                "    # print(s)\r\n",
                "    result  = requests.get(url)\r\n",
                "    src = result.content\r\n",
                "    soup = BeautifulSoup(src, \"html.parser\")\r\n",
                "    spans = soup.find_all('span')\r\n",
                "    lines = [span.get_text() for span in spans]\r\n",
                "    for i in lines:\r\n",
                "        if '(NSE)' in i:\r\n",
                "            # x = i\r\n",
                "            # print('google: ' + x)\r\n",
                "            symbol = i\r\n",
                "            found = 1\r\n",
                "            break\r\n",
                "    if(found == 1):\r\n",
                "        return symbol\r\n",
                "        \r\n",
                "    if(found == 0):\r\n",
                "        x = soup.find_all('a')\r\n",
                "        for i in x:\r\n",
                "            if('www1.nseindia.com/live_market/dynaContent' in i.attrs['href']):\r\n",
                "                # print('nse')\r\n",
                "                nse_number = x.index(i)\r\n",
                "                li = str(i.attrs['href'])\r\n",
                "                nse_symbol = li[102:li.find('&')]\r\n",
                "                found = 1\r\n",
                "                break\r\n",
                "        \r\n",
                "        for i in x:\r\n",
                "            if('www.moneycontrol.com' in i.attrs['href']):\r\n",
                "                # print('moneycontrol')\r\n",
                "                mc_number = x.index(i)\r\n",
                "                link = str(i.attrs['href'])\r\n",
                "                # print('moneycontrol: ' + li)\r\n",
                "                n = link.find('/', 58) + 1\r\n",
                "                # print(x)\r\n",
                "                cut_link = link[(n):]\r\n",
                "                # print(f)\r\n",
                "                x = cut_link.find('/') + 1\r\n",
                "                y = cut_link.find('&')\r\n",
                "                mc_symbol = cut_link[x:y]\r\n",
                "                found = 1\r\n",
                "                break\r\n",
                "        \r\n",
                "        if found == 1:\r\n",
                "            if(nse_number < mc_number):\r\n",
                "                symbol = nse_symbol\r\n",
                "            else:\r\n",
                "                symbol = mc_symbol\r\n",
                "    if(found == 1):\r\n",
                "        return symbol\r\n",
                "    else:\r\n",
                "        return \"not found\"\r\n",
                "\r\n"
            ],
            "outputs": [],
            "metadata": {}
        },
        {
            "cell_type": "code",
            "execution_count": 64,
            "source": [
                "com = \"Indian Rayon & Industries Ltd.\"\r\n",
                "print(find_symbol(com))"
            ],
            "outputs": [
                {
                    "output_type": "stream",
                    "name": "stdout",
                    "text": [
                        "ABN01\n"
                    ]
                }
            ],
            "metadata": {}
        },
        {
            "cell_type": "code",
            "execution_count": 30,
            "source": [
                "# print(list_company[0][2])\r\n",
                "url = list_company[0][0]\r\n",
                "# print(url)\r\n",
                "for j in list_company:\r\n",
                "    count = 0\r\n",
                "    print(j[2])\r\n",
                "    url = j[0]\r\n",
                "    result = requests.get(url)\r\n",
                "    src = result.content\r\n",
                "    soup = BeautifulSoup(src, \"html.parser\")\r\n",
                "    spans = soup.find_all('span')\r\n",
                "    lines = [span.get_text() for span in spans]\r\n",
                "    for i in lines:\r\n",
                "        if '(NSE)' in i:\r\n",
                "            x = i\r\n",
                "            print('google: ' + x)\r\n",
                "            count = 1\r\n",
                "            break\r\n",
                "\r\n",
                "    if(count == 0):\r\n",
                "        x = soup.find_all('a')\r\n",
                "        for i in x:\r\n",
                "            # f = i.get_text()\r\n",
                "            if('www1.nseindia.com' in i.get_text()):\r\n",
                "                # print(i.attrs['href'])\r\n",
                "                li = str(i.attrs['href'])\r\n",
                "                # print(li)\r\n",
                "                print('nse: ' + li[102:li.find('&')])\r\n",
                "                count = 1\r\n",
                "                break\r\n",
                "    if count == 0:\r\n",
                "        x = soup.find_all('a')\r\n",
                "        for i in x:\r\n",
                "            if('www.moneycontrol.com' in i.get_text()):\r\n",
                "                # print(i.attrs['href'])\r\n",
                "                link = str(i.attrs['href'])\r\n",
                "                # print('moneycontrol: ' + li)\r\n",
                "                n = link.find('/', 58) + 1\r\n",
                "                # print(x)\r\n",
                "                cut_link = link[(x):]\r\n",
                "                # print(f)\r\n",
                "                x = cut_link.find('/') + 1\r\n",
                "                y = cut_link.find('&')\r\n",
                "                print('moneycontrol: ' + cut_link[x:y])\r\n",
                "                # print(li)\r\n",
                "                # print(li[102:li.find('&')])\r\n",
                "                count = 1\r\n",
                "                break\r\n",
                "            \r\n",
                "\r\n",
                "    if count == 0:\r\n",
                "        print('Not found')"
            ],
            "outputs": [
                {
                    "output_type": "error",
                    "ename": "NameError",
                    "evalue": "name 'list_company' is not defined",
                    "traceback": [
                        "\u001b[1;31m---------------------------------------------------------------------------\u001b[0m",
                        "\u001b[1;31mNameError\u001b[0m                                 Traceback (most recent call last)",
                        "\u001b[1;32m<ipython-input-30-64470a611026>\u001b[0m in \u001b[0;36m<module>\u001b[1;34m\u001b[0m\n\u001b[0;32m      1\u001b[0m \u001b[1;31m# print(list_company[0][2])\u001b[0m\u001b[1;33m\u001b[0m\u001b[1;33m\u001b[0m\u001b[1;33m\u001b[0m\u001b[0m\n\u001b[1;32m----> 2\u001b[1;33m \u001b[0murl\u001b[0m \u001b[1;33m=\u001b[0m \u001b[0mlist_company\u001b[0m\u001b[1;33m[\u001b[0m\u001b[1;36m0\u001b[0m\u001b[1;33m]\u001b[0m\u001b[1;33m[\u001b[0m\u001b[1;36m0\u001b[0m\u001b[1;33m]\u001b[0m\u001b[1;33m\u001b[0m\u001b[1;33m\u001b[0m\u001b[0m\n\u001b[0m\u001b[0;32m      3\u001b[0m \u001b[1;31m# print(url)\u001b[0m\u001b[1;33m\u001b[0m\u001b[1;33m\u001b[0m\u001b[1;33m\u001b[0m\u001b[0m\n\u001b[0;32m      4\u001b[0m \u001b[1;32mfor\u001b[0m \u001b[0mj\u001b[0m \u001b[1;32min\u001b[0m \u001b[0mlist_company\u001b[0m\u001b[1;33m:\u001b[0m\u001b[1;33m\u001b[0m\u001b[1;33m\u001b[0m\u001b[0m\n\u001b[0;32m      5\u001b[0m     \u001b[0mcount\u001b[0m \u001b[1;33m=\u001b[0m \u001b[1;36m0\u001b[0m\u001b[1;33m\u001b[0m\u001b[1;33m\u001b[0m\u001b[0m\n",
                        "\u001b[1;31mNameError\u001b[0m: name 'list_company' is not defined"
                    ]
                }
            ],
            "metadata": {}
        },
        {
            "cell_type": "markdown",
            "source": [
                "NSE TEXT    "
            ],
            "metadata": {}
        },
        {
            "cell_type": "code",
            "execution_count": null,
            "source": [
                "li = \"/url?q=https://www1.nseindia.com/live_market/dynaContent/live_watch/get_quote/GetQuote.jsp%3Fsymbol%3D\"\r\n",
                "li2 = \"/url?q=https://www1.nseindia.com/live_market/dynaContent/live_watch/get_quote/GetQuote.jsp%3Fsymbol%3DINDHOTEL&sa=U&ved=2ahUKEwixi8uLs_LxAhXPwjgGHcQqCZUQFjAMegQICRAB&usg=AOvVaw2IuWCUj_xyv3hYInb39Xwy\"\r\n",
                "len(li)\r\n",
                "print(li2[102])\r\n",
                "print(li2.find('&'))\r\n",
                "print(li2[len(li):li2.find('&')])"
            ],
            "outputs": [],
            "metadata": {}
        },
        {
            "cell_type": "code",
            "execution_count": null,
            "source": [
                "Money Control "
            ],
            "outputs": [],
            "metadata": {}
        },
        {
            "cell_type": "code",
            "execution_count": 43,
            "source": [
                "li = '/url?q=https://www.moneycontrol.com/india/stockpricequote/'\r\n",
                "# print(len(li))\r\n",
                "li2 = '/url?q=https://www.moneycontrol.com/india/stockpricequote/fertilisers/indogulffertilizers/IGF02&sa=U&ved=2ahUKEwjI29vvw_PxAhUprZUCHefvDMMQFjAAegQIBhAB&usg=AOvVaw0g11_fLPU0y42Q-NEHxGn_'\r\n",
                "# print(len(li2))\r\n",
                "# print(li2[58:])\r\n",
                "x = li2.find('/', 58) + 1\r\n",
                "# print(x)\r\n",
                "f = li2[(x):]\r\n",
                "# print(f)\r\n",
                "x = f.find('/') + 1\r\n",
                "y = f.find('&')\r\n",
                "print(f[x:y])\r\n"
            ],
            "outputs": [
                {
                    "output_type": "stream",
                    "name": "stdout",
                    "text": [
                        "IGF02\n"
                    ]
                }
            ],
            "metadata": {}
        },
        {
            "cell_type": "code",
            "execution_count": 8,
            "source": [
                "src_excel_file = 'company.xlsx'\r\n",
                "nifty_1995 = pd.read_excel(src_excel_file, sheet_name = '1995', engine = 'openpyxl')\r\n",
                "nifty_changes = pd.read_excel(src_excel_file, sheet_name = 'Changes', engine = 'openpyxl')\r\n",
                "# print(nifty_1995.shape)"
            ],
            "outputs": [],
            "metadata": {}
        },
        {
            "cell_type": "code",
            "execution_count": 10,
            "source": [
                "# nifty_1995 = nifty_1995.drop(columns = ['Company Name'], axis=1)\r\n",
                "# print(nifty_1995['Company Name.1'])\r\n",
                "nifty_1995['Company Name.1'] =  nifty_1995['Company Name.1'].str.lower()\r\n",
                "nifty_1995['Company Name.1'] =  nifty_1995['Company Name.1'].str.strip(' ')\r\n",
                "nifty_1995['Company Name.1'] =  nifty_1995['Company Name.1'].str.strip('.')\r\n",
                "nifty_1995['Company Name.1'] =  nifty_1995['Company Name.1'].str.strip('&')\r\n",
                "# print(nifty_1995.head)\r\n",
                "# print(nifty_1995['Company Name.1'])"
            ],
            "outputs": [],
            "metadata": {}
        },
        {
            "cell_type": "code",
            "execution_count": 11,
            "source": [
                "nifty_changes['Included in Index'] = nifty_changes['Included in Index'].str.lower()\r\n",
                "nifty_changes['Included in Index'] = nifty_changes['Included in Index'].str.strip(' ')\r\n",
                "nifty_changes['Included in Index'] = nifty_changes['Included in Index'].str.strip('.')\r\n",
                "nifty_changes['Excluded from Index'] = nifty_changes['Excluded from Index'].str.lower()\r\n",
                "nifty_changes['Excluded from Index'] = nifty_changes['Excluded from Index'].str.strip()\r\n",
                "nifty_changes['Excluded from Index'] = nifty_changes['Excluded from Index'].str.strip('.')"
            ],
            "outputs": [],
            "metadata": {}
        },
        {
            "cell_type": "code",
            "execution_count": 12,
            "source": [
                "# print(nifty_changes.Year)\r\n",
                "year_list = []\r\n",
                "for i in range(0, len(nifty_changes.Year)):\r\n",
                "    if(not pd.isnull(nifty_changes.Year[i])):\r\n",
                "        # print(nifty_changes.Year[i])\r\n",
                "        year_list.append(nifty_changes.Year[i])\r\n",
                "\r\n",
                "\r\n",
                "print(year_list)\r\n",
                "# for i in nifty_changes['Included in Index']:\r\n",
                "#     print(i)"
            ],
            "outputs": [
                {
                    "output_type": "stream",
                    "name": "stdout",
                    "text": [
                        "[1996.0, 1997.0, 1998.0, 1999.0, 2000.0, 2002.0, 2003.0, 2004.0, 2005.0, 2006.0, 2007.0, 2008.0, 2009.0, 2010.0, 2011.0, 2012.0, 2013.0, 2014.0, 2015.0, 2016.0, 2017.0, 2018.0, 2019.0, 2020.0]\n"
                    ]
                }
            ],
            "metadata": {}
        },
        {
            "cell_type": "code",
            "execution_count": 32,
            "source": [
                "nifty_1995['Company Name.1']"
            ],
            "outputs": [
                {
                    "output_type": "execute_result",
                    "data": {
                        "text/plain": [
                            "0                                ashok leyland ltd\n",
                            "1                               tata power co. ltd\n",
                            "2                                        icici ltd\n",
                            "3                                        i t c ltd\n",
                            "4                                    hdfc bank ltd\n",
                            "5                                 apollo tyres ltd\n",
                            "6                                        scici ltd\n",
                            "7                              state bank of india\n",
                            "8                                    indian hotels\n",
                            "9                                         hdfc ltd\n",
                            "10                                     thermax ltd\n",
                            "11                                 tata motors ltd\n",
                            "12    industrial development bank of india limited\n",
                            "13                              ambuja cements ltd\n",
                            "14                           madras refineries ltd\n",
                            "15                                       tata chem\n",
                            "16                              larsen &toubro ltd\n",
                            "17                         hindalco industries ltd\n",
                            "18                                  tata steel ltd\n",
                            "19                                         colgate\n",
                            "20                            reliance capital ltd\n",
                            "21                    dr. reddy’s laboratories ltd\n",
                            "22                     reliance infrastructure ltd\n",
                            "23                          hindustan unilever ltd\n",
                            "24                       hero honda motors limited\n",
                            "25                                         acc ltd\n",
                            "26                                arvind mills ltd\n",
                            "27                                      bajaj auto\n",
                            "28                             castrol (india) ltd\n",
                            "29             chambal fertilizers & chemicals ltd\n",
                            "30                                          grasim\n",
                            "31          great eastern shipping company limited\n",
                            "32                  indian petrochemicals corp.ltd\n",
                            "33                   indian rayon & industries ltd\n",
                            "34                       indo gulf corporation ltd\n",
                            "35     industrial finance corporation of india ltd\n",
                            "36                            kochi refineries ltd\n",
                            "37         mangalore refinery & petrochemicals ltd\n",
                            "38           nagarjuna fertilizers & chemicals ltd\n",
                            "39                                             obc\n",
                            "40                               ponds (india) ltd\n",
                            "41                                    ranbaxy labs\n",
                            "42                         reliance industries ltd\n",
                            "43                          reliance petroleum ltd\n",
                            "44                                        tata tea\n",
                            "45                                  tvs suzuki ltd\n",
                            "Name: Company Name.1, dtype: object"
                        ]
                    },
                    "metadata": {},
                    "execution_count": 32
                }
            ],
            "metadata": {}
        },
        {
            "cell_type": "code",
            "execution_count": 13,
            "source": [
                "data = [x for x in nifty_1995['Company Name.1']]"
            ],
            "outputs": [],
            "metadata": {}
        },
        {
            "cell_type": "code",
            "execution_count": 87,
            "source": [
                "print(data)"
            ],
            "outputs": [
                {
                    "output_type": "stream",
                    "name": "stdout",
                    "text": [
                        "['ashok leyland ltd', 'tata power co. ltd', 'icici ltd', 'i t c ltd', 'hdfc bank ltd', 'apollo tyres ltd', 'scici ltd', 'state bank of india', 'indian hotels', 'hdfc ltd', 'thermax ltd', 'tata motors ltd', 'industrial development bank of india limited', 'ambuja cements ltd', 'madras refineries ltd', 'tata chem', 'larsen &toubro ltd', 'hindalco industries ltd', 'tata steel ltd', 'colgate', 'reliance capital ltd', 'dr. reddy’s laboratories ltd', 'reliance infrastructure ltd', 'hindustan unilever ltd', 'hero honda motors limited', 'acc ltd', 'arvind mills ltd', 'bajaj auto', 'castrol (india) ltd', 'chambal fertilizers & chemicals ltd', 'grasim', 'great eastern shipping company limited', 'indian petrochemicals corp.ltd', 'indian rayon & industries ltd', 'indo gulf corporation ltd', 'industrial finance corporation of india ltd', 'kochi refineries ltd', 'mangalore refinery & petrochemicals ltd', 'nagarjuna fertilizers & chemicals ltd', 'obc', 'ponds (india) ltd', 'ranbaxy labs', 'reliance industries ltd', 'reliance petroleum ltd', 'tata tea', 'tvs suzuki ltd']\n"
                    ]
                }
            ],
            "metadata": {}
        },
        {
            "cell_type": "code",
            "execution_count": null,
            "source": [
                "count = -1\r\n",
                "# print(year_list[count])\r\n",
                "dfs = []\r\n",
                "data = [x for x in nifty_1995['Company Name.1']]\r\n",
                "# dfs.append(data)\r\n",
                "for i in range(0, len(nifty_changes['Included in Index'])):\r\n",
                "    included_company = nifty_changes['Included in Index'][i]\r\n",
                "    excluded_company = nifty_changes['Excluded from Index'][i]\r\n",
                "    if(pd.isnull(included_company) and pd.isnull(excluded_company)):\r\n",
                "        count += 1\r\n",
                "        dfs.append(data)\r\n",
                "        print(dfs[count])\r\n",
                "        print(len(dfs[count]))\r\n",
                "        print(count)\r\n",
                "        # data = []\r\n",
                "        data = dfs[count]\r\n",
                "    else:\r\n",
                "        # print(year_list[count], \"\\t\",nifty_changes['Included in Index'][i])\r\n",
                "        # nifty_changes.Year[i] = year_list[count]\r\n",
                "        data.append(included_company)\r\n",
                "        if excluded_company in data:\r\n",
                "            # print(excluded_company)\r\n",
                "            data.remove(excluded_company)\r\n",
                "        "
            ],
            "outputs": [],
            "metadata": {}
        },
        {
            "cell_type": "code",
            "execution_count": null,
            "source": [],
            "outputs": [],
            "metadata": {}
        },
        {
            "cell_type": "code",
            "execution_count": null,
            "source": [
                "print(dfs)\r\n",
                "# # print(len(dfs))\r\n",
                "# # print(len(year_list))\r\n",
                "# for i in dfs:\r\n",
                "#     print(len(i))\r\n",
                "#     print(i)\r\n",
                "#     # for f in i:\r\n",
                "#     #     print(f)\r\n",
                "#     # print(\" \")"
            ],
            "outputs": [],
            "metadata": {}
        },
        {
            "cell_type": "code",
            "execution_count": null,
            "source": [],
            "outputs": [],
            "metadata": {}
        }
    ],
    "metadata": {
        "orig_nbformat": 4,
        "language_info": {
            "name": "python",
            "version": "3.7.3",
            "mimetype": "text/x-python",
            "codemirror_mode": {
                "name": "ipython",
                "version": 3
            },
            "pygments_lexer": "ipython3",
            "nbconvert_exporter": "python",
            "file_extension": ".py"
        },
        "kernelspec": {
            "name": "python3",
            "display_name": "Python 3.7.3 64-bit ('base': conda)"
        },
        "interpreter": {
            "hash": "cc5f70855ac006f3de45a3cc3b9e7d8d53845e50458809cb162b0174266dec97"
        }
    },
    "nbformat": 4,
    "nbformat_minor": 2
}