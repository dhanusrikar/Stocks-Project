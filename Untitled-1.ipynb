{
    "cells": [
        {
            "cell_type": "code",
            "execution_count": 13,
            "source": [
                "print('hello')"
            ],
            "outputs": [
                {
                    "output_type": "stream",
                    "name": "stdout",
                    "text": [
                        "hello\n"
                    ]
                }
            ],
            "metadata": {}
        },
        {
            "cell_type": "code",
            "execution_count": 14,
            "source": [
                "import requests\r\n",
                "from bs4 import BeautifulSoup"
            ],
            "outputs": [],
            "metadata": {}
        },
        {
            "cell_type": "code",
            "execution_count": 15,
            "source": [
                "import numpy as np\r\n",
                "import pandas as pd\r\n",
                "import json\r\n",
                "import csv\r\n",
                "from google.oauth2 import service_account\r\n",
                "import pygsheets\r\n",
                "import openpyxl"
            ],
            "outputs": [],
            "metadata": {}
        },
        {
            "cell_type": "markdown",
            "source": [
                "To access google sheets, do the following:\r\n",
                "1. Run the code below \r\n",
                "2. From your service.json file copy the client email and share the sheet with it\r\n",
                "3. workbook = gc.open('file name')\r\n"
            ],
            "metadata": {}
        },
        {
            "cell_type": "code",
            "execution_count": 16,
            "source": [
                "import gspread\r\n",
                "from oauth2client.service_account import ServiceAccountCredentials\r\n",
                "scope = [\"https://www.googleapis.com/auth/drive\", \"https://spreadsheets.google.com/feeds\"]\r\n",
                "credentials = ServiceAccountCredentials.from_json_keyfile_name('D:\\studies\\stocks project\\service.json', scope)\r\n",
                "gc = gspread.authorize(credentials)"
            ],
            "outputs": [],
            "metadata": {}
        },
        {
            "cell_type": "markdown",
            "source": [
                "Web Scraping"
            ],
            "metadata": {}
        },
        {
            "cell_type": "code",
            "execution_count": 4,
            "source": [
                "def hasNumbers(inputString):\r\n",
                "    return any(char.isdigit() for char in inputString)"
            ],
            "outputs": [],
            "metadata": {}
        },
        {
            "cell_type": "code",
            "execution_count": 5,
            "source": [
                "def find_symbol(name):\r\n",
                "    s = \"\"\r\n",
                "    for x in name:\r\n",
                "        if(x == \" \" or x==\".\"):\r\n",
                "            s += \"+\"\r\n",
                "        elif(x == '&'):\r\n",
                "            s += \"%26\"\r\n",
                "        else:\r\n",
                "            s += x\r\n",
                "    if(s[-1] == '+'):\r\n",
                "        s = s + \"nse\"\r\n",
                "    else:\r\n",
                "        s = s + \"+nse\"\r\n",
                "    found = 0\r\n",
                "    symbol = \"NA\"\r\n",
                "    url = \"https://www.google.com/search?q=\" + s\r\n",
                "    # print(s)\r\n",
                "    result  = requests.get(url)\r\n",
                "    src = result.content\r\n",
                "    soup = BeautifulSoup(src, \"html.parser\")\r\n",
                "    spans = soup.find_all('span')\r\n",
                "    lines = [span.get_text() for span in spans]\r\n",
                "    for i in lines:\r\n",
                "        if '(NSE)' in i:\r\n",
                "            symbol = i\r\n",
                "            found = 1\r\n",
                "            break\r\n",
                "    if(found == 1):\r\n",
                "        return symbol[:len(symbol)-5].upper()\r\n",
                "        \r\n",
                "    if(found == 0):\r\n",
                "        x = soup.find_all('a')\r\n",
                "        mc_number = 111111\r\n",
                "        nse_number = 111111\r\n",
                "        mc_symbol = \"not found\"\r\n",
                "        nse_symbol = \"not found\"\r\n",
                "        for i in x:\r\n",
                "            if('www1.nseindia.com/live_market/dynaContent' in i.attrs['href']):\r\n",
                "                nse_number = x.index(i)\r\n",
                "                li = str(i.attrs['href'])\r\n",
                "                nse_symbol = li[102:li.find('&')]\r\n",
                "                found = 1\r\n",
                "                break\r\n",
                "        \r\n",
                "        for i in x:\r\n",
                "            if('www.moneycontrol.com' in i.attrs['href']):\r\n",
                "                mc_number = x.index(i)\r\n",
                "                link = str(i.attrs['href'])\r\n",
                "                n = link.find('/', 58) + 1\r\n",
                "                cut_link = link[(n):]\r\n",
                "                x = cut_link.find('/') + 1\r\n",
                "                y = cut_link.find('&')\r\n",
                "                mc_symbol = cut_link[x:y]\r\n",
                "                if(hasNumbers(mc_symbol)):\r\n",
                "                    ur = link[:link.find('&')]\r\n",
                "                    # print(ur)\r\n",
                "                    ur = ur[:len(ur)-len(mc_symbol)-1] [::-1]\r\n",
                "                    # print(ur)\r\n",
                "                    sym = ur.find('/')\r\n",
                "                    mc_symbol = ur[:sym] [::-1]\r\n",
                "                    # print (mc_symbol)\r\n",
                "                found = 1\r\n",
                "                break\r\n",
                "        \r\n",
                "        if found == 1:\r\n",
                "            if(nse_number < mc_number):\r\n",
                "                symbol = nse_symbol\r\n",
                "            else:\r\n",
                "                symbol = mc_symbol\r\n",
                "    if(found == 1):\r\n",
                "        return symbol.upper()\r\n",
                "    else:\r\n",
                "        return \"not found\"\r\n",
                "\r\n"
            ],
            "outputs": [],
            "metadata": {}
        },
        {
            "cell_type": "markdown",
            "source": [
                "testing function"
            ],
            "metadata": {}
        },
        {
            "cell_type": "code",
            "execution_count": null,
            "source": [
                "com = 'Bharti Tele-Ventures Ltd'\r\n",
                "# print(com[:len(com)-5])\r\n",
                "print(find_symbol(com))"
            ],
            "outputs": [],
            "metadata": {}
        },
        {
            "cell_type": "code",
            "execution_count": 18,
            "source": [
                "src_excel_file = 'company_original.xlsx'\r\n",
                "nifty_1995 = pd.read_excel(src_excel_file, sheet_name = '1995', engine = 'openpyxl')\r\n",
                "nifty_changes = pd.read_excel(src_excel_file, sheet_name = 'Changes', engine = 'openpyxl')\r\n",
                "# print(nifty_1995.shape)"
            ],
            "outputs": [],
            "metadata": {}
        },
        {
            "cell_type": "markdown",
            "source": [
                "SYMBOLS OF NIFTY 50 - 1995"
            ],
            "metadata": {}
        },
        {
            "cell_type": "code",
            "execution_count": 7,
            "source": [
                "for i in range(0, len(nifty_1995['Company Name'])):\r\n",
                "    nifty_1995.iloc[i, 1] = find_symbol(nifty_1995.iloc[i,0])\r\n",
                "    # print(nifty_1995['Company Name'][i], \"\\t\\t\\t\", nifty_1995.iloc[i, 1])\r\n",
                "# print(nifty_1995.iloc[1,0])"
            ],
            "outputs": [],
            "metadata": {}
        },
        {
            "cell_type": "markdown",
            "source": [
                "SYMBOLS OF INCLUDED INDECIES"
            ],
            "metadata": {}
        },
        {
            "cell_type": "code",
            "execution_count": 8,
            "source": [
                "for i in range(0, len(nifty_changes['Included in Index'])):\r\n",
                "    if(pd.isnull(nifty_changes.iloc[i,1])):\r\n",
                "        continue\r\n",
                "    nifty_changes.iloc[i, 2] = find_symbol(nifty_changes.iloc[i,1])\r\n",
                "#     print(nifty_changes['Included in Index'][i], \"\\t\\t\\t\", nifty_changes.iloc[i, 2])"
            ],
            "outputs": [],
            "metadata": {}
        },
        {
            "cell_type": "markdown",
            "source": [
                "SYMBOLS OF EXCLUDED INDECIES"
            ],
            "metadata": {}
        },
        {
            "cell_type": "code",
            "execution_count": 9,
            "source": [
                "for i in range(0, len(nifty_changes['Excluded from Index'])):\r\n",
                "    if(pd.isnull(nifty_changes.iloc[i,3])):\r\n",
                "        continue\r\n",
                "    nifty_changes.iloc[i, 4] = find_symbol(nifty_changes.iloc[i,3])\r\n",
                "#     print(nifty_changes['Excluded from Index'][i], \"\\t\\t\\t\", nifty_changes.iloc[i, 4])"
            ],
            "outputs": [],
            "metadata": {}
        },
        {
            "cell_type": "markdown",
            "source": [
                "SHEET NAMES WITH DATA FRAMES"
            ],
            "metadata": {}
        },
        {
            "cell_type": "code",
            "execution_count": 10,
            "source": [
                "dfs = {'changes' : nifty_changes, '1995': nifty_1995}"
            ],
            "outputs": [],
            "metadata": {}
        },
        {
            "cell_type": "markdown",
            "source": [
                "STORING DATAFRAMES"
            ],
            "metadata": {}
        },
        {
            "cell_type": "code",
            "execution_count": 18,
            "source": [
                "writer = pd.ExcelWriter('test2.xlsx', engine='openpyxl')\r\n",
                "# print(nifty_1995)\r\n",
                "for i in dfs.keys():\r\n",
                "    dfs[i].to_excel(writer, sheet_name = i, index = False)\r\n",
                "writer.save()\r\n",
                "# nifty_1995.to_excel(writer, sheet_name = '1995')"
            ],
            "outputs": [],
            "metadata": {}
        },
        {
            "cell_type": "markdown",
            "source": [
                "List of all years"
            ],
            "metadata": {}
        },
        {
            "cell_type": "code",
            "execution_count": null,
            "source": [
                "year_list = []\r\n",
                "for i in range(0, len(nifty_changes.Year)):\r\n",
                "    if(not pd.isnull(nifty_changes.Year[i])):\r\n",
                "        x = int(nifty_changes.Year[i])\r\n",
                "        year_list.append(str(x))\r\n",
                "print(year_list)"
            ],
            "outputs": [],
            "metadata": {}
        },
        {
            "cell_type": "markdown",
            "source": [
                "Testing"
            ],
            "metadata": {}
        },
        {
            "cell_type": "code",
            "execution_count": null,
            "source": [
                "# dfs['changes'].head()\r\n",
                "for i in dfs.keys():\r\n",
                "    print(i)"
            ],
            "outputs": [],
            "metadata": {}
        },
        {
            "cell_type": "code",
            "execution_count": null,
            "source": [
                "# nifty_changes.head()\r\n",
                "f = dfs['2019'].copy()\r\n",
                "f"
            ],
            "outputs": [],
            "metadata": {}
        },
        {
            "cell_type": "code",
            "execution_count": 186,
            "source": [
                "company_list_name = [str(x) for x in data['Company Name']]\r\n",
                "company_list_symbol = [str(x) for x in data.symbol]\r\n",
                "# print(company_list_name[1])\r\n",
                "print(len(company_list_name), len(company_list_symbol))"
            ],
            "outputs": [
                {
                    "output_type": "stream",
                    "name": "stdout",
                    "text": [
                        "46 46\n"
                    ]
                }
            ],
            "metadata": {}
        },
        {
            "cell_type": "markdown",
            "source": [
                "Creating dataframes"
            ],
            "metadata": {}
        },
        {
            "cell_type": "code",
            "execution_count": null,
            "source": [
                "count = 0\r\n",
                "dfs = {'changes' : nifty_changes, '1995': nifty_1995}\r\n",
                "data = dfs['1995'].copy()\r\n",
                "company_list_name = [str(x) for x in data['Company Name']]\r\n",
                "company_list_symbol = [str(x) for x in data.symbol]\r\n",
                "print(len(company_list_name), len(company_list_symbol))\r\n",
                "for i in range(0, len(nifty_changes.Year)):\r\n",
                "    if (i == 0):\r\n",
                "        print('skipped')\r\n",
                "        continue\r\n",
                "    in_sy = nifty_changes['Symbol_In'][i]\r\n",
                "    ex_sy = nifty_changes['Symbol_Ex'][i]\r\n",
                "    if(pd.isnull(in_sy) and pd.isnull(ex_sy)):\r\n",
                "        print(len(company_list_name), len(company_list_symbol))\r\n",
                "        \r\n",
                "        dfs[year_list[count]] = pd.DataFrame({\r\n",
                "            'Company Name' : company_list_name,\r\n",
                "            'symbol' : company_list_symbol\r\n",
                "        })\r\n",
                "        count = count + 1\r\n",
                "    else:\r\n",
                "        # print(ex_sy, in_sy)\r\n",
                "        if(ex_sy in company_list_symbol):\r\n",
                "            id = company_list_symbol.index(ex_sy)\r\n",
                "            print(id, company_list_symbol[id], company_list_name[id])\r\n",
                "            company_list_symbol.remove(ex_sy)\r\n",
                "            company_list_name.remove(company_list_name[id])\r\n",
                "        company_list_symbol.append(in_sy)\r\n",
                "        company_list_name.append(nifty_changes['Included in Index'][i])\r\n",
                "        # add company\r\n",
                "        # if in excluded remove it\r\n",
                "dfs[year_list[count]] = pd.DataFrame({\r\n",
                "            'Company Name' : company_list_name,\r\n",
                "            'symbol' : company_list_symbol\r\n",
                "        })"
            ],
            "outputs": [],
            "metadata": {}
        },
        {
            "cell_type": "markdown",
            "source": [
                "Excel Formulas using python"
            ],
            "metadata": {}
        },
        {
            "cell_type": "code",
            "execution_count": 19,
            "source": [
                "import openpyxl\r\n",
                "wb = openpyxl.load_workbook(\"D:\\studies\\stocks project\\Stocks-Project\\\\test2.xlsx\")"
            ],
            "outputs": [],
            "metadata": {}
        },
        {
            "cell_type": "code",
            "execution_count": null,
            "source": [
                "print(wb.sheetnames)\r\n"
            ],
            "outputs": [],
            "metadata": {}
        },
        {
            "cell_type": "markdown",
            "source": [
                "ADDING FORMULAS "
            ],
            "metadata": {}
        },
        {
            "cell_type": "code",
            "execution_count": null,
            "source": [
                "for i in year_list:\r\n",
                "    sheet = wb[i]\r\n",
                "    count = 0\r\n",
                "    for x in sheet.rows:\r\n",
                "        count += 1\r\n",
                "        if(count == 1):\r\n",
                "            continue\r\n",
                "        # LTP\r\n",
                "        ltp = \"=GOOGLEFINANCE(\"+'\"NSE:\"&B'+str(count)+',\"price\")'\r\n",
                "        # price that day\r\n",
                "        date_price = \"=max(index(GOOGLEFINANCE(\" + '\"NSE:\"&B' + str(count) + ',\"open\", D' + str(count) + \"),,2))\"\r\n",
                "        # print(date_price)\r\n",
                "        sheet['C'+str(count)] = ltp\r\n",
                "        sheet['D'+str(count)] = \"=DATE(\" + i + \",1,1)\"\r\n",
                "        sheet['E'+str(count)] = date_price"
            ],
            "outputs": [],
            "metadata": {}
        },
        {
            "cell_type": "markdown",
            "source": [
                "Adding headings to columns"
            ],
            "metadata": {}
        },
        {
            "cell_type": "code",
            "execution_count": 20,
            "source": [
                "import openpyxl\r\n",
                "wb = openpyxl.load_workbook(\"D:\\studies\\stocks project\\Stocks-Project\\\\testing_wtih_formula_2_pqoeitqw.xlsx\")\r\n",
                "for i in year_list:\r\n",
                "    sheet = wb[i]\r\n",
                "    count = 0\r\n",
                "    sheet['C1'] = 'LTP'\r\n",
                "    sheet['D1'] = 'That date'\r\n",
                "    sheet['E1'] = 'Price'\r\n",
                "\r\n",
                "wb.save(\"aise_hi_check.xlsx\")"
            ],
            "outputs": [],
            "metadata": {}
        },
        {
            "cell_type": "markdown",
            "source": [
                "saving the file"
            ],
            "metadata": {}
        },
        {
            "cell_type": "code",
            "execution_count": 22,
            "source": [
                "wb.save(\"testing_wtih_formula_2_pqoeitqw.xlsx\")"
            ],
            "outputs": [],
            "metadata": {}
        },
        {
            "cell_type": "markdown",
            "source": [
                "testing the formula"
            ],
            "metadata": {}
        },
        {
            "cell_type": "code",
            "execution_count": null,
            "source": [
                "count = 5\r\n",
                "ltp = \"=GOOGLEFINANCE(\"+'\"NSE:\"&B'+str(count)+',\"price\")'\r\n",
                "print(ltp)\r\n",
                "date_price = \"=max(index(GOOGLEFINANCE(\" + '\"NSE\"&B'+str(count)+ ',\"open\",D' + str(count) + \"),,2))\"\r\n",
                "date_price1 = \"=max(index(GOOGLEFINANCE(\" + '\"NSE\":&B' + str(count) + ',\"open\", D' + str(count) + \"),,2))\"\r\n",
                "print(date_price)\r\n",
                "print(date_price1)\r\n"
            ],
            "outputs": [],
            "metadata": {}
        },
        {
            "cell_type": "markdown",
            "source": [
                "Getting the records from google sheets and saving them in pandas DF"
            ],
            "metadata": {}
        },
        {
            "cell_type": "code",
            "execution_count": 21,
            "source": [
                "wb = gc.open('aise_hi_check')\r\n",
                "# worksheet = wb.worksheet('2000')\r\n",
                "new_dfs = {}\r\n",
                "for i in wb.worksheets():\r\n",
                "    worksheet = wb.worksheet(str(i.title))\r\n",
                "    new_dfs[str(i.title)] = pd.DataFrame(worksheet.get_all_records())"
            ],
            "outputs": [],
            "metadata": {}
        },
        {
            "cell_type": "markdown",
            "source": [
                "Removing rows(companies) with price as \"n/a\""
            ],
            "metadata": {}
        },
        {
            "cell_type": "code",
            "execution_count": 45,
            "source": [
                "for i in year_list:\r\n",
                "    f = new_dfs[str(i)]\r\n",
                "    x = f[f['Price'] != \"#N/A\"]\r\n",
                "    new_dfs[str(i)] = x"
            ],
            "outputs": [],
            "metadata": {}
        },
        {
            "cell_type": "markdown",
            "source": [
                "REMOVED EMPTY DATAFRAMES"
            ],
            "metadata": {}
        },
        {
            "cell_type": "code",
            "execution_count": 53,
            "source": [
                "list_l = []\r\n",
                "for i in new_dfs.keys():\r\n",
                "    if new_dfs[i].shape[0] == 0:\r\n",
                "        list_l.append(i)        \r\n",
                "\r\n",
                "for i in list_l:\r\n",
                "    del new_dfs[i]"
            ],
            "outputs": [],
            "metadata": {}
        },
        {
            "cell_type": "markdown",
            "source": [
                "Save the new excel file with #N/A removed"
            ],
            "metadata": {}
        },
        {
            "cell_type": "code",
            "execution_count": 56,
            "source": [
                "writer = pd.ExcelWriter('dropped_NA.xlsx', engine='openpyxl')\r\n",
                "# print(nifty_1995)\r\n",
                "for i in new_dfs.keys():\r\n",
                "    new_dfs[i].to_excel(writer, sheet_name = i, index = False)\r\n",
                "writer.save()"
            ],
            "outputs": [],
            "metadata": {}
        },
        {
            "cell_type": "markdown",
            "source": [
                "Open the new file from google sheets"
            ],
            "metadata": {}
        },
        {
            "cell_type": "code",
            "execution_count": 7,
            "source": [
                "wb = gc.open('dropped_NA')\r\n",
                "# worksheet = wb.worksheet('2000')\r\n",
                "dfs = {}\r\n",
                "for i in wb.worksheets():\r\n",
                "    worksheet = wb.worksheet(str(i.title))\r\n",
                "    dfs[str(i.title)] = pd.DataFrame(worksheet.get_all_records())"
            ],
            "outputs": [],
            "metadata": {}
        },
        {
            "cell_type": "code",
            "execution_count": 77,
            "source": [
                "print(dfs['2009'].head(5))"
            ],
            "outputs": [
                {
                    "output_type": "stream",
                    "name": "stdout",
                    "text": [
                        "          Company Name     symbol      LTP   That date   Price\n",
                        "0  Tata Power Co. Ltd.  TATAPOWER   122.95  01/01/2009   76.12\n",
                        "1           I T C Ltd.        ITC   213.70  01/01/2009   57.50\n",
                        "2       HDFC Bank Ltd.   HDFCBANK  1438.10  01/01/2009  102.00\n",
                        "3  State Bank of India       SBIN   425.40  01/01/2009  131.50\n",
                        "4            HDFC Ltd.       HDFC  2471.60  01/01/2009  305.00\n"
                    ]
                }
            ],
            "metadata": {}
        },
        {
            "cell_type": "markdown",
            "source": [
                "Creating a new excel sheet for company with following things:\r\n",
                "1. company name\r\n",
                "2. company symbol\r\n",
                "3. 52-week high\r\n",
                "4. 10-week low\r\n",
                "5. price"
            ],
            "metadata": {}
        },
        {
            "cell_type": "code",
            "execution_count": 173,
            "source": [
                "companies_dic = {}\r\n",
                "for i in dfs.keys():\r\n",
                "    if i == \"changes\" or i == \"1995\" or i == \"1999\" or i == \"2000\":\r\n",
                "        continue\r\n",
                "    else:\r\n",
                "        for x in dfs[i].symbol:\r\n",
                "            # print(dfs[i]['symbol'].index[dfs[i]['symbol'] == x][0])\r\n",
                "            if x in companies_dic.keys():\r\n",
                "                companies_dic[x]['year'].append(str(i))\r\n",
                "            else:\r\n",
                "                # list_l = []\r\n",
                "                # print(dfs[i]['Company Name'])\r\n",
                "                ind = dfs[i]['symbol'].index[dfs[i]['symbol'] == x][0]\r\n",
                "                companies_dic[x] = {\r\n",
                "                    'name' : dfs[i]['Company Name'][ind],\r\n",
                "                    'symbol' : dfs[i]['symbol'][ind],\r\n",
                "                    'year' : [str(i)],\r\n",
                "                    '52-week-high' : [],\r\n",
                "                    '10-week-low' : [],\r\n",
                "                    'price' : []\r\n",
                "                }"
            ],
            "outputs": [],
            "metadata": {}
        },
        {
            "cell_type": "markdown",
            "source": [
                "get INDEX of df for a specific value in a specific dictionary's column"
            ],
            "metadata": {}
        },
        {
            "cell_type": "code",
            "execution_count": null,
            "source": [
                "ind = dfs[i]['symbol'].index[dfs[i]['symbol'] == x][0]"
            ],
            "outputs": [],
            "metadata": {}
        },
        {
            "cell_type": "markdown",
            "source": [
                "checking all the years the company was listed in nifty 50 and adding them to a list"
            ],
            "metadata": {}
        },
        {
            "cell_type": "markdown",
            "source": [
                "Converting from dictionary to a pandas DF to save it in EXCEL "
            ],
            "metadata": {}
        },
        {
            "cell_type": "code",
            "execution_count": 9,
            "source": [
                "pandas_company_df = {}\r\n",
                "for i in companies_dic.keys():\r\n",
                "    pandas_company_df[i] = pd.DataFrame.from_dict(companies_dic[i])"
            ],
            "outputs": [],
            "metadata": {}
        },
        {
            "cell_type": "markdown",
            "source": [
                "Saving the pandas DF into EXCEL"
            ],
            "metadata": {}
        },
        {
            "cell_type": "code",
            "execution_count": 10,
            "source": [
                "writer = pd.ExcelWriter('company_list.xlsx', engine='openpyxl')\r\n",
                "for i in pandas_company_df.keys():\r\n",
                "    pandas_company_df[i].to_excel(writer, sheet_name= i, index = False)\r\n",
                "writer.save()\r\n",
                "    # print(pandas_company_df[i].head())"
            ],
            "outputs": [],
            "metadata": {}
        },
        {
            "cell_type": "markdown",
            "source": [
                "Reading the previously saved excel (DF) to put formulas into specific cells"
            ],
            "metadata": {}
        },
        {
            "cell_type": "code",
            "execution_count": 76,
            "source": [
                "import openpyxl\r\n",
                "wb = openpyxl.load_workbook(\"D:\\studies\\stocks project\\Stocks-Project\\\\company_list.xlsx\")\r\n",
                "wb2 = openpyxl.load_workbook(\"smaller.xlsx\")\r\n",
                "for i in wb.sheetnames:\r\n",
                "    ws = wb[i]\r\n",
                "    ws2 = wb2[i]\r\n",
                "    # print(ws['A1'])\r\n",
                "    for num in range(1, ws.max_row):\r\n",
                "        year_val = int(ws['A'+str(num+1)].value)\r\n",
                "        init_year = \"DATE(\" + str(year_val) + \",1,1),\"\r\n",
                "        final_year = \"DATE(\" + str(year_val+1) + \",1,1),\"\r\n",
                "        formula = \"=GOOGLEFINANCE(\" + '\"NSE:' + str(i)+ '\", \"high\",' + init_year + final_year + '\"weekly\")'\r\n",
                "        # print('B'+str((275*(num-1))+1))\r\n",
                "\r\n",
                "        # ws['B'+str((55*(num-1))+1)] = formula\r\n",
                "        ws2['F'+str((55*(num-1))+1)] = \"=GOOGLEFINANCE(\" + '\"NSE:' + str(i)+ '\", \"low\",' + init_year + final_year + '\"weekly\")'\r\n",
                "        # print(ws[cell_num].value)\r\n",
                "        # break\r\n",
                "    # break\r\n",
                "    # print(i, ws.max_row)\r\n",
                "wb2.save(\"smaller2.xlsx\")"
            ],
            "outputs": [],
            "metadata": {}
        },
        {
            "cell_type": "code",
            "execution_count": 10,
            "source": [
                "def get_date(date):\r\n",
                "    first_slash = date.find('/')\r\n",
                "    second_slash = date.find('/', first_slash+1)\r\n",
                "    x = date[:date.find('/')]\r\n",
                "    y = date[first_slash+1:second_slash]\r\n",
                "    z = date[second_slash+1:second_slash+5]\r\n",
                "    return [x,y,z]\r\n",
                "\r\n",
                "l = get_date('08/09/2000 ')\r\n",
                "print(l[0], l[1], l[2])\r\n"
            ],
            "outputs": [
                {
                    "output_type": "stream",
                    "name": "stdout",
                    "text": [
                        "08 09 2000\n"
                    ]
                }
            ],
            "metadata": {}
        },
        {
            "cell_type": "code",
            "execution_count": null,
            "source": [
                "file_name = 'downloaded_weekly_company_list_with_formula.xlsx'\r\n",
                "comapany_data_with_prices = {}\r\n",
                "wb = openpyxl.load_workbook(file_name)\r\n",
                "comapany_data_with_prices = {}\r\n",
                "for i in wb.sheetnames:\r\n",
                "    ws = wb[i]\r\n",
                "    df = pd.read_excel(file_name, sheet_name = i, engine = 'openpyxl')\r\n",
                "    ws['A30'] = 100\r\n",
                "    ws['A31'] = 365\r\n",
                "    ws['D1'] = \"52-week-high\"\r\n",
                "    ws['E1'] = \"10-week-low\"\r\n",
                "    # print(df.head(5))\r\n",
                "    # print(df.Date[1])\r\n",
                "    # print(type(comapany_data_with_prices[str(i)]))\r\n",
                "    # break\r\n",
                "    print(df.shape)\r\n",
                "    print(ws.max_row, ws.max_column)\r\n",
                "    count = 0\r\n",
                "    for num in range(2, ws.max_row+1):\r\n",
                "        row = str(num)\r\n",
                "        date = str(df.Date[count])\r\n",
                "        if(not ws['B'+row].value):\r\n",
                "            continue\r\n",
                "        count += 1\r\n",
                "        if(\"Date\" in date):\r\n",
                "            continue\r\n",
                "        year = date[0:4]\r\n",
                "        month = date[5:7]\r\n",
                "        day = date[8:10]\r\n",
                "        nor_date = \"DATE(\" + year + \",\" + month + \",\" + day + \")\"\r\n",
                "        low_date = \"DATE(\" + year + \",\" + month + \",\" + day + \"-A30)\"\r\n",
                "        low = '\"low\",'\r\n",
                "        high = '\"high\",'\r\n",
                "        high_date = \"DATE(\" + year + \",\" + month + \",\" + day + \"-A31)\"\r\n",
                "        max_ = '=max'\r\n",
                "        min_ = '=min'\r\n",
                "        formula_beg = '(index(query(sort(GOOGLEFINANCE(\"NSE:' + str(i) + '\",'\r\n",
                "        formula_end = ',\"WEEKLY\"),1,False),\"select *\",1),,2))'\r\n",
                "        ws['D'+row] = max_ + formula_beg + high + high_date + ',' + nor_date + formula_end\r\n",
                "        ws['E'+row] = min_ + formula_beg + low + low_date + ',' + nor_date + formula_end\r\n",
                "        \r\n",
                "        # print( max_ + formula_beg + high + high_date + ',' + nor_date + formula_end)\r\n",
                "        # print( min_ + formula_beg + low + low_date + ',' + nor_date + formula_end)\r\n",
                "        # ws['D'+row] = \r\n",
                "        # print(date, year, month, day)\r\n",
                "wb.save('smaller.xlsx')"
            ],
            "outputs": [],
            "metadata": {}
        },
        {
            "cell_type": "code",
            "execution_count": 73,
            "source": [
                "# x = 52\r\n",
                "# print(df.Date[x], df.High[x])\r\n",
                "# print(not None)\r\n",
                "# print(not ws['B54'].value)\r\n",
                "print(df.head(10))"
            ],
            "outputs": [
                {
                    "output_type": "stream",
                    "name": "stdout",
                    "text": [
                        "     year                    Date      High\n",
                        "0  2020.0 2020-01-03 15:29:59.712  21398.95\n",
                        "1     NaN 2020-01-10 15:29:59.712  23409.50\n",
                        "2     NaN 2020-01-17 15:29:59.712  24263.05\n",
                        "3     NaN 2020-01-24 15:29:59.712  23508.80\n",
                        "4     NaN 2020-02-01 16:59:59.712  23990.00\n",
                        "5     NaN 2020-02-07 15:29:59.712  25355.00\n",
                        "6     NaN 2020-02-14 15:29:59.712  25240.45\n",
                        "7     NaN 2020-02-20 15:29:59.712  25199.90\n",
                        "8     NaN 2020-02-28 15:29:59.712  24576.10\n",
                        "9     NaN 2020-03-06 15:29:59.712  23896.50\n"
                    ]
                }
            ],
            "metadata": {}
        },
        {
            "cell_type": "code",
            "execution_count": null,
            "source": [
                "import openpyxl\r\n",
                "wb = openpyxl.load_workbook(\"D:\\studies\\stocks project\\Stocks-Project\\\\company_list.xlsx\")\r\n",
                "for i in wb.sheetnames:\r\n",
                "    ws = wb[i]\r\n",
                "    ws['D1'] = \"Day\"\r\n",
                "    ws['E1'] = \"Month\"\r\n",
                "    ws['F1'] = \"Year\"\r\n",
                "    ws['G1'] = \"LowWeek\"\r\n",
                "    ws['H1'] = \"HighWeek\"\r\n",
                "    ws['I1'] = \"10_low\"\r\n",
                "    ws['J1'] = \"52_high\"\r\n",
                "    # print(ws['A1'])\r\n",
                "    for num in range(1, ws.max_row):        \r\n",
                "        year_val = int(ws['A'+str(num+1)].value)\r\n",
                "        init_year = \"DATE(\" + str(year_val) + \",1,1),\"\r\n",
                "        final_year = \"DATE(\" + str(year_val+1) + \",1,1),\"\r\n",
                "        formula = \"=GOOGLEFINANCE(\" + '\"NSE:' + str(i)+ '\", \"high\",' + init_year + final_year + '\"weekly\")'\r\n",
                "        ws['B'+str((55*(num-1))+1)] = formula\r\n",
                "            \r\n",
                "\r\n",
                "    for num in range(2, (55*ws.max_row) + 1):\r\n",
                "        row = str(num)\r\n",
                "        ws['D'+row] = \"=LEFT(B\" + row + \",LEN(B\" + row + \")-17)\"\r\n",
                "        ws['E'+row] = \"=MID(B\" + row + \",4,2)\"\r\n",
                "        ws['F'+row] = \"=MID(B\" + row + \",7,4)\"\r\n",
                "        ws['G'+row] = \"100\"\r\n",
                "        ws['H'+row] = \"354\"\r\n",
                "        date_1 = \"DATE(F\"+row+\",E\"+ row + \",D\"+row+\"-G\" + row +\")\"\r\n",
                "        date_2 = \"DATE(F\"+row+\",E\"+ row + \",D\" + row +\")\"\r\n",
                "        new_date = date_1 + ',' +date_2\r\n",
                "        low_formula = '=min(index(query(sort(GOOGLEFINANCE(\"NSE:TATAPOWER\",\"low\",'+new_date +',\"WEEKLY\"),1,False),\"select *\",1),,2))'\r\n",
                "        date_1 = \"DATE(F\"+row+\",E\"+ row + \",D\"+row+\"-H\" + row +\")\"\r\n",
                "        new_date = date_1 + ',' +date_2\r\n",
                "        high_formula = '=max(index(query(sort(GOOGLEFINANCE(\"NSE:TATAPOWER\",\"high\",'+ new_date+ ',\"WEEKLY\"),1,False),\"select *\",1),,2))'\r\n",
                "        ws['I' + row] = low_formula\r\n",
                "        ws['J' + row] = high_formula\r\n",
                "            \r\n",
                "wb.save(\"2_weekly_company_list_with_formula.xlsx\")"
            ],
            "outputs": [],
            "metadata": {}
        },
        {
            "cell_type": "code",
            "execution_count": 45,
            "source": [
                "import openpyxl\r\n",
                "wb = openpyxl.load_workbook(\"D:\\studies\\stocks project\\Stocks-Project\\\\company_list.xlsx\")\r\n",
                "t_sum = 0\r\n",
                "for i in wb.sheetnames:\r\n",
                "    ws = wb[i]\r\n",
                "    # print(i)\r\n",
                "    # print(ws.max_row, str((55*(ws.max_row))+1))\r\n",
                "    t_sum += (55*ws.max_row)\r\n",
                "print(t_sum)"
            ],
            "outputs": [
                {
                    "output_type": "stream",
                    "name": "stdout",
                    "text": [
                        "52470\n"
                    ]
                }
            ],
            "metadata": {}
        },
        {
            "cell_type": "markdown",
            "source": [
                "1. After saving the changes, we upload the excel sheet to google sheets and all the values appear there. \r\n",
                "2. We then download the sheet with values and make a new dictionary of all companies with weekly prices"
            ],
            "metadata": {}
        },
        {
            "cell_type": "code",
            "execution_count": 34,
            "source": [
                "file_name = 'downloaded_weekly_company_list_with_formula.xlsx'\r\n",
                "comapany_data_with_prices = {}\r\n",
                "wb = openpyxl.load_workbook(file_name)\r\n",
                "for i in wb.sheetnames:\r\n",
                "    ws = wb[i]\r\n",
                "    comapany_data_with_prices[i] = pd.read_excel(file_name, sheet_name = i, engine = 'openpyxl')\r\n",
                "    # print(ws.max_row)\r\n",
                "    # break\r\n",
                "    for num in range(1, ws.max_row+1):\r\n",
                "        # print(i)\r\n",
                "        if num == 1:\r\n",
                "            # ws['C1'] = \"Close\"\r\n",
                "            ws['D1'] = \"Day\"\r\n",
                "            ws['E1'] = \"Month\"\r\n",
                "            ws['F1'] = \"Year\"\r\n",
                "            ws['G1'] = \"LowWeek\"\r\n",
                "            ws['H1'] = \"HighWeek\"\r\n",
                "            ws['I1'] = \"10_low\"\r\n",
                "            ws['J1'] = \"52_high\"\r\n",
                "        else:\r\n",
                "            row = str(num)\r\n",
                "            ws['D'+row] = \"=LEFT(B\" + row + \",LEN(B\" + row + \")-17)\"\r\n",
                "            ws['E'+row] = \"=MID(B\" + row + \",4,2)\"\r\n",
                "            ws['F'+row] = \"=MID(B\" + row + \",7,4)\"\r\n",
                "            ws['G'+row] = \"100\"\r\n",
                "            ws['H'+row] = \"354\"\r\n",
                "            date_1 = \"DATE(F\"+row+\",E\"+ row + \",D\"+row+\"-G\" + row +\")\"\r\n",
                "            date_2 = \"DATE(F\"+row+\",E\"+ row + \",D\" + row +\")\"\r\n",
                "            new_date = date_1 + ',' +date_2\r\n",
                "            low_formula = '=min(index(query(sort(GOOGLEFINANCE(\"NSE:TATAPOWER\",\"low\",'+new_date +',\"WEEKLY\"),1,False),\"select *\",1),,2))'\r\n",
                "            date_1 = \"DATE(F\"+row+\",E\"+ row + \",D\"+row+\"-H\" + row +\")\"\r\n",
                "            new_date = date_1 + ',' +date_2\r\n",
                "            high_formula = '=max(index(query(sort(GOOGLEFINANCE(\"NSE:TATAPOWER\",\"high\",'+ new_date+ ',\"WEEKLY\"),1,False),\"select *\",1),,2))'\r\n",
                "            ws['I' + row] = low_formula\r\n",
                "            ws['J' + row] = high_formula\r\n",
                "    # ws['']\r\n",
                "    wb.save('high_low_company_list_with_formula.xlsx')"
            ],
            "outputs": [],
            "metadata": {}
        },
        {
            "cell_type": "code",
            "execution_count": null,
            "source": [],
            "outputs": [],
            "metadata": {}
        }
    ],
    "metadata": {
        "orig_nbformat": 4,
        "language_info": {
            "name": "python",
            "version": "3.7.3",
            "mimetype": "text/x-python",
            "codemirror_mode": {
                "name": "ipython",
                "version": 3
            },
            "pygments_lexer": "ipython3",
            "nbconvert_exporter": "python",
            "file_extension": ".py"
        },
        "kernelspec": {
            "name": "python3",
            "display_name": "Python 3.7.3 64-bit ('base': conda)"
        },
        "interpreter": {
            "hash": "cc5f70855ac006f3de45a3cc3b9e7d8d53845e50458809cb162b0174266dec97"
        }
    },
    "nbformat": 4,
    "nbformat_minor": 2
}